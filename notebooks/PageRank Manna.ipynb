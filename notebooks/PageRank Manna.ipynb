{
  "cells": [
    {
      "cell_type": "code",
      "execution_count": null,
      "metadata": {
        "id": "Vypv4BvL1cgW"
      },
      "outputs": [],
      "source": [
        "%pip install pyspark"
      ]
    },
    {
      "cell_type": "code",
      "execution_count": 12,
      "metadata": {
        "id": "oPbuW3171fxD"
      },
      "outputs": [],
      "source": [
        "from pyspark.sql import SparkSession\n",
        "from pyspark.sql.functions import col, lit, udf, collect_list, explode, sum as spark_sum\n",
        "from pyspark.sql.types import ArrayType, FloatType, BooleanType, StructType, StructField, StringType\n",
        "import os\n",
        "import json\n",
        "from dotenv import dotenv_values"
      ]
    },
    {
      "cell_type": "code",
      "execution_count": 13,
      "metadata": {},
      "outputs": [
        {
          "data": {
            "text/plain": [
              "odict_items([('SPLIT_DATASET_DIR', '/dataset/splitupDataset'), ('LOG_DIR', '/Crawler/logs'), ('OUTPUT_DIR', '../Crawler/output'), ('SCRAPED_DATA', '../Crawler/output')])"
            ]
          },
          "execution_count": 13,
          "metadata": {},
          "output_type": "execute_result"
        }
      ],
      "source": [
        "config = dotenv_values(\"../.env\")\n",
        "config.items()"
      ]
    },
    {
      "cell_type": "markdown",
      "metadata": {
        "id": "4fSVs1BP14CD"
      },
      "source": [
        "**Graph Class**\n"
      ]
    },
    {
      "cell_type": "code",
      "execution_count": 2,
      "metadata": {
        "id": "DR6z6JpH1mDS"
      },
      "outputs": [],
      "source": [
        "class Graph:\n",
        "    def __init__(self):\n",
        "        self.graph = {}\n",
        "\n",
        "    def add_edge(self, u, v):\n",
        "        if u in self.graph:\n",
        "            self.graph[u].append(v)\n",
        "        else:\n",
        "            self.graph[u] = [v]\n",
        "dot\n",
        "    def __str__(self):\n",
        "        result = \"\"\n",
        "        for node, neighbors in self.graph.items():\n",
        "            result += f\"{node}: {neighbors}\\n\"\n",
        "        return result"
      ]
    },
    {
      "cell_type": "markdown",
      "metadata": {
        "id": "YwnORbd118qi"
      },
      "source": [
        "**Graph Builder**\n"
      ]
    },
    {
      "cell_type": "code",
      "execution_count": 3,
      "metadata": {
        "id": "00zMbmYy1ozS"
      },
      "outputs": [],
      "source": [
        "def build_graph_from_json_folder(folder_path):\n",
        "    graph = Graph()\n",
        "    print(\"Graph building started\")\n",
        "    for filename in os.listdir(folder_path):\n",
        "        if filename.endswith(\".json\"):\n",
        "            file_path = os.path.join(folder_path, filename)\n",
        "            with open(file_path, 'r') as file:\n",
        "                data = json.load(file)\n",
        "                page_name = data.get('url')\n",
        "                forward_links = data.get('forwardLinks', [])\n",
        "                if not forward_links:\n",
        "                    forward_links = [None]\n",
        "                for link in forward_links:\n",
        "                    graph.add_edge(page_name, link)\n",
        "    print(\"Graph building ended\")\n",
        "    return graph"
      ]
    },
    {
      "cell_type": "markdown",
      "metadata": {
        "id": "fJqa5NlA2DNa"
      },
      "source": [
        "**Page Rank**\n"
      ]
    },
    {
      "cell_type": "code",
      "execution_count": 4,
      "metadata": {
        "id": "DeJacehx1q8i"
      },
      "outputs": [],
      "source": [
        "def rank_dist(link_list, rank):\n",
        "    len_link_list = len(link_list)\n",
        "    if len_link_list > 0 and link_list[0] is not None:\n",
        "        rank = rank / len_link_list\n",
        "        r_list = [(x, rank) for x in link_list]\n",
        "    else:\n",
        "        r_list = [(\"DANGLING\", rank)]\n",
        "    return r_list\n",
        "\n",
        "inner_schema = StructType([\n",
        "    StructField(\"uri_id\", StringType(), False),\n",
        "    StructField(\"rank\", FloatType(), False)\n",
        "])\n",
        "\n",
        "ranks_dist_udf = udf(rank_dist, ArrayType(inner_schema))"
      ]
    },
    {
      "cell_type": "code",
      "execution_count": 5,
      "metadata": {
        "id": "GruUEf0m1t8r"
      },
      "outputs": [],
      "source": [
        "def run(graph, alpha=0.15, convergence=0.01):\n",
        "    edge_info = [(src, dst) for src, dst_list in graph.graph.items() for dst in dst_list]\n",
        "    spark = SparkSession.builder.appName(\"PageRank\").getOrCreate()\n",
        "    print(\"Start Spark session\")\n",
        "    edges_df = spark.createDataFrame(edge_info, ['src', 'dst'])\n",
        "\n",
        "    dataframe_ranked = edges_df\\\n",
        "        .groupby('src')\\\n",
        "        .agg(collect_list('dst').alias('dst_list'))\\\n",
        "        .withColumnRenamed('src', 'uri_id')\n",
        "\n",
        "    dataframe_ranked = dataframe_ranked.withColumn('rank', lit(1.0 / dataframe_ranked.count()))\n",
        "\n",
        "    n_nodes = dataframe_ranked.count()\n",
        "    i = 0\n",
        "    checkpoint_dir = 'checkpoint_directory'  # Ensure this directory exists\n",
        "    spark.sparkContext.setCheckpointDir(checkpoint_dir)\n",
        "    while True:\n",
        "        dataframe_ranked.cache()\n",
        "\n",
        "        ranks_one_df = dataframe_ranked.withColumn(\n",
        "            'link_map_pr', ranks_dist_udf('dst_list', 'rank'))\n",
        "        ranks_one_df = ranks_one_df.select(\n",
        "            explode('link_map_pr').alias('exploded'))\n",
        "        ranks_one_df = ranks_one_df\\\n",
        "            .withColumn('dst_id', ranks_one_df['exploded'].getItem('uri_id'))\\\n",
        "            .withColumn('rank_i', ranks_one_df['exploded'].getItem('rank'))\\\n",
        "            .drop('exploded')\n",
        "\n",
        "        ranks_one_df = ranks_one_df\\\n",
        "            .groupby('dst_id')\\\n",
        "            .sum('rank_i')\\\n",
        "            .withColumnRenamed('sum(rank_i)', 'rank_i')\n",
        "\n",
        "        dataframe_ranked = dataframe_ranked\\\n",
        "            .join(ranks_one_df, dataframe_ranked['uri_id'] == ranks_one_df['dst_id'], 'outer')\\\n",
        "            .drop('dst_id')\n",
        "\n",
        "        dangling_rank = dataframe_ranked\\\n",
        "            .filter(dataframe_ranked.uri_id == \"DANGLING\")\\\n",
        "            .select(spark_sum('rank_i'))\\\n",
        "            .first()[0]\n",
        "\n",
        "        dataframe_ranked = dataframe_ranked.filter(dataframe_ranked.uri_id != \"DANGLING\")\n",
        "\n",
        "        if dangling_rank:\n",
        "            dist_alpha = ((dangling_rank / n_nodes) * (1 - alpha)) + alpha\n",
        "        else:\n",
        "            dist_alpha = alpha\n",
        "\n",
        "        sum_alpha_and_pr_udf = udf(lambda x: (x * (1 - alpha)) + dist_alpha, FloatType())\n",
        "        dataframe_ranked = dataframe_ranked.na.fill(0, ['rank_i'])\n",
        "        dataframe_ranked = dataframe_ranked.withColumn('rank_i', sum_alpha_and_pr_udf('rank_i'))\n",
        "\n",
        "        convergence_udf = udf(lambda rank_i, rank: abs(rank_i - rank) <= convergence, BooleanType())\n",
        "        dataframe_ranked = dataframe_ranked.withColumn('convergence', convergence_udf('rank', 'rank_i'))\n",
        "        count_not_converged = dataframe_ranked.filter(dataframe_ranked.convergence == False).count()\n",
        "        dataframe_ranked = dataframe_ranked.drop('convergence').drop('rank').withColumnRenamed('rank_i', 'rank')\n",
        "\n",
        "        dataframe_ranked = dataframe_ranked.checkpoint()\n",
        "\n",
        "        if count_not_converged == 0:\n",
        "            print(\"All nodes convergend according to the given criteria\")\n",
        "            break\n",
        "        else:\n",
        "            print(f'Nodes not yet converged: {count_not_converged}')\n",
        "\n",
        "        i += 1\n",
        "\n",
        "    output_graph = {}\n",
        "    for row in dataframe_ranked.collect():\n",
        "        output_graph[row['uri_id']] = row['rank']\n",
        "\n",
        "    return output_graph"
      ]
    },
    {
      "cell_type": "markdown",
      "metadata": {
        "id": "viEfJqJq2Jii"
      },
      "source": [
        "**Driver Code**\n"
      ]
    },
    {
      "cell_type": "code",
      "execution_count": 14,
      "metadata": {
        "id": "D08g_15c10qa"
      },
      "outputs": [
        {
          "name": "stdout",
          "output_type": "stream",
          "text": [
            "Graph building started\n",
            "Graph building ended\n",
            "Start ranking\n",
            "Start Spark session\n"
          ]
        },
        {
          "name": "stderr",
          "output_type": "stream",
          "text": [
            "                                                                                \r"
          ]
        },
        {
          "name": "stdout",
          "output_type": "stream",
          "text": [
            "Nodes not yet converged: 1085\n"
          ]
        },
        {
          "name": "stderr",
          "output_type": "stream",
          "text": [
            "                                                                                \r"
          ]
        },
        {
          "name": "stdout",
          "output_type": "stream",
          "text": [
            "Nodes not yet converged: 11\n"
          ]
        },
        {
          "name": "stderr",
          "output_type": "stream",
          "text": [
            "                                                                                \r"
          ]
        },
        {
          "name": "stdout",
          "output_type": "stream",
          "text": [
            "All nodes convergend according to the given criteria\n",
            "PageRank Results:\n",
            "{'https://usgs.gov': 0.15000000596046448, 'https://012mail.net': 0.15000000596046448, 'https://1abc.org': 0.15000000596046448, 'https://1377x.is': 0.15000000596046448, 'https://112meldingen.nl': 0.15000000596046448, 'https://10times.com': 0.15000000596046448, 'https://1001fontsfree.com': 0.15000000596046448, 'https://050644zf.github.io': 0.15000000596046448, 'https://12andus.com': 0.15000000596046448, 'https://untappd.com': 0.15000000596046448, 'https://archiveofourown.org': 0.15000000596046448, 'https://01xz.net': 0.15000000596046448, 'https://234ag.net': 0.15000000596046448, 'https://0xcb.dev': 0.15000000596046448, 'https://101travel.ru': 0.15000000596046448, 'https://17yly.com': 0.15000000596046448, 'https://1cbit.ru': 0.15000000596046448, 'https://100megabit.ru': 0.15000000596046448, 'https://022022.net': 0.15000000596046448, 'https://28klotlucas2.github.io': 0.15000000596046448, 'https://1-23movies.cc': 0.15000000596046448, 'https://123movies.ai': 0.15000000596046448, 'https://100percent.co.nz': 0.15000000596046448, 'https://100sub53.blogspot.com': 0.15000000596046448, 'https://2-2wear.com': 0.15000000596046448, 'https://18mag.net': 0.15000000596046448, 'https://25maj.edu.mk': 0.15000000596046448, 'https://12-18.com': 0.15000000596046448, 'https://101convert.com': 0.15000000596046448, 'https://123-tarot.com': 0.15000000596046448, 'https://1bh4v4e.cn': 0.15000000596046448, 'https://000directory.com.ar': 0.15000000596046448, 'https://100searchengines.com': 0.15000000596046448, 'https://10to8.com': 0.15000000596046448, 'https://wordreference.com': 0.15000000596046448, 'https://19tv.org': 0.15000000596046448, 'https://1001fonts.com': 0.15000000596046448, 'https://101superweb.com': 0.15000000596046448, 'https://178yqcr.com': 0.15000000596046448, 'https://112tychy.pl': 0.15000000596046448, 'https://psychologytoday.com': 0.15000000596046448, 'https://1win-pay.com': 0.15000000596046448, 'https://113kp.com': 0.15000000596046448, 'https://1847884116.rsc.cdn77.org': 0.15000000596046448, 'https://247phim.com': 0.15000000596046448, 'https://100oaks.blog': 0.15000000596046448, 'https://1800accountant.com': 0.15000000596046448, 'https://100hotgames.com': 0.15000000596046448, 'https://101tubeporn.com': 0.15000000596046448, 'https://tripadvisor.com.au': 0.15000000596046448, 'https://1004easy.com': 0.15000000596046448, 'https://123-kaminofen.de': 0.15000000596046448, 'https://247livesupport.biz': 0.15000000596046448, 'https://pngtree.com': 0.15000000596046448, 'https://18read.net': 0.15000000596046448, 'https://1st-social.com': 0.15000000596046448, 'https://1qatarjobs.com': 0.15000000596046448, 'https://15lovingclub.com': 0.15000000596046448, 'https://1tamilmv.fans': 0.15000000596046448, 'https://0-orb.net': 0.15000000596046448, 'https://state.mn.us': 0.15000000596046448, 'https://metafilter.com': 0.15000000596046448, 'https://1377x.to': 0.15000000596046448, 'https://101dentist.com': 0.15000000596046448, 'https://1337xxx.to': 0.15000000596046448, 'https://123b01.com': 0.15000000596046448, 'https://112.be': 0.15000000596046448, 'https://1api.net': 0.15000000596046448, 'https://lifewire.com': 0.15000000596046448, 'https://texas.gov': 0.15000000596046448, 'https://100gecs.com': 0.15000000596046448, 'https://11x11.ru': 0.15000000596046448, 'https://1stopinstruction.com': 0.15000000596046448, 'https://12knots.com': 0.15000000596046448, 'https://123movies-org.site': 0.15000000596046448, 'https://investopedia.com': 0.15000000596046448, 'https://01beton.ru': 0.15000000596046448, 'https://0xzn.com': 0.15000000596046448, 'https://189.cn': 0.15000000596046448, 'https://159i.com': 0.15000000596046448, 'https://1ml.com': 0.15000000596046448, 'https://100kshoutouts.com': 0.15000000596046448, 'https://123movies-official.net': 0.15000000596046448, 'https://10stunninghomes.com': 0.15000000596046448, 'https://1728.org': 0.15000000596046448, 'https://123moviesgo.club': 0.15000000596046448, 'https://1lnk.one': 0.15000000596046448, 'https://1337x.to': 0.15000000596046448, 'https://234winderstinn.com': 0.15000000596046448, 'https://123clickz.com': 0.15000000596046448, 'https://18dreams.net': 0.15000000596046448, 'https://210dalmatians.com': 0.15000000596046448, 'https://southernliving.com': 0.15000000596046448, 'https://1080zyk1.com': 0.15000000596046448, 'https://1112122111121221.tumblr.com': 0.15000000596046448, 'https://1ce.org': 0.15000000596046448, 'https://188dota.com': 0.15000000596046448, 'https://10001downloads.net': 0.15000000596046448, 'https://libguides.com': 0.15000000596046448, 'https://1853721.xyz': 0.15000000596046448, 'https://10short.com': 0.15000000596046448, 'https://1234wu.com': 0.15000000596046448, 'https://18tube.xxx': 0.15000000596046448, 'https://hinkhoj.com': 0.15000000596046448, 'https://10-pharm.com': 0.15000000596046448, 'https://24hourprint.com': 0.15000000596046448, 'https://24directory.com.ar': 0.15000000596046448, 'https://zara.com': 0.15000000596046448, 'https://19lucas66.wixsite.com': 0.15000000596046448, 'https://1d-heardle.glitch.me': 0.15000000596046448, 'https://12.kz': 0.15000000596046448, 'https://260mb.net': 0.15000000596046448, 'https://kiddle.co': 0.15000000596046448, 'https://1word.ws': 0.15000000596046448, 'https://1818.hu': 0.15000000596046448, 'https://1v1-lol.translate.goog': 0.15000000596046448, 'https://10bet.com': 0.15000000596046448, 'https://1337.no': 0.15000000596046448, 'https://0gomovies.sk': 0.15000000596046448, 'https://1jili.net': 0.15000000596046448, 'https://1upsexer.com': 0.15000000596046448, 'https://13dl.net': 0.15000000596046448, 'https://hse.ie': 0.15000000596046448, 'https://1001annonces.net': 0.15000000596046448, 'https://1keydata.com': 0.15000000596046448, 'https://0day.work': 0.15000000596046448, 'https://0magnet.com': 0.15000000596046448, 'https://thespruceeats.com': 0.15000000596046448, 'https://111036.com': 0.15000000596046448, 'https://1387905758.rsc.cdn77.org': 0.15000000596046448, 'https://1hotelrez.com': 0.15000000596046448, 'https://136.la': 0.15000000596046448, 'https://1eco.com': 0.15000000596046448, 'https://10wontips.blogspot.com': 0.15000000596046448, 'https://1985games.com': 0.15000000596046448, 'https://pixabay.com': 0.15000000596046448, 'https://1881.com': 0.15000000596046448, 'https://1push.io': 0.15000000596046448, 'https://2007rshelp.com': 0.15000000596046448, 'https://12m.xyz': 0.15000000596046448, 'https://13b06e.myshopify.com': 0.15000000596046448, 'https://1lib.education': 0.15000000596046448, 'https://pngegg.com': 0.15000000596046448, 'https://0v0.games': 0.15000000596046448, 'https://1000xresist.com': 0.15000000596046448, 'https://1stdomains.nz': 0.15000000596046448, 'https://1dg.me': 0.15000000596046448, 'https://101bookmark.com': 0.15000000596046448, 'https://123moviefree.sc': 0.15000000596046448, 'https://123-movies.club': 0.15000000596046448, 'https://2021tao.com': 0.15000000596046448, 'https://141jav.com': 0.15000000596046448, 'https://17lands.com': 0.15000000596046448, 'https://14k.ru': 0.15000000596046448, 'https://1001eroset.ru': 0.15000000596046448, 'https://2022outlawmusicfestival.com': 0.15000000596046448, 'https://100noticias.com.ni': 0.15000000596046448, 'https://18cute.net': 0.15000000596046448, 'https://18183.cn': 0.15000000596046448, 'https://1chart.nz': 0.15000000596046448, 'https://24segons.es': 0.15000000596046448, 'https://1tamilmv.run': 0.15000000596046448, 'https://wikimedia.org': 0.15000000596046448, 'https://113366.com': 0.15000000596046448, 'https://linguee.fr': 0.15000000596046448, 'https://24days.in': 0.15000000596046448, 'https://0internet0.top': 0.15000000596046448, 'https://10directory.info': 0.15000000596046448, 'https://19j08.xyz': 0.15000000596046448, 'https://11x256.github.io': 0.15000000596046448, 'https://marthastewart.com': 0.15000000596046448, 'https://18birdies.com': 0.15000000596046448, 'https://1001beach.com': 0.15000000596046448, 'https://1jour1film.top': 0.15000000596046448, 'https://2020squake.blogspot.com': 0.15000000596046448, 'https://123moviesfree.icu': 0.15000000596046448, 'https://theguardian.com': 0.15000000596046448, 'https://01.ma': 0.15000000596046448, 'https://100devsfollowalong.netlify.app': 0.15000000596046448, 'https://steampowered.com': 0.15000000596046448, 'https://1malayalamsexvideo.com': 0.15000000596046448, 'https://1508.dk': 0.15000000596046448, 'https://1-11.com.au': 0.15000000596046448, 'https://10heroes.cn': 0.15000000596046448, 'https://04-25297229.weebly.com': 0.15000000596046448, 'https://www.gob.mx': 0.15000000596046448, 'https://0kal38g35ctc.top': 0.15000000596046448, 'https://19miracles.blogspot.com': 0.15000000596046448, 'https://148-251-180-144.xyz': 0.15000000596046448, 'https://1ty.me': 0.15000000596046448, 'https://29daoaa.com': 0.15000000596046448, 'https://voanews.com': 0.15000000596046448, 'https://lyricstranslate.com': 0.15000000596046448, 'https://21lab.co': 0.15000000596046448, 'https://ca.gov': 0.15000000596046448, 'https://20hourrule.com': 0.15000000596046448, 'https://1rre.ru': 0.15000000596046448, 'https://15.ai': 0.15000000596046448, 'https://18dy.me': 0.15000000596046448, 'https://24c013.myshopify.com': 0.15000000596046448, 'https://19011.tel': 0.15000000596046448, 'https://www.nhs.uk': 0.15098077058792114, 'https://123series.io': 0.15000000596046448, 'https://16seats.net': 0.15000000596046448, 'https://101society.com': 0.15000000596046448, 'https://21-bal.com': 0.15000000596046448, 'https://123movies.wiki': 0.15000000596046448, 'https://123lease.nl': 0.15000000596046448, 'https://10proga.ru': 0.15000000596046448, 'https://16175.com': 0.15000000596046448, 'https://123patiens.se': 0.15000000596046448, 'https://23055.ir': 0.15000000596046448, 'https://18porn.link': 0.15000000596046448, 'https://127mall.xyz': 0.15000000596046448, 'https://123timer.com': 0.15000000596046448, 'https://1960tips.com': 0.15000000596046448, 'https://1609ab.myshopify.com': 0.15000000596046448, 'https://1lib.us': 0.15000000596046448, 'https://filmaffinity.com': 0.15000000596046448, 'https://1asmr.xyz': 0.16821429133415222, 'https://travelandleisure.com': 0.15000000596046448, 'https://1nightrent.com.au': 0.15000000596046448, 'https://13dl.to': 0.15000000596046448, 'https://10cricmedia.com': 0.15000000596046448, 'https://05wang.com': 0.15000000596046448, 'https://101desires.com': 0.15000000596046448, 'https://pinkvilla.com': 0.15000000596046448, 'https://247gamespro.com': 0.15000000596046448, 'https://14ers.com': 0.15000000596046448, 'https://012mobile.co.il': 0.15000000596046448, 'https://1stdomains.co.nz': 0.15000000596046448, 'https://1337xx.to': 0.15000000596046448, 'https://24bursa.com': 0.15000000596046448, 'https://verywellhealth.com': 0.15000000596046448, 'https://commonsensemedia.org': 0.15000000596046448, 'https://nordstrom.com': 0.15000000596046448, 'https://1clancer.ru': 0.15000000596046448, 'https://worldbank.org': 0.15000000596046448, 'https://0eb.com': 0.15000000596046448, 'https://1stnationaladvisors.com': 0.15000000596046448, 'https://123moviesflix.xyz': 0.15000000596046448, 'https://britannica.com': 0.15000000596046448, 'https://141ppv.com': 0.15000000596046448, 'https://123sdfsdfsdfsd.ru': 0.15000000596046448, 'https://1zp.cn': 0.15000000596046448, 'https://137pillarshotels.com': 0.15000000596046448, 'https://24-7consultancy.info': 0.15000000596046448, 'https://mo.gov': 0.15000000596046448, 'https://111supjav.xyz': 0.15000000596046448, 'https://123-runes.com': 0.15000000596046448, 'https://25431010.tw': 0.15000000596046448, 'https://101novel.com': 0.15000000596046448, 'https://10thclassresullts.blogspot.com': 0.15000000596046448, 'https://redbubble.com': 0.15000000596046448, 'https://0bb.ru': 0.15000000596046448, 'https://24-7hunt.myshopify.com': 0.15000000596046448, 'https://byjus.com': 0.15000000596046448, 'https://123series.bz': 0.15000000596046448, 'https://pinterest.ca': 0.15000000596046448, 'https://byrdie.com': 0.15000000596046448, 'https://123dj.com': 0.15000000596046448, 'https://1234movies.me': 0.15000000596046448, 'https://2aportal.com': 0.15000000596046448, 'https://10best-vpn.com': 0.15000000596046448, 'https://0data.fr': 0.15000000596046448, 'https://123movies10.com': 0.15000000596046448, 'https://180upload.com': 0.15000000596046448, 'https://1stheadlines.com': 0.15000000596046448, 'https://0x2c.org': 0.15000000596046448, 'https://kidshealth.org': 0.15000000596046448, 'https://2022-a3-2022-a3-group-6-git-dev-group6-confused.vercel.app': 0.15000000596046448, 'https://oup.com': 0.15000000596046448, 'https://2008php.com': 0.15000000596046448, 'https://19bestme.com': 0.15000000596046448, 'https://fandom.com': 0.15000000596046448, 'https://1001pochta.ru': 0.15000000596046448, 'https://encyclopedia.com': 0.15000000596046448, 'https://10adventures.com': 0.15000000596046448, 'https://123moviesgo.ac': 0.15000000596046448, 'https://17-minute-world-languages.com': 0.15000000596046448, 'https://1stwave.co.nz': 0.15000000596046448, 'https://25fps.hr': 0.15000000596046448, 'https://16c8nh2801z2.top': 0.15000000596046448, 'https://2022gadgets.com': 0.15000000596046448, 'https://100883.com': 0.15000000596046448, 'https://123movies2022.com': 0.15000000596046448, 'https://10googol.org': 0.15000000596046448, 'https://144tehranpharmacy.com': 0.15000000596046448, 'https://10web.io': 0.15000000596046448, 'https://1yuridicheskaya-konsultaciya.ru': 0.15000000596046448, 'https://169tp.com': 0.15000000596046448, 'https://123moviesg.com': 0.15000000596046448, 'https://wordpress.com': 0.6175000071525574, 'https://verywellfit.com': 0.15000000596046448, 'https://050.hk': 0.15000000596046448, 'https://123movie.mn': 0.15000000596046448, 'https://0dxxx.com': 0.15000000596046448, 'https://18yos.co': 0.15000000596046448, 'https://rome2rio.com': 0.15000000596046448, 'https://1dubaijobs.com': 0.15000000596046448, 'https://1001freefonts.com': 0.15000000596046448, 'https://1402.com': 0.15000000596046448, 'https://1ts18.top': 0.15000000596046448, 'https://100hs.org': 0.15000000596046448, 'https://jstor.org': 0.15000000596046448, 'https://247games.mobi': 0.15000000596046448, 'https://1dwnld.xyz': 0.15000000596046448, 'https://141jj.com': 0.15000000596046448, 'https://cbr.com': 0.15000000596046448, 'https://1arthouse.wordpress.com': 0.15000000596046448, 'https://foodandwine.com': 0.15000000596046448, 'https://merckmanuals.com': 0.15000000596046448, 'https://1-ig--klettern--niedersachsen-de.translate.goog': 0.15000000596046448, 'https://heb.com': 0.15000000596046448, 'https://123cashfunds.com': 0.15000000596046448, 'https://msn.com': 0.15000000596046448, 'https://1fromyouflowers.com': 0.15000000596046448, 'https://123series.com': 0.15000000596046448, 'https://menards.com': 0.15000000596046448, 'https://1337xvpn.com': 0.15000000596046448, 'https://statista.com': 0.15000000596046448, 'https://123movies-official.site': 0.15000000596046448, 'https://1nn.site': 0.15000000596046448, 'https://123movieshubtc.tumblr.com': 0.15000000596046448, 'https://24cd.pl': 0.15000000596046448, 'https://1orn365.me': 0.15000000596046448, 'https://1onebet.com': 0.15000000596046448, 'https://09dental.com': 0.15000000596046448, 'https://1800d2c.com': 0.15000000596046448, 'https://1kevinson.com': 0.15000000596046448, 'https://123moviesto.to': 0.15000000596046448, 'https://songfacts.com': 0.15000000596046448, 'https://1080zyk3.com': 0.15000000596046448, 'https://100nn.site': 0.15000000596046448, 'https://1v1.design': 0.15000000596046448, 'https://12stepvideos.com': 0.15000000596046448, 'https://22doll.com': 0.15000000596046448, 'https://24-info.pro': 0.15000000596046448, 'https://020.co.uk': 0.15000000596046448, 'https://0123456789.tw': 0.15000000596046448, 'https://gaana.com': 0.15000000596046448, 'https://collider.com': 0.15000000596046448, 'https://testbook.com': 0.15000000596046448, 'https://123moviestv.me': 0.15000000596046448, 'https://1lib.sk': 0.15000000596046448, 'https://123moviesfree.blog': 0.15000000596046448, 'https://educalingo.com': 0.15000000596046448, 'https://1402.xyz': 0.15000000596046448, 'https://1six8-biz.vercel.app': 0.15000000596046448, 'https://123movieshub.tc': 0.15000000596046448, 'https://123apps.com': 0.15000000596046448, 'https://20four7va.co': 0.15000000596046448, 'https://instagram.com': 0.32404762506484985, 'https://004movie.blogspot.com': 0.15000000596046448, 'https://24fa8.com': 0.15000000596046448, 'https://1outlets.tw': 0.15000000596046448, 'https://0xx0.nl': 0.15000000596046448, 'https://123moviesgo.ga': 0.15000000596046448, 'https://1040paytax.com': 0.15000000596046448, 'https://mapcarta.com': 0.15000000596046448, 'https://justanswer.com': 0.15000000596046448, 'https://0gomovies.ac': 0.15000000596046448, 'https://scribd.com': 0.15000000596046448, 'https://15thfar.org': 0.15000000596046448, 'https://10fastfingers.com': 0.15000000596046448, 'https://10citi.com': 0.15000000596046448, 'https://123movies-ca.com': 0.15000000596046448, 'https://1fit.app': 0.15000000596046448, 'https://1maps.ru': 0.15000000596046448, 'https://123movies.top': 0.15000000596046448, 'https://1paypg.in': 0.15000000596046448, 'https://11aeinbox.com': 0.15000000596046448, 'https://100meshkov.ru': 0.15000000596046448, 'https://1ts19.top': 0.15000000596046448, 'https://175dr.com': 0.15000000596046448, 'https://1secret.myshopify.com': 0.15000000596046448, 'https://10e12.net': 0.15000000596046448, 'https://1581786557.rsc.cdn77.org': 0.15000000596046448, 'https://hopkinsmedicine.org': 0.15000000596046448, 'https://france24.com': 0.15000000596046448, 'https://123laundryshop.com': 0.15000000596046448, 'https://seamless.com': 0.15000000596046448, 'https://spotify.com': 0.15000000596046448, 'https://signalhire.com': 0.15000000596046448, 'https://1001scenaristes.com': 0.15000000596046448, 'https://13dl.me': 0.15000000596046448, 'https://autoblog.com': 0.15000000596046448, 'https://tradingview.com': 0.15000000596046448, 'https://1337x.tw': 0.15000000596046448, 'https://umn.edu': 0.15000000596046448, 'https://1promoter.com': 0.15000000596046448, 'https://18pornvideos.net': 0.15000000596046448, 'https://screenrant.com': 0.15000000596046448, 'https://1lib.limited': 0.15000000596046448, 'https://1stream.top': 0.15000000596046448, 'https://tripsavvy.com': 0.15000000596046448, 'https://123movies.ski': 0.15000000596046448, 'https://1abakan.ru': 0.15000000596046448, 'https://apkpure.com': 0.15000000596046448, 'https://gymglish.com': 0.15000000596046448, 'https://ox.ac.uk': 0.15000000596046448, 'https://1over1.net': 0.15000000596046448, 'https://1234movies.club': 0.15000000596046448, 'https://10starhd.guru': 0.15000000596046448, 'https://thespruce.com': 0.15000000596046448, 'https://1midwayusa.com': 0.15000000596046448, 'https://13800138002.com': 0.15000000596046448, 'https://1150-auto.com': 0.15000000596046448, 'https://1boyz.com': 0.15000000596046448, 'https://20icipp.com': 0.15000000596046448, 'https://1001monngonmoingay.com': 0.15000000596046448, 'https://045o0-my.sharepoint.com': 0.15000000596046448, 'https://100p.nl': 0.15000000596046448, 'https://1io.com': 0.15000000596046448, 'https://samsclub.com': 0.15000000596046448, 'https://kwai.com': 0.15000000596046448, 'https://123moviesfree.fun': 0.15000000596046448, 'https://hamiltonplace.com': 0.15000000596046448, 'https://123moviesfox.co': 0.15000000596046448, 'https://123nhadatviet.com': 0.15000000596046448, 'https://123face.net': 0.15000000596046448, 'https://1cliquesystems.com': 0.15000000596046448, 'https://1techno.org': 0.15000000596046448, 'https://18p.fun': 0.15000000596046448, 'https://1099express.com': 0.15000000596046448, 'https://1redpaperclip.com': 0.15000000596046448, 'https://019sms.co.il': 0.15000000596046448, 'https://1doc.com.br': 0.15000000596046448, 'https://1da.ir': 0.15000000596046448, 'https://18plus-online.com': 0.15000000596046448, 'https://18c4d0.myshopify.com': 0.15000000596046448, 'https://sagepub.com': 0.15000000596046448, 'https://1lyoptions.com': 0.15000000596046448, 'https://10starsfashion.myshopify.com': 0.15000000596046448, 'https://issuu.com': 0.15000000596046448, 'https://114gundam.co.kr': 0.15000000596046448, 'https://123clk.co': 0.15000000596046448, 'https://2aindustries.wordpress.com': 0.15000000596046448, 'https://ebay.com': 0.15000000596046448, 'https://1st-art-gallery.com': 0.15000000596046448, 'https://256h.com': 0.15000000596046448, 'https://0to255.com': 0.15000000596046448, 'https://1stopwebsitesolution.com': 0.15000000596046448, 'https://123movie.tel': 0.15000000596046448, 'https://18sexing.com': 0.15000000596046448, 'https://stackexchange.com': 0.15000000596046448, 'https://tripadvisor.it': 0.15000000596046448, 'https://etymonline.com': 0.15000000596046448, 'https://2048btbt.xyz': 0.15000000596046448, 'https://1902software.com': 0.15000000596046448, 'https://123apotek.no': 0.15000000596046448, 'https://tripadvisor.co.uk': 0.15000000596046448, 'https://123movieson.to': 0.15000000596046448, 'https://nina.az': 0.15000000596046448, 'https://100x.vc': 0.15000000596046448, 'https://1dc810.myshopify.com': 0.15000000596046448, 'https://dreamstime.com': 0.15000000596046448, 'https://1kmovies.biz': 0.15000000596046448, 'https://2022onlinecheap.ru': 0.15000000596046448, 'https://100daysofpython.dev': 0.15000000596046448, 'https://12xlwin1m.net': 0.15000000596046448, 'https://roku.com': 0.15000000596046448, 'https://101movies.fun': 0.15000000596046448, 'https://collinsdictionary.com': 0.15000000596046448, 'https://1o.se': 0.15000000596046448, 'https://17track.myshopify.com': 0.15000000596046448, 'https://1000minds.com': 0.15000000596046448, 'https://180parkapartments.com': 0.15000000596046448, 'https://10bestantivirusproviders.com': 0.15000000596046448, 'https://123chill.cc': 0.15000000596046448, 'https://10chairs.com': 0.15000000596046448, 'https://11011110.github.io': 0.15000000596046448, 'https://10015.io': 0.15000000596046448, 'https://10drives.com': 0.15000000596046448, 'https://1stplaceupworktests.blogspot.com': 0.15000000596046448, 'https://1080hdfilmizle.com': 0.15000000596046448, 'https://allrecipes.com': 0.15000000596046448, 'https://27stars.co.uk': 0.15000000596046448, 'https://thoughtco.com': 0.15000000596046448, 'https://1sudoku.com': 0.15000000596046448, 'https://1point3acres.com': 0.15000000596046448, 'https://1100ad.com': 0.15000000596046448, 'https://17sex.vip': 0.15000000596046448, 'https://1publicagent.com': 0.15000000596046448, 'https://1bwxs.com': 0.15000000596046448, 'https://nih.gov': 0.15000000596046448, 'https://1xnews.xyz': 0.15000000596046448, 'https://021-nekretnine.rs': 0.15000000596046448, 'https://1001games.com': 0.15000000596046448, 'https://biomedcentral.com': 0.15000000596046448, 'https://12zay.com': 0.15000000596046448, 'https://21blanche.com': 0.15000000596046448, 'https://1000dosok.info': 0.15000000596046448, 'https://123movieshub.uno': 0.15000000596046448, 'https://20minutes.fr': 0.15000000596046448, 'https://12bt.cc': 0.15000000596046448, 'https://2b2t.com.de': 0.15000000596046448, 'https://1vag.com': 0.15000000596046448, 'https://indiamart.com': 0.15000000596046448, 'https://215sozvezdie.ru': 0.15000000596046448, 'https://dribbble.com': 0.15000000596046448, 'https://12edit.ru': 0.15000000596046448, 'https://11novosti.ru': 0.15000000596046448, 'https://21.tv': 0.15000000596046448, 'https://0-100k.com': 0.15000000596046448, 'https://0cili.org': 0.15000000596046448, 'https://22pixx.xyz': 0.15000000596046448, 'https://wikipedia.org': 0.15000000596046448, 'https://0098sms.com': 0.15000000596046448, 'https://instyle.com': 0.15000000596046448, 'https://18jp.fun': 0.15000000596046448, 'https://1xbet359348.top': 0.15000000596046448, 'https://pharmeasy.in': 0.15000000596046448, 'https://122movies.blogspot.com': 0.15000000596046448, 'https://shazam.com': 0.15000000596046448, 'https://0a8d87mlbcac.top': 0.15000000596046448, 'https://14cb0e.myshopify.com': 0.15000000596046448, 'https://istockphoto.com': 0.15000000596046448, 'https://123.ma': 0.15000000596046448, 'https://24htopnews.net': 0.15000000596046448, 'https://1bet168.com': 0.15000000596046448, 'https://1-al--mounir-com.translate.goog': 0.15000000596046448, 'https://1library.net': 0.15000000596046448, 'https://wikiwand.com': 0.15000000596046448, 'https://123faz.com': 0.15000000596046448, 'https://1324hyc4.xyz': 0.15000000596046448, 'https://00ff00.de': 0.15000000596046448, 'https://waze.com': 0.15000000596046448, 'https://umich.edu': 0.15000000596046448, 'https://123-movies.vc': 0.15000000596046448, 'https://1fichier.com': 0.15000000596046448, 'https://19east.com': 0.15000000596046448, 'https://1seramik.com': 0.15000000596046448, 'https://2067.info': 0.15000000596046448, 'https://12magicclick.com': 0.15000000596046448, 'https://11pets.com': 0.15000000596046448, 'https://23hq.com': 0.15000000596046448, 'https://1wiwil.top': 0.15000000596046448, 'https://illinois.edu': 0.15000000596046448, 'https://1929modelaford.blogspot.com': 0.15000000596046448, 'https://1billionlinks.com': 0.15000000596046448, 'https://0xprocessing.com': 0.15000000596046448, 'https://sportskeeda.com': 0.15000000596046448, 'https://1st.com': 0.15000000596046448, 'https://glosbe.com': 0.15000000596046448, 'https://1-fs--stadium-com.translate.goog': 0.15000000596046448, 'https://1stservicebank.com': 0.15000000596046448, 'https://123movies0.online': 0.15000000596046448, 'https://247inktoner.com': 0.15000000596046448, 'https://0goembed.com': 0.15000000596046448, 'https://genius.com': 0.15000000596046448, 'https://verywellmind.com': 0.15000000596046448, 'https://1monatewakasi.wordpress.com': 0.15000000596046448, 'https://independent.co.uk': 0.15000000596046448, 'https://1jubt.top': 0.15000000596046448, 'https://1bb.ru': 0.15000000596046448, 'https://0day.today': 0.15000000596046448, 'https://vimeo.com': 0.21064423024654388, 'https://140online.com': 0.15000000596046448, 'https://0gomovies.so': 0.15000000596046448, 'https://144-217-180-113.xyz': 0.15000000596046448, 'https://zazzle.com': 0.15000000596046448, 'https://mayoclinic.org': 0.15000000596046448, 'https://lingvanex.com': 0.15000000596046448, 'https://101weiqi.com': 0.15000000596046448, 'https://17ebook.com': 0.15000000596046448, 'https://12storeez.com': 0.15000000596046448, 'https://0x3.com': 0.15000000596046448, 'https://0xcheats.net': 0.15000000596046448, 'https://12-kanal.ru': 0.15000000596046448, 'https://1024.no': 0.15000000596046448, 'https://136888.com': 0.15000000596046448, 'https://1c-umi.ru': 0.15000000596046448, 'https://10directory.com': 0.15000000596046448, 'https://grubhub.com': 0.15000000596046448, 'https://redalyc.org': 0.15000000596046448, 'https://1dispatch.com': 0.15000000596046448, 'https://1sourcecodr.blogspot.com': 0.15000000596046448, 'https://123moviesto.la': 0.15000000596046448, 'https://100daychallenge.com': 0.15000000596046448, 'https://09djankezova70.wixsite.com': 0.15000000596046448, 'https://191e.com': 0.15000000596046448, 'https://123anime.to': 0.15000000596046448, 'https://ucla.edu': 0.15000000596046448, 'https://1821manmade.com': 0.15000000596046448, 'https://nytimes.com': 0.15000000596046448, 'https://18clubasia.com': 0.15000000596046448, 'https://035portal.hr': 0.15000000596046448, 'https://257.cz': 0.15000000596046448, 'https://10xsas.com': 0.15000000596046448, 'https://lyst.com': 0.15000000596046448, 'https://123proxy.app': 0.15000000596046448, 'https://0-60specs.com': 0.15000000596046448, 'https://1pe.link': 0.15000000596046448, 'https://20icecasino.com': 0.15000000596046448, 'https://123presets.store': 0.15000000596046448, 'https://1mei.live': 0.15000000596046448, 'https://1templenutrition.com': 0.15000000596046448, 'https://10669881arubait001-my.sharepoint.com': 0.15000000596046448, 'https://123movies.com': 0.15000000596046448, 'https://118pan.com': 0.15000000596046448, 'https://1024vi.com': 0.15000000596046448, 'https://1pharmrx.com': 0.15000000596046448, 'https://ultimate-guitar.com': 0.15000000596046448, 'https://1080zyk.com': 0.15000000596046448, 'https://alberta.ca': 0.15000000596046448, 'https://1plq.com': 0.15000000596046448, 'https://1800askdave.com': 0.15000000596046448, 'https://123tv.live': 0.15000000596046448, 'https://158300.com': 0.15000000596046448, 'https://1290funds.com': 0.15000000596046448, 'https://masterclass.com': 0.15000000596046448, 'https://100tamam.ir': 0.15000000596046448, 'https://1clickvpn.net': 0.15000000596046448, 'https://city-data.com': 0.15000000596046448, 'https://themoviedb.org': 0.15000000596046448, 'https://1970fowlerdrive.com': 0.15000000596046448, 'https://0voice.com': 0.15000000596046448, 'https://123reclaim.co.uk': 0.15000000596046448, 'https://1b.app': 0.15000000596046448, 'https://seriouseats.com': 0.15000000596046448, 'https://1stclass.uk.com': 0.15000000596046448, 'https://123moviesfun.is': 0.15000000596046448, 'https://29chat.com': 0.15000000596046448, 'https://yourdictionary.com': 0.15000000596046448, 'https://05sun.com': 0.15000000596046448, 'https://socratic.org': 0.15000000596046448, 'https://yale.edu': 0.15000000596046448, 'https://120studio.github.io': 0.15000000596046448, 'https://123movies.co': 0.15000000596046448, 'https://1movies.la': 0.15000000596046448, 'https://1400joycasino.com': 0.15000000596046448, 'https://100kcommissions.com': 0.15000000596046448, 'https://1manstudio.net': 0.15000000596046448, 'https://slideshare.net': 0.15000000596046448, 'https://20glob.com': 0.15000000596046448, 'https://1wiiru.top': 0.15000000596046448, 'https://1casting.ru': 0.15000000596046448, 'https://13377x.tw': 0.15000000596046448, 'https://1000londonescorts.com': 0.15000000596046448, 'https://steemit.com': 0.15000000596046448, 'https://1todaypk.live': 0.15000000596046448, 'https://1nasledstvo.ru': 0.15000000596046448, 'https://langeek.co': 0.15000000596046448, 'https://upenn.edu': 0.15000000596046448, 'https://256content.com': 0.15000000596046448, 'https://100ksub.com': 0.15000000596046448, 'https://121spanish.com': 0.15000000596046448, 'https://123films.ch': 0.15000000596046448, 'https://10print.org': 0.15000000596046448, 'https://24seveneatsonline.com': 0.15000000596046448, 'https://15hprepairmanuals.blogspot.com': 0.15000000596046448, 'https://wordwall.net': 0.15000000596046448, 'https://10plustoysau.myshopify.com': 0.15000000596046448, 'https://11bit.co.in': 0.15000000596046448, 'https://1001ebooks.club': 0.15000000596046448, 'https://1musiciansfriend.com': 0.15000000596046448, 'https://quora.com': 0.15000000596046448, 'https://123.ru': 0.15000000596046448, 'https://2000charge.com': 0.15000000596046448, 'https://1japansex.com': 0.15000000596046448, 'https://1-2-print.co.uk': 0.15000000596046448, 'https://npr.org': 0.15000000596046448, 'https://198game.com': 0.15000000596046448, 'https://powerthesaurus.org': 0.15000000596046448, 'https://00youtube.com': 0.15000000596046448, 'https://1-euro-versicherung.de': 0.15000000596046448, 'https://1995blog.com': 0.15000000596046448, 'https://carfax.com': 0.15000000596046448, 'https://188info.carrd.co': 0.15000000596046448, 'https://2-lt.com': 0.15000000596046448, 'https://1-of--leaked-co.translate.goog': 0.15000000596046448, 'https://1qd6d-dot-kinozal-guru.appspot.com': 0.15000000596046448, 'https://204504byse.info': 0.15000000596046448, 'https://0tocommissionhero.com': 0.15000000596046448, 'https://063k.com': 0.15000000596046448, 'https://1001makale.com': 0.15000000596046448, 'https://1fbusa.com': 0.15000000596046448, 'https://123streaming.cc': 0.15000000596046448, 'https://ebay.co.uk': 0.15000000596046448, 'https://1001patterns.com': 0.15000000596046448, 'https://13x.app': 0.15000000596046448, 'https://1spbgmu.ru': 0.15000000596046448, 'https://hubpages.com': 0.15000000596046448, 'https://1psustt.myshopify.com': 0.15000000596046448, 'https://1800nynylaw.com': 0.15000000596046448, 'https://tvtropes.org': 0.15000000596046448, 'https://123servers.com': 0.15000000596046448, 'https://234next.com': 0.15000000596046448, 'https://0x.watch': 0.15000000596046448, 'https://1v.to': 0.15000000596046448, 'https://19980921.weebly.com': 0.15000000596046448, 'https://1stairporttaxis.co.uk': 0.15000000596046448, 'https://1tubehd.com': 0.15000000596046448, 'https://1answer.guru': 0.15000000596046448, 'https://cancer.gov': 0.15000000596046448, 'https://1000va.ru': 0.15000000596046448, 'https://1c.ru': 0.15000000596046448, 'https://123moviesfree.net': 0.15000000596046448, 'https://1stvision.com': 0.15000000596046448, 'https://famousbirthdays.com': 0.15000000596046448, 'https://123boyvideos.com': 0.15000000596046448, 'https://instructables.com': 0.15000000596046448, 'https://1y.com': 0.15000000596046448, 'https://timeanddate.com': 0.15000000596046448, 'https://1gb.ru': 0.15000000596046448, 'https://123weddingcards.com': 0.15000000596046448, 'https://1105newsletters.com': 0.15000000596046448, 'https://1miba.com': 0.15000000596046448, 'https://18dao.net': 0.15000000596046448, 'https://eatingwell.com': 0.15000000596046448, 'https://1x2nwhc.com': 0.15000000596046448, 'https://123.ie': 0.15000000596046448, 'https://12go.asia': 0.15000000596046448, 'https://18yoga.com': 0.15000000596046448, 'https://1001tur.ru': 0.15000000596046448, 'https://1urok.ru': 0.15000000596046448, 'https://009adventure.blog': 0.15000000596046448, 'https://pbs.org': 0.15000000596046448, 'https://1bestlink.net': 0.15000000596046448, 'https://123movies.to': 0.15000000596046448, 'https://1todaypk.net': 0.15000000596046448, 'https://17173.la': 0.15000000596046448, 'https://1viewtech.com': 0.15000000596046448, 'https://1technophile.blogspot.com': 0.15000000596046448, 'https://123moviesla.blog': 0.15000000596046448, 'https://1x1.la': 0.15000000596046448, 'https://11klassniki.ru': 0.15000000596046448, 'https://0daylabs.com': 0.15000000596046448, 'https://247salesmanager.com': 0.15000000596046448, 'https://12q.site': 0.15000000596046448, 'https://123moviesfree.bar': 0.15000000596046448, 'https://126forum.de': 0.15000000596046448, 'https://202020.net': 0.15000000596046448, 'https://people.com': 0.15000000596046448, 'https://10bestdesign.com': 0.15000000596046448, 'https://10degres.net': 0.15000000596046448, 'https://1001albumsgenerator.com': 0.15000000596046448, 'https://11thadmission.org.in': 0.15000000596046448, 'https://123moviefree4u.com': 0.15000000596046448, 'https://in.gov': 0.15000000596046448, 'https://24broker.ro': 0.15000000596046448, 'https://2000sheardle.glitch.me': 0.15000000596046448, 'https://ikea.com': 0.15000000596046448, 'https://1plan-sexe.com': 0.15000000596046448, 'https://17ten.at': 0.15000000596046448, 'https://23qb.com': 0.15000000596046448, 'https://restaurantguru.com': 0.15000000596046448, 'https://06ot6.com': 0.15000000596046448, 'https://1cam.org': 0.15000000596046448, 'https://18girlssex.com': 0.15000000596046448, 'https://0hi.me': 0.15000000596046448, 'https://1000jeffersonapts.com': 0.15000000596046448, 'https://123movies.tw': 0.15000000596046448, 'https://0curtain0.github.io': 0.15000000596046448, 'https://123passportphoto.com': 0.15000000596046448, 'https://10ktf.com': 0.15000000596046448, 'https://123movies.net': 0.15000000596046448, 'https://0dan.org': 0.15000000596046448, 'https://100points.ru': 0.15000000596046448, 'https://1stmuzik.com': 0.15000000596046448, 'https://bab.la': 0.15000000596046448, 'https://bmj.com': 0.15000000596046448, 'https://1nhonline.com': 0.15000000596046448, 'https://ludwig.guru': 0.15000000596046448, 'https://10xmarketingprogram.com': 0.15000000596046448, 'https://nature.com': 0.15000000596046448, 'https://ct.gov': 0.15000000596046448, 'https://123-movies.gdn': 0.15000000596046448, 'https://007.hr': 0.15000000596046448, 'https://10xhostings.com': 0.15000000596046448, 'https://03ed9035a0801f.com': 0.15000000596046448, 'https://12ft.io': 0.15000000596046448, 'https://123edu.ro': 0.15000000596046448, 'https://10endrathukulla.com': 0.15000000596046448, 'https://01webdirectory.com': 0.15000000596046448, 'https://118kbet.com': 0.15000000596046448, 'https://022.co.il': 0.15000000596046448, 'https://123ds.org': 0.15000000596046448, 'https://1stchoice.co.uk': 0.15000000596046448, 'https://1firstbank.com': 0.15000000596046448, 'https://1st-mail.jp': 0.15000000596046448, 'https://123moviesday.com': 0.15000000596046448, 'https://europa.eu': 0.15000000596046448, 'https://realsimple.com': 0.15000000596046448, 'https://123telugu.com': 0.15000000596046448, 'https://facebook.com': 0.3199999928474426, 'https://1dapp.news': 0.15000000596046448, 'https://10bestcasinos.co.uk': 0.15000000596046448, 'https://1917.co.nz': 0.15000000596046448, 'https://17jita.com': 0.15000000596046448, 'https://123movieshub.one': 0.15000000596046448, 'https://mapquest.com': 0.15000000596046448, 'https://20pen.live': 0.15000000596046448, 'https://1shortlink.com': 0.15000000596046448, 'https://17gameworld.com': 0.15000000596046448, 'https://jagranjosh.com': 0.15000000596046448, 'https://12men.weebly.com': 0.15000000596046448, 'https://13hublane.com': 0.15000000596046448, 'https://2048game.com': 0.15000000596046448, 'https://1wmdsr.top': 0.15000000596046448, 'https://1malaysiawomen.com': 0.15000000596046448, 'https://1000kitap.com': 0.15000000596046448, 'https://25ll.com': 0.15000000596046448, 'https://usda.gov': 0.15000000596046448, 'https://1f05.net': 0.15000000596046448, 'https://123moviesonline.one': 0.15000000596046448, 'https://1337x.is': 0.15000000596046448, 'https://researchgate.net': 0.15000000596046448, 'https://10ff.net': 0.15000000596046448, 'https://1-2-3movies.com': 0.15000000596046448, 'https://1cares.com': 0.15000000596046448, 'https://123xe.vn': 0.15000000596046448, 'https://123moviesgo.icu': 0.15000000596046448, 'https://alamy.com': 0.15000000596046448, 'https://msdmanuals.com': 0.15000000596046448, 'https://1-al--maktaba-org.translate.goog': 0.15000000596046448, 'https://2048cupcakes.org': 0.15000000596046448, 'https://000space.com': 0.15000000596046448, 'https://13x4.com': 0.15000000596046448, 'https://01streaming.me': 0.15000000596046448, 'https://gotquestions.org': 0.15000000596046448, 'https://1758658189.rsc.cdn77.org': 0.15000000596046448, 'https://123chill.io': 0.15000000596046448, 'https://10best.com': 0.15000000596046448, 'https://utexas.edu': 0.15000000596046448, 'https://arxiv.org': 0.15000000596046448, 'https://mojim.com': 0.15000000596046448, 'https://tripadvisor.es': 0.15000000596046448, 'https://123movies4k.net': 0.15000000596046448, 'https://123moviestop.com': 0.15000000596046448, 'https://1x-xredbet478860.top': 0.15000000596046448, 'https://top-rated.online': 0.15000000596046448, 'https://123show.ru': 0.15000000596046448, 'https://17zwd.com': 0.15000000596046448, 'https://22o6.net': 0.15000000596046448, 'https://189.net.cn': 0.15000000596046448, 'https://00b.io': 0.15000000596046448, 'https://112-login.de': 0.15000000596046448, 'https://247phim.net': 0.15000000596046448, 'https://021yin.com': 0.15000000596046448, 'https://076.ne.jp': 0.15000000596046448, 'https://1000mest.ru': 0.15000000596046448, 'https://wikihow.com': 0.15000000596046448, 'https://wiktionary.org': 0.15000000596046448, 'https://140.tel': 0.15000000596046448, 'https://business.site': 0.15000000596046448, 'https://2090000.ru': 0.15000000596046448, 'https://study.com': 0.15000000596046448, 'https://0-majestic.myshopify.com': 0.15000000596046448, 'https://peakpx.com': 0.15000000596046448, 'https://bu.edu': 0.15000000596046448, 'https://100dayscss.com': 0.15000000596046448, 'https://0mmo.net': 0.15000000596046448, 'https://merriam-webster.com': 0.15000000596046448, 'https://churchofjesuschrist.org': 0.15000000596046448, 'https://makeuseof.com': 0.15000000596046448, 'https://139y.com': 0.15000000596046448, 'https://reverso.net': 0.15000000596046448, 'https://1track.ru': 0.15000000596046448, 'https://123movies.college': 0.15000000596046448, 'https://1004when.com': 0.15000000596046448, 'https://1803nyc.com': 0.15000000596046448, 'https://1000fonts.com': 0.15000000596046448, 'https://28chan.org': 0.15000000596046448, 'https://123moviesfree.app': 0.15000000596046448, 'https://twitter.com': 2.1303157806396484, 'https://12go.co': 0.15000000596046448, 'https://007swz.com': 0.15000000596046448, 'https://01thy.top': 0.15000000596046448, 'https://17plus.ir': 0.15000000596046448, 'https://2000things.com': 0.15000000596046448, 'https://indeed.com': 0.15000000596046448, 'https://1yzn.com': 0.15000000596046448, 'https://123moviehd.net': 0.15000000596046448, 'https://123test.com': 0.15000000596046448, 'https://justia.com': 0.15000000596046448, 'https://24bit96.com': 0.15000000596046448, 'https://123faz.cc': 0.15000000596046448, 'https://181.fm': 0.15000000596046448, 'https://etsy.com': 0.15000000596046448, 'https://theculturetrip.com': 0.15000000596046448, 'https://100percentreefsafe.com.au': 0.15000000596046448, 'https://gamerant.com': 0.15000000596046448, 'https://16software.com': 0.15000000596046448, 'https://scientificamerican.com': 0.15000000596046448, 'https://weebly.com': 0.15000000596046448, 'https://0044789.com': 0.15000000596046448, 'https://24cash.shop': 0.15000000596046448, 'https://123movies00.xyz': 0.15000000596046448, 'https://20bet.com': 0.15000000596046448, 'https://1clickblogpost.com': 0.15000000596046448, 'https://12xlwin6e.net': 0.15000000596046448, 'https://0lx.be': 0.15000000596046448, 'https://0xdev.co': 0.15000000596046448, 'https://009.xn--p1ai': 0.15000000596046448, 'https://123gamez.com': 0.15000000596046448, 'https://cambridge.org': 0.15000000596046448, 'https://18av.tv': 0.15000000596046448, 'https://1nbcarlyle.com': 0.15000000596046448, 'https://007james.com': 0.15000000596046448, 'https://forbes.com': 0.15000000596046448, 'https://1affiliateclub.com': 0.15000000596046448, 'https://2048bt.cc': 0.15000000596046448, 'https://docomo.ne.jp': 0.15000000596046448, 'https://thefreedictionary.com': 0.15000000596046448, 'https://007superslot.com': 0.15000000596046448, 'https://1q.org': 0.15000000596046448, 'https://canva.com': 0.15000000596046448, 'https://1000toy.ru': 0.15000000596046448, 'https://147.com.tw': 0.15000000596046448, 'https://0x.org': 0.15000000596046448, 'https://15pp.info': 0.15000000596046448, 'https://123sonography.com': 0.15000000596046448, 'https://10xbnb.com': 0.15000000596046448, 'https://0x0800.github.io': 0.15000000596046448, 'https://1888pressrelease.com': 0.15000000596046448, 'https://0x.com': 0.15000000596046448, 'https://hm.com': 0.15000000596046448, 'https://dailymotion.com': 0.15000000596046448, 'https://1stphorm.com': 0.15000000596046448, 'https://1kuwaitjobs.com': 0.15000000596046448, 'https://1607694915.rsc.cdn77.org': 0.15000000596046448, 'https://24dev.co': 0.15000000596046448, 'https://1upnote.me': 0.15000000596046448, 'https://1ware.net': 0.15000000596046448, 'https://11ty.dev': 0.15000000596046448, 'https://2022dyw.com': 0.15000000596046448, 'https://14four.com': 0.15000000596046448, 'https://123unblock.surf': 0.15000000596046448, 'https://24storage.se': 0.15000000596046448, 'https://1408ad.com': 0.15000000596046448, 'https://1vs1.lol': 0.15000000596046448, 'https://soundcloud.com': 0.15000000596046448, 'https://prokerala.com': 0.15000000596046448, 'https://studocu.com': 0.15000000596046448, 'https://1pondo.com': 0.15000000596046448, 'https://clevelandclinic.org': 0.15000000596046448, 'https://2012portal.blogspot.com': 0.15000000596046448, 'https://findmeglutenfree.com': 0.15000000596046448, 'https://277sy.com': 0.15000000596046448, 'https://1000meetings.com': 0.15000000596046448, 'https://2022factoryoutlet.ru': 0.15000000596046448, 'https://153news.net': 0.15000000596046448, 'https://line.me': 0.3199999928474426, 'https://meteoblue.com': 0.15000000596046448, 'https://steamcommunity.com': 0.19249999523162842, 'https://24hcourses.online': 0.15000000596046448, 'https://1kook.tumblr.com': 0.15000000596046448, 'https://1soft-new.ucoz.ru': 0.15000000596046448, 'https://18indian.com': 0.15000000596046448, 'https://20biquge.com': 0.15000000596046448, 'https://crunchbase.com': 0.15000000596046448, 'https://123moviestv.net': 0.15000000596046448, 'https://wordhippo.com': 0.15000000596046448, 'https://1337xto.to': 0.15000000596046448, 'https://01.org': 0.15000000596046448, 'https://101modeling.com': 0.15000000596046448, 'https://1xbet841840.top': 0.15000000596046448, 'https://1advertising.xyz': 0.15000000596046448, 'https://111com.net': 0.15000000596046448, 'https://247staffingsolutions.com.au': 0.15000000596046448, 'https://24-7reporters.com': 0.15000000596046448, 'https://thesaurus.com': 0.15000000596046448, 'https://16personalities.com': 0.15000000596046448, 'https://10xgenomics.com': 0.15000000596046448, 'https://reserving.com': 0.15000000596046448, 'https://1crp.by': 0.15000000596046448, 'https://17ce-my.sharepoint.com': 0.15000000596046448, 'https://089u.com': 0.15000000596046448, 'https://1classtube.com': 0.15000000596046448, 'https://1qvid.com': 0.15000000596046448, 'https://21connectpro.com': 0.15000000596046448, 'https://columbia.edu': 0.15000000596046448, 'https://11zon.com': 0.15000000596046448, 'https://made-in-china.com': 0.15000000596046448, 'https://1secondcopy.com': 0.15000000596046448, 'https://1lib.tw': 0.15000000596046448, 'https://123blog.tw': 0.15000000596046448, 'https://121consign.com': 0.15000000596046448, 'https://114sim.com': 0.15000000596046448, 'https://1cum.com': 0.15000000596046448, 'https://1000hz.github.io': 0.15000000596046448, 'https://0daydown.com': 0.15000000596046448, 'https://247games.com': 0.15000000596046448, 'https://1f03.net': 0.15000000596046448, 'https://www.gov.uk': 0.15098077058792114, 'https://linkedin.com': 0.18187500536441803, 'https://0zz0.com': 0.15000000596046448, 'https://01streaming.net': 0.15000000596046448, 'https://10tl.net': 0.15000000596046448, 'https://1337.ma': 0.15000000596046448, 'https://2-spyware.com': 0.15000000596046448, 'https://123movies-to.org': 0.15000000596046448, 'https://parade.com': 0.15000000596046448, 'https://youtube.com': 0.15000000596046448, 'https://101-multimedia.com': 0.15000000596046448, 'https://livemint.com': 0.15000000596046448, 'https://cvs.com': 0.15000000596046448, 'https://medlineplus.gov': 0.15000000596046448, 'https://100500travel.blogspot.com': 0.15000000596046448, 'https://uptodate.com': 0.15000000596046448, 'https://1-piece-manga.com': 0.15000000596046448, 'https://allegro.pl': 0.15000000596046448, 'https://212xnxx.com': 0.15000000596046448, 'https://thegamer.com': 0.15000000596046448, 'https://lastminute.com': 0.15000000596046448, 'https://168sogo.com.tw': 0.15000000596046448, 'https://1mark.work': 0.15000000596046448, 'https://github.com': 0.2299184799194336, 'https://15dice.com': 0.15000000596046448, 'https://123usdt.cc': 0.15000000596046448, 'https://illinois.gov': 0.15000000596046448, 'https://1campus.net': 0.15000000596046448, 'https://123movies5.com': 0.15000000596046448, 'https://123gofmovies.com': 0.15000000596046448, 'https://booked.net': 0.15000000596046448, 'https://tripadvisor.fr': 0.15000000596046448, 'https://allevents.in': 0.15000000596046448, 'https://1seoindia.com': 0.15000000596046448, 'https://1lib.domains': 0.15000000596046448, 'https://everand.com': 0.15000000596046448, 'https://12580ic.com': 0.15000000596046448, 'https://1ps.ru': 0.15000000596046448, 'https://123nhadatviet.net': 0.15000000596046448, 'https://1qe.info': 0.15000000596046448, 'https://1goldmine.com': 0.15000000596046448, 'https://123peppy.com': 0.15000000596046448, 'https://123watch.to': 0.15000000596046448, 'https://23sk.net': 0.15000000596046448, 'https://1929hotel.com': 0.15000000596046448, 'https://1d4chan.net': 0.15000000596046448, 'https://24hourlocksmithouston.com': 0.15000000596046448, 'https://0cili.net': 0.15000000596046448, 'https://1trannytube.com': 0.15000000596046448, 'https://18eighteen.com': 0.15000000596046448, 'https://bbb.org': 0.15000000596046448, 'https://17travel.net': 0.15000000596046448, 'https://1tamilmv.pics': 0.15000000596046448, 'https://1991stores.com': 0.15000000596046448, 'https://012cloud.jp': 0.15000000596046448, 'https://19216811.live': 0.15000000596046448, 'https://ohio.gov': 0.15000000596046448, 'https://1kino.to': 0.15000000596046448, 'https://wiley.com': 0.15000000596046448, 'https://0123movies.ltd': 0.15000000596046448, 'https://123mkvnet.blogspot.com': 0.15000000596046448, 'https://goodreads.com': 0.15000000596046448, 'https://1fuli.buzz': 0.15000000596046448, 'https://192.com': 0.15000000596046448, 'https://1senegal.net': 0.15000000596046448, 'https://14phoenix.blogspot.com': 0.15000000596046448, 'https://lemon8-app.com': 0.15000000596046448, 'https://ew.com': 0.15000000596046448, 'https://20fzw.com': 0.15000000596046448, 'https://pinterest.com': 0.28174999356269836, 'https://1557.kyiv.ua': 0.15000000596046448, 'https://1stplayer.com': 0.15000000596046448, 'https://1news.io': 0.15000000596046448, 'https://1800flyeurope.com': 0.15000000596046448, 'https://agoda.com': 0.15000000596046448, 'https://0refer.com': 0.15000000596046448, 'https://wikidata.org': 0.15000000596046448, 'https://1freshmix.myshopify.com': 0.15000000596046448, 'https://143loveme.com': 0.15000000596046448, 'https://123desenhosparacolorir.com': 0.15000000596046448, 'https://medium.com': 0.1555434763431549, 'https://1granary.com': 0.15000000596046448, 'https://1stunited.com': 0.15000000596046448, 'https://1024.cool': 0.15000000596046448, 'https://1ticket.com': 0.15000000596046448, 'https://1stnatbk.com': 0.15000000596046448, 'https://2020yz.com': 0.15000000596046448, 'https://24dorama.com': 0.15000000596046448, 'https://18jinmanhua2.com': 0.15000000596046448, 'https://20dollarspass.xyz': 0.15000000596046448, 'https://0xdf.gitlab.io': 0.15000000596046448, 'https://bestbuy.com': 0.15000000596046448, 'https://1337xhd.shop': 0.15000000596046448, 'https://114yygh.com': 0.15000000596046448, 'https://24liveblog.com': 0.15000000596046448, 'https://112.kz': 0.15000000596046448, 'https://17track.net': 0.15000000596046448, 'https://12333.gov.cn': 0.15000000596046448, 'https://0039yidali.com': 0.15000000596046448}\n"
          ]
        }
      ],
      "source": [
        "if __name__ == '__main__':\n",
        "    spark = SparkSession.builder.appName(\"PageRank\").getOrCreate()\n",
        "    folder_path = config['SCRAPED_DATA']\n",
        "    graph = build_graph_from_json_folder(folder_path)\n",
        "    print(\"Start ranking\")\n",
        "    ranked_graph = run(graph)\n",
        "    print(\"PageRank Results:\")\n",
        "    print(ranked_graph)"
      ]
    },
    {
      "cell_type": "code",
      "execution_count": null,
      "metadata": {},
      "outputs": [],
      "source": []
    }
  ],
  "metadata": {
    "colab": {
      "provenance": []
    },
    "kernelspec": {
      "display_name": "Python 3",
      "name": "python3"
    },
    "language_info": {
      "codemirror_mode": {
        "name": "ipython",
        "version": 3
      },
      "file_extension": ".py",
      "mimetype": "text/x-python",
      "name": "python",
      "nbconvert_exporter": "python",
      "pygments_lexer": "ipython3",
      "version": "3.12.3"
    }
  },
  "nbformat": 4,
  "nbformat_minor": 0
}
