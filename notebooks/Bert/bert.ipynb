{
 "cells": [
  {
   "cell_type": "code",
   "execution_count": 1,
   "metadata": {},
   "outputs": [],
   "source": [
    "from transformers import AutoTokenizer, AutoModel\n",
    "import torch\n",
    "import torch.nn.functional as F"
   ]
  },
  {
   "cell_type": "code",
   "execution_count": 2,
   "metadata": {},
   "outputs": [],
   "source": [
    "import os\n",
    "import json\n",
    "from dotenv import dotenv_values\n",
    "\n",
    "import pandas as pd\n",
    "from tqdm import tqdm"
   ]
  },
  {
   "cell_type": "code",
   "execution_count": 3,
   "metadata": {},
   "outputs": [
    {
     "data": {
      "text/plain": [
       "odict_items([('SCRAPED_DATA_DIR', '../../Crawler/output'), ('EMBED_DATA_DIR', './output'), ('llm_model', 'google-bert/bert-base-uncased')])"
      ]
     },
     "execution_count": 3,
     "metadata": {},
     "output_type": "execute_result"
    }
   ],
   "source": [
    "config = dotenv_values(\"./.env\")\n",
    "config.items()"
   ]
  },
  {
   "cell_type": "code",
   "execution_count": 4,
   "metadata": {},
   "outputs": [],
   "source": [
    "pageNodes = []\n",
    "\n",
    "dataFiles = os.listdir(config[\"SCRAPED_DATA_DIR\"])\n",
    "for file in (dataFiles):\n",
    "    with open(os.path.join(config[\"SCRAPED_DATA_DIR\"], file)) as f:\n",
    "        data = json.load(f)\n",
    "        # print(data)\n",
    "        pageNodes.append({\n",
    "            \"doc\": \" \".join(data['doc']),\n",
    "            \"headings\":\" \".join(data['headings']),\n",
    "            \"url\": data['url'],\n",
    "            'previewTitle': data['previewTitle'],\n",
    "            \"preview\":data[\"preview\"],\n",
    "        })\n",
    "# print(pageNodes)"
   ]
  },
  {
   "cell_type": "code",
   "execution_count": 5,
   "metadata": {},
   "outputs": [
    {
     "name": "stderr",
     "output_type": "stream",
     "text": [
      "/home/sunaam/miniconda3/envs/nlp/lib/python3.12/site-packages/huggingface_hub/file_download.py:1132: FutureWarning: `resume_download` is deprecated and will be removed in version 1.0.0. Downloads always resume when possible. If you want to force a new download, use `force_download=True`.\n",
      "  warnings.warn(\n"
     ]
    }
   ],
   "source": [
    "tokenizer = AutoTokenizer.from_pretrained(config['llm_model'])\n",
    "model = AutoModel.from_pretrained(config['llm_model'])"
   ]
  },
  {
   "cell_type": "code",
   "execution_count": 6,
   "metadata": {},
   "outputs": [],
   "source": [
    "input_text = \"Hello, My name is Sunaam\"\n",
    "input2 = \"Hello\"\n",
    "input3 = \"name is sunaam, hello\"\n",
    "input4 = 'sunaam'\n",
    "input5 = 'name'\n",
    "input6 = 'name is taha'"
   ]
  },
  {
   "cell_type": "code",
   "execution_count": 7,
   "metadata": {},
   "outputs": [],
   "source": [
    "def compute_embeddings(input_text, tokenizer, model):\n",
    "    inputs = tokenizer(input_text, return_tensors='pt', truncation=True)\n",
    "    with torch.no_grad():\n",
    "        outputs = model(**inputs)\n",
    "    \n",
    "    embeddings = outputs.last_hidden_state\n",
    "    mean_embeds = torch.mean(embeddings, dim=1)\n",
    "    cls_embeds = embeddings[:,0,:]\n",
    "    return {\n",
    "        \"mean\": mean_embeds,\n",
    "        \"cls\":cls_embeds\n",
    "    }"
   ]
  },
  {
   "cell_type": "code",
   "execution_count": 8,
   "metadata": {},
   "outputs": [],
   "source": [
    "def compute_similarity(embed1, embed2):\n",
    "    mean_cosine = F.cosine_similarity(embed1['mean'], embed2['mean'], dim=1)\n",
    "    cls_cosine = F.cosine_similarity(embed1['cls'], embed2['cls'], dim=1)\n",
    "    return {\n",
    "        \"mean\": mean_cosine.item(),\n",
    "        \"cls\":cls_cosine.item()\n",
    "    }"
   ]
  },
  {
   "cell_type": "code",
   "execution_count": 11,
   "metadata": {},
   "outputs": [],
   "source": [
    "if not os.path.exists(config['EMBED_DATA_DIR']):\n",
    "    os.makedirs(config['EMBED_DATA_DIR'])\n",
    "    \n",
    "count = 0\n",
    "\n",
    "for page in pageNodes:\n",
    "    data_to_write = {\n",
    "        \"embed1\": compute_embeddings(page['preview'], tokenizer, model)['mean'].squeeze(0).numpy().tolist(),\n",
    "        \"embed2\":compute_embeddings(page['previewTitle'], tokenizer, model)['mean'].squeeze(0).numpy().tolist(),\n",
    "        \"previewTitle\": page['previewTitle'],\n",
    "        'preview':page['preview'],\n",
    "        \"url\":page['url']\n",
    "    }\n",
    "    with open(f\"{config['EMBED_DATA_DIR']}/{count}_page.json\", 'w') as file:\n",
    "        json.dump(data_to_write, file, indent=4)\n",
    "    count += 1"
   ]
  },
  {
   "cell_type": "code",
   "execution_count": null,
   "metadata": {},
   "outputs": [],
   "source": []
  }
 ],
 "metadata": {
  "kernelspec": {
   "display_name": "bert",
   "language": "python",
   "name": "python3"
  },
  "language_info": {
   "codemirror_mode": {
    "name": "ipython",
    "version": 3
   },
   "file_extension": ".py",
   "mimetype": "text/x-python",
   "name": "python",
   "nbconvert_exporter": "python",
   "pygments_lexer": "ipython3",
   "version": "3.12.3"
  }
 },
 "nbformat": 4,
 "nbformat_minor": 2
}
