{
  "cells": [
    {
      "cell_type": "code",
      "execution_count": 3,
      "metadata": {
        "id": "xb1L3GzcDNF1"
      },
      "outputs": [],
      "source": [
        "import pandas as pd\n",
        "import json"
      ]
    },
    {
      "cell_type": "code",
      "execution_count": 4,
      "metadata": {
        "id": "zLU2XaENDWrL"
      },
      "outputs": [],
      "source": [
        "ranked_domains = pd.read_json(\"../dataset/ranked_domains.json\")"
      ]
    },
    {
      "cell_type": "code",
      "execution_count": 5,
      "metadata": {
        "colab": {
          "base_uri": "https://localhost:8080/",
          "height": 363
        },
        "id": "KDLTdfe0Dfj2",
        "outputId": "1a186293-04ff-4cfa-f92a-a55a91893359"
      },
      "outputs": [
        {
          "data": {
            "text/html": [
              "<div>\n",
              "<style scoped>\n",
              "    .dataframe tbody tr th:only-of-type {\n",
              "        vertical-align: middle;\n",
              "    }\n",
              "\n",
              "    .dataframe tbody tr th {\n",
              "        vertical-align: top;\n",
              "    }\n",
              "\n",
              "    .dataframe thead th {\n",
              "        text-align: right;\n",
              "    }\n",
              "</style>\n",
              "<table border=\"1\" class=\"dataframe\">\n",
              "  <thead>\n",
              "    <tr style=\"text-align: right;\">\n",
              "      <th></th>\n",
              "      <th>position</th>\n",
              "      <th>domain</th>\n",
              "      <th>count</th>\n",
              "      <th>etv</th>\n",
              "    </tr>\n",
              "  </thead>\n",
              "  <tbody>\n",
              "    <tr>\n",
              "      <th>0</th>\n",
              "      <td>1</td>\n",
              "      <td>youtube.com</td>\n",
              "      <td>409813668</td>\n",
              "      <td>2.169240e+10</td>\n",
              "    </tr>\n",
              "    <tr>\n",
              "      <th>1</th>\n",
              "      <td>2</td>\n",
              "      <td>facebook.com</td>\n",
              "      <td>283041994</td>\n",
              "      <td>1.096445e+10</td>\n",
              "    </tr>\n",
              "    <tr>\n",
              "      <th>2</th>\n",
              "      <td>3</td>\n",
              "      <td>wikipedia.org</td>\n",
              "      <td>253716342</td>\n",
              "      <td>3.873556e+10</td>\n",
              "    </tr>\n",
              "    <tr>\n",
              "      <th>3</th>\n",
              "      <td>4</td>\n",
              "      <td>reddit.com</td>\n",
              "      <td>184939356</td>\n",
              "      <td>3.340952e+09</td>\n",
              "    </tr>\n",
              "    <tr>\n",
              "      <th>4</th>\n",
              "      <td>5</td>\n",
              "      <td>instagram.com</td>\n",
              "      <td>169839506</td>\n",
              "      <td>9.082288e+09</td>\n",
              "    </tr>\n",
              "    <tr>\n",
              "      <th>5</th>\n",
              "      <td>6</td>\n",
              "      <td>tiktok.com</td>\n",
              "      <td>165416920</td>\n",
              "      <td>1.634488e+09</td>\n",
              "    </tr>\n",
              "    <tr>\n",
              "      <th>6</th>\n",
              "      <td>7</td>\n",
              "      <td>pinterest.com</td>\n",
              "      <td>140725023</td>\n",
              "      <td>4.981039e+09</td>\n",
              "    </tr>\n",
              "    <tr>\n",
              "      <th>7</th>\n",
              "      <td>8</td>\n",
              "      <td>google.com</td>\n",
              "      <td>135463863</td>\n",
              "      <td>1.412191e+10</td>\n",
              "    </tr>\n",
              "    <tr>\n",
              "      <th>8</th>\n",
              "      <td>9</td>\n",
              "      <td>linkedin.com</td>\n",
              "      <td>127151780</td>\n",
              "      <td>2.249970e+09</td>\n",
              "    </tr>\n",
              "    <tr>\n",
              "      <th>9</th>\n",
              "      <td>10</td>\n",
              "      <td>quora.com</td>\n",
              "      <td>126860754</td>\n",
              "      <td>1.998186e+09</td>\n",
              "    </tr>\n",
              "  </tbody>\n",
              "</table>\n",
              "</div>"
            ],
            "text/plain": [
              "   position         domain      count           etv\n",
              "0         1    youtube.com  409813668  2.169240e+10\n",
              "1         2   facebook.com  283041994  1.096445e+10\n",
              "2         3  wikipedia.org  253716342  3.873556e+10\n",
              "3         4     reddit.com  184939356  3.340952e+09\n",
              "4         5  instagram.com  169839506  9.082288e+09\n",
              "5         6     tiktok.com  165416920  1.634488e+09\n",
              "6         7  pinterest.com  140725023  4.981039e+09\n",
              "7         8     google.com  135463863  1.412191e+10\n",
              "8         9   linkedin.com  127151780  2.249970e+09\n",
              "9        10      quora.com  126860754  1.998186e+09"
            ]
          },
          "execution_count": 5,
          "metadata": {},
          "output_type": "execute_result"
        }
      ],
      "source": [
        "ranked_domains.head(10)"
      ]
    },
    {
      "cell_type": "code",
      "execution_count": 11,
      "metadata": {
        "colab": {
          "base_uri": "https://localhost:8080/"
        },
        "id": "lT8lQGc6DjbF",
        "outputId": "bde50809-f516-40b4-edf2-d03c90831e53"
      },
      "outputs": [
        {
          "data": {
            "text/plain": [
              "['youtube.com',\n",
              " 'facebook.com',\n",
              " 'wikipedia.org',\n",
              " 'reddit.com',\n",
              " 'instagram.com',\n",
              " 'tiktok.com',\n",
              " 'pinterest.com',\n",
              " 'google.com',\n",
              " 'linkedin.com',\n",
              " 'quora.com']"
            ]
          },
          "execution_count": 11,
          "metadata": {},
          "output_type": "execute_result"
        }
      ],
      "source": [
        "urls_list = list(ranked_domains['domain'])\n",
        "urls_list[:10]"
      ]
    },
    {
      "cell_type": "code",
      "execution_count": 12,
      "metadata": {},
      "outputs": [
        {
          "data": {
            "text/plain": [
              "['https://youtube.com',\n",
              " 'https://facebook.com',\n",
              " 'https://wikipedia.org',\n",
              " 'https://reddit.com',\n",
              " 'https://instagram.com',\n",
              " 'https://tiktok.com',\n",
              " 'https://pinterest.com',\n",
              " 'https://google.com',\n",
              " 'https://linkedin.com',\n",
              " 'https://quora.com']"
            ]
          },
          "execution_count": 12,
          "metadata": {},
          "output_type": "execute_result"
        }
      ],
      "source": [
        "urls_list = [\"https://\" + url for url in urls_list]\n",
        "urls_list[:10]"
      ]
    },
    {
      "cell_type": "code",
      "execution_count": 13,
      "metadata": {
        "colab": {
          "base_uri": "https://localhost:8080/"
        },
        "id": "DgDCiZPcESA2",
        "outputId": "ad26f307-d0c5-4670-adb7-462a4301ea60"
      },
      "outputs": [
        {
          "data": {
            "text/plain": [
              "1000"
            ]
          },
          "execution_count": 13,
          "metadata": {},
          "output_type": "execute_result"
        }
      ],
      "source": [
        "len(urls_list)"
      ]
    },
    {
      "cell_type": "code",
      "execution_count": 15,
      "metadata": {
        "id": "79ejoBYBD05E"
      },
      "outputs": [],
      "source": [
        "with open(\"../dataset/dataset.json\", \"w\") as data_list:\n",
        "  data_list.write(json.dumps(urls_list))"
      ]
    }
  ],
  "metadata": {
    "colab": {
      "provenance": []
    },
    "kernelspec": {
      "display_name": "Python 3",
      "name": "python3"
    },
    "language_info": {
      "codemirror_mode": {
        "name": "ipython",
        "version": 3
      },
      "file_extension": ".py",
      "mimetype": "text/x-python",
      "name": "python",
      "nbconvert_exporter": "python",
      "pygments_lexer": "ipython3",
      "version": "3.8.18"
    }
  },
  "nbformat": 4,
  "nbformat_minor": 0
}
