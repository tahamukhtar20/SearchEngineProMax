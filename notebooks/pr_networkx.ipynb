{
 "cells": [
  {
   "cell_type": "code",
   "execution_count": 7,
   "metadata": {},
   "outputs": [],
   "source": [
    "import os\n",
    "import json\n",
    "\n",
    "import networkx as nx"
   ]
  },
  {
   "cell_type": "code",
   "execution_count": 8,
   "metadata": {},
   "outputs": [],
   "source": [
    "datasetDIR = \"../Crawler/output\""
   ]
  },
  {
   "cell_type": "code",
   "execution_count": 14,
   "metadata": {},
   "outputs": [
    {
     "name": "stdout",
     "output_type": "stream",
     "text": [
      "{'https://theguardian.com': [], 'https://archive.org': [], 'https://scribd.com': [], 'https://wikipedia.org': [], 'https://ew.com': [], 'https://etsy.com': [], 'https://city-data.com': [], 'https://istockphoto.com': [], 'https://facebook.com': [], 'https://depositphotos.com': [], 'https://usda.gov': [], 'https://thoughtco.com': [], 'https://msn.com': [], 'https://linkedin.com': [], 'https://github.com': [], 'https://gamerant.com': [], 'https://nih.gov': [], 'https://wordreference.com': [], 'https://europa.eu': [], 'https://wikihow.com': [], 'https://www.gov.uk': [], 'https://pixabay.com': [], 'https://cbr.com': [], 'https://allrecipes.com': [], 'https://studocu.com': [], 'https://vecteezy.com': [], 'https://pinterest.es': [], 'https://quora.com': [], 'https://themoviedb.org': [], 'https://oup.com': [], 'https://www.nhs.uk': [], 'https://vimeo.com': [], 'https://sagepub.com': [], 'https://crunchbase.com': [], 'https://wikiwand.com': [], 'https://business.site': [], 'https://medium.com': [], 'https://parade.com': [], 'https://lifewire.com': [], 'https://line.me': [], 'https://pinterest.com': [], 'https://ebay.co.uk': [], 'https://instagram.com': [], 'https://kidshealth.org': [], 'https://thegamer.com': [], 'https://restaurantguru.com': [], 'https://canada.ca': [], 'https://bestbuy.com': [], 'https://cambridge.org': [], 'https://canva.com': [], 'https://makeuseof.com': [], 'https://indianexpress.com': [], 'https://researchgate.net': [], 'https://steampowered.com': [], 'https://screenrant.com': [], 'https://investopedia.com': [], 'https://khanacademy.org': [], 'https://cornell.edu': [], 'https://pbs.org': [], 'https://dailymotion.com': [], 'https://go.com': [], 'https://people.com': [], 'https://hopkinsmedicine.org': [], 'https://wiktionary.org': [], 'https://waze.com': [], 'https://ebay.ca': [], 'https://mit.edu': [], 'https://msdmanuals.com': [], 'https://ny.gov': [], 'https://wikidata.org': [], 'https://stackexchange.com': [], 'https://britannica.com': [], 'https://wikimedia.org': [], 'https://clevelandclinic.org': [], 'https://sportskeeda.com': [], 'https://discogs.com': [], 'https://youtube.com': [], 'https://kwai.com': [], 'https://ikea.com': [], 'https://tripadvisor.co.uk': [], 'https://glosbe.com': [], 'https://wordpress.com': [], 'https://ebay.com': [], 'https://lemon8-app.com': [], 'https://collider.com': []}\n"
     ]
    }
   ],
   "source": [
    "pageNodes = {}\n",
    "\n",
    "dataFiles = os.listdir(datasetDIR)\n",
    "for file in (dataFiles):\n",
    "    with open(os.path.join(datasetDIR, file)) as f:\n",
    "        data = json.load(f)\n",
    "        pageNodes[data['url']]=data['forwardLinks']\n",
    "        \n",
    "print(pageNodes)\n"
   ]
  },
  {
   "cell_type": "code",
   "execution_count": 15,
   "metadata": {},
   "outputs": [],
   "source": [
    "G = nx.from_dict_of_lists(pageNodes)"
   ]
  },
  {
   "cell_type": "code",
   "execution_count": 28,
   "metadata": {},
   "outputs": [
    {
     "data": {
      "text/plain": [
       "85"
      ]
     },
     "execution_count": 28,
     "metadata": {},
     "output_type": "execute_result"
    }
   ],
   "source": [
    "len(list(G.nodes))"
   ]
  },
  {
   "cell_type": "code",
   "execution_count": 25,
   "metadata": {},
   "outputs": [
    {
     "data": {
      "image/png": "[encoded data removed]",
      "text/plain": [
       "<Figure size 640x480 with 1 Axes>"
      ]
     },
     "metadata": {},
     "output_type": "display_data"
    }
   ],
   "source": [
    "nx.draw(G, )"
   ]
  },
  {
   "cell_type": "code",
   "execution_count": 27,
   "metadata": {},
   "outputs": [
    {
     "data": {
      "text/plain": [
       "{'https://theguardian.com': 0.011764705882352929,\n",
       " 'https://archive.org': 0.011764705882352929,\n",
       " 'https://scribd.com': 0.011764705882352929,\n",
       " 'https://wikipedia.org': 0.011764705882352929,\n",
       " 'https://ew.com': 0.011764705882352929,\n",
       " 'https://etsy.com': 0.011764705882352929,\n",
       " 'https://city-data.com': 0.011764705882352929,\n",
       " 'https://istockphoto.com': 0.011764705882352929,\n",
       " 'https://facebook.com': 0.011764705882352929,\n",
       " 'https://depositphotos.com': 0.011764705882352929,\n",
       " 'https://usda.gov': 0.011764705882352929,\n",
       " 'https://thoughtco.com': 0.011764705882352929,\n",
       " 'https://msn.com': 0.011764705882352929,\n",
       " 'https://linkedin.com': 0.011764705882352929,\n",
       " 'https://github.com': 0.011764705882352929,\n",
       " 'https://gamerant.com': 0.011764705882352929,\n",
       " 'https://nih.gov': 0.011764705882352929,\n",
       " 'https://wordreference.com': 0.011764705882352929,\n",
       " 'https://europa.eu': 0.011764705882352929,\n",
       " 'https://wikihow.com': 0.011764705882352929,\n",
       " 'https://www.gov.uk': 0.011764705882352929,\n",
       " 'https://pixabay.com': 0.011764705882352929,\n",
       " 'https://cbr.com': 0.011764705882352929,\n",
       " 'https://allrecipes.com': 0.011764705882352929,\n",
       " 'https://studocu.com': 0.011764705882352929,\n",
       " 'https://vecteezy.com': 0.011764705882352929,\n",
       " 'https://pinterest.es': 0.011764705882352929,\n",
       " 'https://quora.com': 0.011764705882352929,\n",
       " 'https://themoviedb.org': 0.011764705882352929,\n",
       " 'https://oup.com': 0.011764705882352929,\n",
       " 'https://www.nhs.uk': 0.011764705882352929,\n",
       " 'https://vimeo.com': 0.011764705882352929,\n",
       " 'https://sagepub.com': 0.011764705882352929,\n",
       " 'https://crunchbase.com': 0.011764705882352929,\n",
       " 'https://wikiwand.com': 0.011764705882352929,\n",
       " 'https://business.site': 0.011764705882352929,\n",
       " 'https://medium.com': 0.011764705882352929,\n",
       " 'https://parade.com': 0.011764705882352929,\n",
       " 'https://lifewire.com': 0.011764705882352929,\n",
       " 'https://line.me': 0.011764705882352929,\n",
       " 'https://pinterest.com': 0.011764705882352929,\n",
       " 'https://ebay.co.uk': 0.011764705882352929,\n",
       " 'https://instagram.com': 0.011764705882352929,\n",
       " 'https://kidshealth.org': 0.011764705882352929,\n",
       " 'https://thegamer.com': 0.011764705882352929,\n",
       " 'https://restaurantguru.com': 0.011764705882352929,\n",
       " 'https://canada.ca': 0.011764705882352929,\n",
       " 'https://bestbuy.com': 0.011764705882352929,\n",
       " 'https://cambridge.org': 0.011764705882352929,\n",
       " 'https://canva.com': 0.011764705882352929,\n",
       " 'https://makeuseof.com': 0.011764705882352929,\n",
       " 'https://indianexpress.com': 0.011764705882352929,\n",
       " 'https://researchgate.net': 0.011764705882352929,\n",
       " 'https://steampowered.com': 0.011764705882352929,\n",
       " 'https://screenrant.com': 0.011764705882352929,\n",
       " 'https://investopedia.com': 0.011764705882352929,\n",
       " 'https://khanacademy.org': 0.011764705882352929,\n",
       " 'https://cornell.edu': 0.011764705882352929,\n",
       " 'https://pbs.org': 0.011764705882352929,\n",
       " 'https://dailymotion.com': 0.011764705882352929,\n",
       " 'https://go.com': 0.011764705882352929,\n",
       " 'https://people.com': 0.011764705882352929,\n",
       " 'https://hopkinsmedicine.org': 0.011764705882352929,\n",
       " 'https://wiktionary.org': 0.011764705882352929,\n",
       " 'https://waze.com': 0.011764705882352929,\n",
       " 'https://ebay.ca': 0.011764705882352929,\n",
       " 'https://mit.edu': 0.011764705882352929,\n",
       " 'https://msdmanuals.com': 0.011764705882352929,\n",
       " 'https://ny.gov': 0.011764705882352929,\n",
       " 'https://wikidata.org': 0.011764705882352929,\n",
       " 'https://stackexchange.com': 0.011764705882352929,\n",
       " 'https://britannica.com': 0.011764705882352929,\n",
       " 'https://wikimedia.org': 0.011764705882352929,\n",
       " 'https://clevelandclinic.org': 0.011764705882352929,\n",
       " 'https://sportskeeda.com': 0.011764705882352929,\n",
       " 'https://discogs.com': 0.011764705882352929,\n",
       " 'https://youtube.com': 0.011764705882352929,\n",
       " 'https://kwai.com': 0.011764705882352929,\n",
       " 'https://ikea.com': 0.011764705882352929,\n",
       " 'https://tripadvisor.co.uk': 0.011764705882352929,\n",
       " 'https://glosbe.com': 0.011764705882352929,\n",
       " 'https://wordpress.com': 0.011764705882352929,\n",
       " 'https://ebay.com': 0.011764705882352929,\n",
       " 'https://lemon8-app.com': 0.011764705882352929,\n",
       " 'https://collider.com': 0.011764705882352929}"
      ]
     },
     "execution_count": 27,
     "metadata": {},
     "output_type": "execute_result"
    }
   ],
   "source": [
    "nx.pagerank(G, alpha=0.8, max_iter=100, tol=1e-06, )"
   ]
  },
  {
   "cell_type": "code",
   "execution_count": null,
   "metadata": {},
   "outputs": [],
   "source": []
  }
 ],
 "metadata": {
  "kernelspec": {
   "display_name": "spark",
   "language": "python",
   "name": "python3"
  },
  "language_info": {
   "codemirror_mode": {
    "name": "ipython",
    "version": 3
   },
   "file_extension": ".py",
   "mimetype": "text/x-python",
   "name": "python",
   "nbconvert_exporter": "python",
   "pygments_lexer": "ipython3",
   "version": "3.12.3"
  }
 },
 "nbformat": 4,
 "nbformat_minor": 2
}
