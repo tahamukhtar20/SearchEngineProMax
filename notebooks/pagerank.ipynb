{
 "cells": [
  {
   "cell_type": "code",
   "execution_count": 13,
   "metadata": {},
   "outputs": [],
   "source": [
    "from pyspark.sql import SparkSession"
   ]
  },
  {
   "cell_type": "code",
   "execution_count": 3,
   "metadata": {},
   "outputs": [],
   "source": [
    "import os\n",
    "import json"
   ]
  },
  {
   "cell_type": "code",
   "execution_count": null,
   "metadata": {},
   "outputs": [],
   "source": [
    "spark = SparkSession().builder.getOrCreate()"
   ]
  },
  {
   "cell_type": "code",
   "execution_count": 6,
   "metadata": {},
   "outputs": [],
   "source": [
    "datasetDIR = \"../Crawler/output\""
   ]
  },
  {
   "cell_type": "code",
   "execution_count": 11,
   "metadata": {},
   "outputs": [],
   "source": [
    "class PageNode:\n",
    "    def __init__(self, url, forwardLinks):\n",
    "        self.url = url\n",
    "        self.forwardLinks = forwardLinks\n",
    "    def getUrl(self):\n",
    "        return self.url\n",
    "    def getOutGoingLinks(self):\n",
    "        return self.forwardLinks\n",
    "    \n",
    "    def __str__(self):\n",
    "        return f\"{self.url}\\t=>\\t{self.forwardLinks}\\n\"\n",
    "    def __repr__(self):\n",
    "        return f\"{self.url}\\t=>\\t{self.forwardLinks}\\n\""
   ]
  },
  {
   "cell_type": "code",
   "execution_count": 14,
   "metadata": {},
   "outputs": [
    {
     "name": "stdout",
     "output_type": "stream",
     "text": [
      "{'https://theguardian.com': [], 'https://archive.org': [], 'https://scribd.com': [], 'https://wikipedia.org': [], 'https://ew.com': [], 'https://etsy.com': [], 'https://city-data.com': [], 'https://istockphoto.com': [], 'https://facebook.com': [], 'https://depositphotos.com': [], 'https://usda.gov': [], 'https://thoughtco.com': [], 'https://msn.com': [], 'https://linkedin.com': [], 'https://github.com': [], 'https://gamerant.com': [], 'https://nih.gov': [], 'https://wordreference.com': [], 'https://europa.eu': [], 'https://wikihow.com': [], 'https://www.gov.uk': [], 'https://pixabay.com': [], 'https://cbr.com': [], 'https://allrecipes.com': [], 'https://studocu.com': [], 'https://vecteezy.com': [], 'https://pinterest.es': [], 'https://quora.com': [], 'https://themoviedb.org': [], 'https://oup.com': [], 'https://www.nhs.uk': [], 'https://vimeo.com': [], 'https://sagepub.com': [], 'https://crunchbase.com': [], 'https://wikiwand.com': [], 'https://business.site': [], 'https://medium.com': [], 'https://parade.com': [], 'https://lifewire.com': [], 'https://line.me': [], 'https://pinterest.com': [], 'https://ebay.co.uk': [], 'https://instagram.com': [], 'https://kidshealth.org': [], 'https://thegamer.com': [], 'https://restaurantguru.com': [], 'https://canada.ca': [], 'https://bestbuy.com': [], 'https://cambridge.org': [], 'https://canva.com': [], 'https://makeuseof.com': [], 'https://indianexpress.com': [], 'https://researchgate.net': [], 'https://steampowered.com': [], 'https://screenrant.com': [], 'https://investopedia.com': [], 'https://khanacademy.org': [], 'https://cornell.edu': [], 'https://pbs.org': [], 'https://dailymotion.com': [], 'https://go.com': [], 'https://people.com': [], 'https://hopkinsmedicine.org': [], 'https://wiktionary.org': [], 'https://waze.com': [], 'https://ebay.ca': [], 'https://mit.edu': [], 'https://msdmanuals.com': [], 'https://ny.gov': [], 'https://wikidata.org': [], 'https://stackexchange.com': [], 'https://britannica.com': [], 'https://wikimedia.org': [], 'https://clevelandclinic.org': [], 'https://sportskeeda.com': [], 'https://discogs.com': [], 'https://youtube.com': [], 'https://kwai.com': [], 'https://ikea.com': [], 'https://tripadvisor.co.uk': [], 'https://glosbe.com': [], 'https://wordpress.com': [], 'https://ebay.com': [], 'https://lemon8-app.com': [], 'https://collider.com': []}\n"
     ]
    }
   ],
   "source": [
    "pageNodes = {}\n",
    "\n",
    "dataFiles = os.listdir(datasetDIR)\n",
    "for file in (dataFiles):\n",
    "    with open(os.path.join(datasetDIR, file)) as f:\n",
    "        data = json.load(f)\n",
    "        pageNodes[data['url']]=data['forwardLinks']\n",
    "        \n",
    "print(pageNodes)\n"
   ]
  },
  {
   "cell_type": "code",
   "execution_count": null,
   "metadata": {},
   "outputs": [],
   "source": []
  }
 ],
 "metadata": {
  "kernelspec": {
   "display_name": "Python 3",
   "language": "python",
   "name": "python3"
  },
  "language_info": {
   "codemirror_mode": {
    "name": "ipython",
    "version": 3
   },
   "file_extension": ".py",
   "mimetype": "text/x-python",
   "name": "python",
   "nbconvert_exporter": "python",
   "pygments_lexer": "ipython3",
   "version": "3.12.3"
  }
 },
 "nbformat": 4,
 "nbformat_minor": 2
}
