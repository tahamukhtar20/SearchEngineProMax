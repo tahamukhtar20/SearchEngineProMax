{
 "cells": [
  {
   "cell_type": "code",
   "execution_count": 1,
   "metadata": {},
   "outputs": [],
   "source": [
    "from pyspark.sql import SparkSession, Row\n",
    "from pyspark.sql.types import StructType, StructField, StringType\n",
    "from pyspark.sql.functions import col, lit, sum as spark_sum"
   ]
  },
  {
   "cell_type": "code",
   "execution_count": 2,
   "metadata": {},
   "outputs": [],
   "source": [
    "import os\n",
    "import json\n",
    "from dotenv import dotenv_values\n",
    "\n",
    "import pandas as pd\n",
    "from tqdm import tqdm"
   ]
  },
  {
   "cell_type": "code",
   "execution_count": 3,
   "metadata": {},
   "outputs": [],
   "source": [
    "config = dotenv_values(\"../.env\")"
   ]
  },
  {
   "cell_type": "code",
   "execution_count": 4,
   "metadata": {},
   "outputs": [
    {
     "data": {
      "text/plain": [
       "odict_items([('SPLIT_DATASET_DIR', '/dataset/splitupDataset'), ('LOG_DIR', '/Crawler/logs'), ('OUTPUT_DIR', '../Crawler/output'), ('SCRAPED_DATA', '../Crawler/output')])"
      ]
     },
     "execution_count": 4,
     "metadata": {},
     "output_type": "execute_result"
    }
   ],
   "source": [
    "config.items()"
   ]
  },
  {
   "cell_type": "code",
   "execution_count": 5,
   "metadata": {},
   "outputs": [
    {
     "name": "stderr",
     "output_type": "stream",
     "text": [
      "24/05/19 12:57:48 WARN Utils: Your hostname, sunaam-pc resolves to a loopback address: 127.0.1.1; using 10.7.94.48 instead (on interface wlx001ea643c8cb)\n",
      "24/05/19 12:57:48 WARN Utils: Set SPARK_LOCAL_IP if you need to bind to another address\n",
      "Setting default log level to \"WARN\".\n",
      "To adjust logging level use sc.setLogLevel(newLevel). For SparkR, use setLogLevel(newLevel).\n",
      "24/05/19 12:57:51 WARN NativeCodeLoader: Unable to load native-hadoop library for your platform... using builtin-java classes where applicable\n"
     ]
    }
   ],
   "source": [
    "spark = SparkSession.builder.appName(\"PageRank\").getOrCreate()"
   ]
  },
  {
   "cell_type": "code",
   "execution_count": 6,
   "metadata": {},
   "outputs": [],
   "source": [
    "class PageNode:\n",
    "    def __init__(self, url, forwardLinks):\n",
    "        self.url = url\n",
    "        self.forwardLinks = forwardLinks\n",
    "    def getUrl(self):\n",
    "        return self.url\n",
    "    def getOutGoingLinks(self):\n",
    "        return self.forwardLinks\n",
    "    \n",
    "    def __str__(self):\n",
    "        return f\"{self.url}\\t=>\\t{self.forwardLinks}\\n\"\n",
    "    def __repr__(self):\n",
    "        return f\"{self.url}\\t=>\\t{self.forwardLinks}\\n\""
   ]
  },
  {
   "cell_type": "code",
   "execution_count": 7,
   "metadata": {},
   "outputs": [
    {
     "name": "stdout",
     "output_type": "stream",
     "text": [
      "{'https://wordpress.com': ['https://wpvip.com', 'https://apps.wordpress.com', 'https://www.bluehost.com'], 'https://123moviesfree.app': [], 'https://10wontips.blogspot.com': ['https://www.blogger.com'], 'https://18jp.fun': [], 'https://hinkhoj.com': [], 'https://dribbble.com': ['http://twitter.com', 'http://facebook.com', 'http://instagram.com', 'http://www.pinterest.com'], 'https://1917.co.nz': ['https://www.facebook.com', 'https://www.instagram.com'], 'https://123moviesfree.icu': ['https://123moviesplay.cc'], 'https://1push.io': [], 'https://1miba.com': ['https://guanliqi.zhiouwang.com', 'https://vr.zhiouwang.com', 'https://zhichan.zhiouwang.com', 'https://wpa1.qq.com'], 'https://012mobile.co.il': [], 'https://123movies.ski': [], 'https://issuu.com': [], 'https://1campus.net': [], 'https://0xprocessing.com': [], 'https://1337.no': [], 'https://123clickz.com': [], 'https://144tehranpharmacy.com': [], 'https://113366.com': [], 'https://1024.no': [], 'https://theguardian.com': ['https://www.wordiply.com'], 'https://linkedin.com': ['https://about.linkedin.com', 'https://press.linkedin.com', 'https://blog.linkedin.com', 'https://developer.linkedin.com', 'https://mobile.linkedin.com', 'https://business.linkedin.com', 'https://learning.linkedin.com', 'https://brand.linkedin.com'], 'https://212xnxx.com': [], 'https://merckmanuals.com': [], 'https://123movies10.com': [], 'https://18dao.net': [], 'https://powerthesaurus.org': [], 'https://wordwall.net': [], 'https://1-11.com.au': [], 'https://12edit.ru': ['https://youtu.be', 'https://www.youtube.com'], 'https://10stunninghomes.com': [], 'https://sportskeeda.com': ['https://play.google.com'], 'https://123moviestv.me': [], 'https://etsy.com': [], 'https://18dreams.net': [], 'https://21connectpro.com': [], 'https://1337xxx.to': [], 'https://1kmovies.biz': [], 'https://100p.nl': [], 'https://0data.fr': [], 'https://1stchoice.co.uk': [], 'https://2007rshelp.com': [], 'https://2067.info': ['https://www.plesk.com', 'https://docs.plesk.com', 'https://support.plesk.com', 'https://talk.plesk.com', 'https://www.youtube.com', 'https://www.facebook.com'], 'https://123movies.college': [], 'https://123apps.com': [], 'https://1985games.com': ['https://x.com', 'https://www.instagram.com', 'https://www.tiktok.com', 'https://www.youtube.com'], 'https://101weiqi.com': [], 'https://1929hotel.com': [], 'https://123moviesfox.co': [], 'https://carfax.com': [], 'https://msn.com': [], 'https://1tamilmv.pics': [], 'https://1728.org': ['http://www.standuptojewishhate.org', 'https://www.freefind.com', 'https://www.twitter.com', 'https://www.facebook.com', 'http://www.timeanddate.com', 'http://www.nist.gov', 'https://www.nist.gov'], 'https://10heroes.cn': [], 'https://10short.com': ['https://api.whatsapp.com'], 'https://1stopinstruction.com': [], 'https://11x256.github.io': [], 'https://umn.edu': ['https://admissions.tc.umn.edu', 'http://umn.force.com', 'https://crk.umn.edu', 'https://www4.morris.umn.edu', 'https://d.umn.edu', 'https://twin-cities.umn.edu', 'https://r.umn.edu', 'https://www.facebook.com', 'https://www.instagram.com', 'https://www.linkedin.com', 'https://www.tiktok.com', 'https://twitter.com', 'https://www.youtube.com'], 'https://thesaurus.com': [], 'https://1991stores.com': ['https://www.facebook.com', 'https://www.instagram.com'], 'https://1sudoku.com': [], 'https://17jita.com': ['https://brand.jita17.com', 'https://www.jita17.com'], 'https://12q.site': [], 'https://1080zyk.com': ['https://t.me', 'http://qm.qq.com', 'http://23.225.52.71', 'https://www.cmschajian.com', 'https://www.omaxcn.com'], 'https://21lab.co': [], 'https://123nhadatviet.com': [], 'https://state.mn.us': ['https://mn.gov', 'https://drive.mn.gov', 'https://www.revenue.state.mn.us', 'https://www.sos.state.mn.us'], 'https://verywellfit.com': ['https://www.dotdashmeredith.com', 'http://instagram.com', 'https://www.tiktok.com', 'https://www.facebook.com', 'https://flipboard.com'], 'https://247gamespro.com': [], 'https://1stclass.uk.com': ['https://www.linkedin.com', 'https://www.facebook.com', 'https://twitter.com'], 'https://1st.com': ['https://www.pegasusworldcup.com'], 'https://commonsensemedia.org': [], 'https://nytimes.com': [], 'https://1xnews.xyz': [], 'https://tripadvisor.co.uk': [], 'https://136888.com': [], 'https://123series.io': [], 'https://1mei.live': ['https://546a.sgpjsaudc.cc', 'https://ddkl4gfh7i.com', 'https://a22d.sublhci.com', 'https://gkykwh.com', 'https://www.tip-top.one', 'https://rf83x.vip', 'https://1asmr.xyz'], 'https://1000va.ru': [], 'https://10thclassresullts.blogspot.com': [], 'https://facebook.com': [], 'https://1607694915.rsc.cdn77.org': [], 'https://ca.gov': [], 'https://123moviesfree.bar': [], 'https://1freshmix.myshopify.com': ['https://www.shopify.com', 'https://shop.app', 'https://shopify.com'], 'https://180upload.com': [], 'https://vimeo.com': [], 'https://21-bal.com': [], 'https://1387905758.rsc.cdn77.org': [], 'https://100hotgames.com': [], 'https://columbia.edu': ['https://cumc.columbia.edu', 'https://library.columbia.edu', 'https://gocolumbialions.com', 'https://giving.columbia.edu', 'https://news.columbia.edu', 'https://www.tc.columbia.edu', 'https://www.gs.columbia.edu', 'https://www.nursing.columbia.edu', 'https://neighbors.columbia.edu', 'https://www.engineering.columbia.edu', 'https://www.college.columbia.edu', 'https://arts.columbia.edu', 'https://dartcenter.org', 'https://sps.columbia.edu', 'https://datascience.columbia.edu', 'https://zuckermaninstitute.columbia.edu', 'https://www.cuimc.columbia.edu', 'https://news.climate.columbia.edu', 'https://sustainable.columbia.edu', 'https://earthday.columbia.edu', 'https://magazine.columbia.edu', 'http://news.columbia.edu', 'https://www.registrar.columbia.edu', 'https://summer.sps.columbia.edu', 'https://visit.columbia.edu', 'https://commencement.columbia.edu', 'https://careers.columbia.edu', 'https://www.youtube.com', 'https://vimeo.com', 'http://www.cumc.columbia.edu', 'http://www.ldeo.columbia.edu', 'http://www.gocolumbialions.com', 'http://globalcenters.columbia.edu', 'https://plus.columbia.edu', 'https://gca.columbia.edu', 'https://ddc.college.columbia.edu', 'https://www.communityimpact.columbia.edu', 'https://www.mailman.columbia.edu', 'https://www.communityservice.columbia.edu'], 'https://140online.com': [], 'https://timeanddate.com': [], 'https://0gomovies.sk': ['https://0gomovies.app'], 'https://192.com': [], 'https://114yygh.com': [], 'https://050644zf.github.io': [], 'https://1000londonescorts.com': ['https://wa.me', 'https://t.me', 'https://www.escortrankings.uk', 'https://www.escortselitetop.com', 'https://www.captain69.co.uk', 'https://www.londonukescorts.co.uk', 'https://avaescorts.com', 'https://www.girl-directory.com', 'https://www.theeroticreview.com', 'https://www.punterlink.co.uk', 'https://www.mccoysguide.com'], 'https://22pixx.xyz': ['https://xxxclub.to'], 'https://lyst.com': [], 'https://25ll.com': [], 'https://2022outlawmusicfestival.com': [], 'https://112meldingen.nl': [], 'https://076.ne.jp': ['https://gitler.moe'], 'https://16personalities.com': [], 'https://medlineplus.gov': ['http://www.nih.gov', 'https://magazine.medlineplus.gov', 'https://clinicaltrials.gov', 'https://twitter.com', 'https://facebook.com', 'https://www.instagram.com'], 'https://123movieshubtc.tumblr.com': ['https://www.tumblr.com'], 'https://0hi.me': [], 'https://redbubble.com': [], 'https://123movies.wiki': [], 'https://20four7va.co': ['https://www.facebook.com', 'https://twitter.com', 'https://www.instagram.com', 'https://www.linkedin.com'], 'https://123movieshub.one': [], 'https://wikipedia.org': ['https://donate.wikimedia.org', 'https://en.wikipedia.org', 'https://play.google.com', 'https://itunes.apple.com'], 'https://twitter.com': [], 'https://0x.watch': [], 'https://theculturetrip.com': [], 'https://1d4chan.net': [], 'https://1stnatbk.com': [], 'https://0xdf.gitlab.io': [], 'https://0098sms.com': ['https://telegram.me'], 'https://012cloud.jp': [], 'https://123moviesfun.is': [], 'https://0bb.ru': [], 'https://clevelandclinic.org': ['https://www.clevelandclinicabudhabi.ae', 'https://clevelandcliniclondon.uk', 'https://www.facebook.com', 'https://twitter.com', 'https://www.youtube.com', 'https://www.instagram.com', 'https://www.linkedin.com', 'https://www.pinterest.com', 'https://www.snapchat.com'], 'https://upenn.edu': ['https://penntoday.upenn.edu', 'https://diversity.upenn.edu', 'https://provost.upenn.edu', 'https://in-principle-and-practice.upenn.edu', 'https://instagram.com', 'https://www.facebook.com', 'http://twitter.com', 'https://www.flickr.com', 'http://www.youtube.com', 'https://www.linkedin.com'], 'https://123chill.io': [], 'https://12m.xyz': [], 'https://24storage.se': [], 'https://1abakan.ru': [], 'https://1stdomains.co.nz': ['http://www.hitwise.com'], 'https://123movies.ai': [], 'https://123lease.nl': [], 'https://glosbe.com': ['https://auth.glosbe.com', 'https://en.glosbe.com', 'https://app.glosbe.com'], 'https://1plan-sexe.com': [], 'https://210dalmatians.com': [], 'https://hopkinsmedicine.org': [], 'https://18sexing.com': [], 'https://123movies.top': [], 'https://11zon.com': ['https://bigpdf.11zon.com', 'https://imagecompressor.11zon.com', 'https://converter.11zon.com', 'https://bigimage.11zon.com', 'https://bigzip.11zon.com', 'https://bigbarcode.11zon.com', 'https://passwordgenerator.11zon.com', 'https://app.11zon.com'], 'https://1win-pay.com': [], 'https://alberta.ca': [], 'https://24cd.pl': [], 'https://007james.com': [], 'https://24-info.pro': [], 'https://10-pharm.com': [], 'https://123films.ch': [], 'https://114gundam.co.kr': [], 'https://123clk.co': [], 'https://2000things.com': ['https://2000things.wordpress.com', 'https://wordpress.com', 'https://automattic.com'], 'https://01.ma': [], 'https://southernliving.com': ['https://www.magazines.com', 'https://w1.buysub.com', 'https://www.southernlivinginspiredcommunities.com', 'https://www.instagram.com', 'https://www.pinterest.com', 'https://www.tiktok.com', 'https://www.facebook.com', 'https://www.youtube.com', 'https://twitter.com', 'https://www.dotdashmeredith.com'], 'https://20hourrule.com': [], 'https://bu.edu': [], 'https://made-in-china.com': ['https://activity.made-in-china.com', 'https://expo.made-in-china.com', 'https://trading.made-in-china.com', 'https://sourcing.made-in-china.com', 'https://mei.made-in-china.com', 'https://custom.made-in-china.com', 'http://cn.made-in-china.com'], 'https://1lib.sk': ['https://zlib-articles.se'], 'https://1tubehd.com': [], 'https://260mb.net': [], 'https://20icipp.com': [], 'https://marthastewart.com': ['https://www.themarthablog.com', 'https://www.facebook.com', 'https://www.instagram.com', 'https://twitter.com', 'https://www.pinterest.com', 'https://www.youtube.com', 'https://www.tiktok.com', 'https://flipboard.com', 'https://www.dotdashmeredith.com'], 'https://123moviesfree.blog': [], 'https://1004when.com': [], 'https://1dapp.news': [], 'https://1001scenaristes.com': ['https://www.scenaristes.com'], 'https://filmaffinity.com': ['https://www.facebook.com', 'https://twitter.com', 'https://api.whatsapp.com'], 'https://apkpure.com': ['https://tvonic.com', 'https://t.me', 'https://www.facebook.com', 'https://twitter.com', 'https://www.youtube.com', 'https://apkpure.fr'], 'https://020.co.uk': [], 'https://0magnet.com': [], 'https://nordstrom.com': [], 'https://123chill.cc': [], 'https://1gb.ru': [], 'https://1324hyc4.xyz': [], 'https://2022onlinecheap.ru': [], 'https://stackexchange.com': ['https://meta.stackexchange.com', 'https://stats.stackexchange.com', 'https://ell.stackexchange.com', 'https://workplace.stackexchange.com', 'https://worldbuilding.stackexchange.com', 'https://mathematica.stackexchange.com', 'https://math.stackexchange.com', 'https://codegolf.stackexchange.com', 'https://askubuntu.com', 'https://politics.stackexchange.com', 'https://apple.stackexchange.com', 'https://hermeneutics.stackexchange.com', 'https://academia.stackexchange.com', 'https://english.stackexchange.com', 'https://retrocomputing.stackexchange.com', 'https://physics.stackexchange.com', 'https://diy.stackexchange.com', 'https://history.stackexchange.com', 'https://rpg.stackexchange.com', 'https://space.stackexchange.com', 'https://law.stackexchange.com', 'https://photo.stackexchange.com', 'https://electronics.stackexchange.com', 'https://astronomy.stackexchange.com', 'https://stackoverflow.com', 'https://superuser.com', 'https://serverfault.com', 'https://ru.stackoverflow.com', 'https://unix.stackexchange.com', 'https://tex.stackexchange.com', 'https://api.stackexchange.com', 'https://data.stackexchange.com'], 'https://256content.com': ['https://www.facebook.com', 'https://www.instagram.com', 'https://www.linkedin.com', 'https://twitter.com', 'https://vimeo.com'], 'https://2aindustries.wordpress.com': ['http://www.buy2a.com', 'https://www.facebook.com', 'https://wordpress.com'], 'https://10chairs.com': ['https://sedo.com'], 'https://100points.ru': [], 'https://04-25297229.weebly.com': ['https://www.ubereats.com', 'https://www.foodpanda.com.tw'], 'https://1monatewakasi.wordpress.com': ['https://wordpress.com', 'https://automattic.com'], 'https://10print.org': ['https://bookshop.org', 'https://www.penguinrandomhouse.com', 'https://reas.com', 'http://doit2013.org', 'https://trixter.oldskool.org', 'https://www.pcgamer.com'], 'https://123.ma': [], 'https://11011110.github.io': [], 'https://thegamer.com': ['https://www.valnetinc.com'], 'https://instagram.com': [], 'https://1secondcopy.com': [], 'https://1jili.net': ['https://1asmr.top'], 'https://1408ad.com': [], 'https://10starhd.guru': [], 'https://1io.com': [], 'https://123b01.com': ['https://12312302.com'], 'https://123timer.com': ['https://123stopwatch.com', 'https://123alarmclock.com'], 'https://123moviestv.net': [], 'https://100daysofpython.dev': [], 'https://188dota.com': [], 'https://mapquest.com': [], 'https://10cricmedia.com': [], 'https://24hourprint.com': [], 'https://ct.gov': [], 'https://10best.com': [], 'https://247games.mobi': [], 'https://1000jeffersonapts.com': ['https://www.facebook.com', 'https://twitter.com', 'https://www.instagram.com', 'https://www.yelp.com'], 'https://05wang.com': [], 'https://126forum.de': [], 'https://12go.co': [], 'https://1plq.com': [], 'https://2021tao.com': [], 'https://1001fonts.com': [], 'https://100dayscss.com': [], 'https://19216811.live': [], 'https://in.gov': ['https://in.accessgov.com', 'https://mybmv.bmv.in.gov', 'https://indianastateparks.reserveamerica.com', 'https://events.in.gov'], 'https://1firstbank.com': [], 'https://1point3acres.com': [], 'https://1stmuzik.com': [], 'https://1001monngonmoingay.com': [], 'https://123movies0.online': [], 'https://12andus.com': [], 'https://1templenutrition.com': ['https://maps.google.com', 'https://facebook.com', 'http://instagram.com'], 'https://0gomovies.so': ['https://0gomovies.app'], 'https://202020.net': ['https://www.flynas.com', 'https://sabq.org', 'https://www.akhbaar24.com', 'https://www.alriyadh.com', 'https://www.absher.sa', 'https://haraj.com.sa', 'https://www.adslgate.com', 'https://www.alrajhibank.com.sa', 'https://www.noon.com', 'https://najiz.sa', 'https://www.virustotal.com', 'https://vi.vsafety.sa', 'https://salam.sa', 'https://www.slaati.com', 'https://www.al-madina.com', 'https://www.al-jazirah.com', 'https://www.alwatan.com.sa', 'https://www.independentarabia.com', 'https://www.zoho.com', 'https://protonmail.com', 'https://www.jawwy.sa', 'https://www.ejar.sa', 'https://balady.gov.sa', 'https://www.udemy.com', 'https://www.doroob.sa', 'https://ethrai.sa', 'https://learn.classera.com', 'https://maroof.sa', 'https://qiwa.sa', 'https://muqeem.sa', 'https://www.aramex.com', 'https://www.shopandship.com', 'https://www.smsaexpress.com', 'https://arriyadiyah.com', 'https://nic.sa'], 'https://1orn365.me': [], 'https://101superweb.com': [], 'https://0voice.com': ['https://it.0voice.com'], 'https://1upsexer.com': [], 'https://1promoter.com': [], 'https://24htopnews.net': [], 'https://114sim.com': [], 'https://jagranjosh.com': [], 'https://100devsfollowalong.netlify.app': [], 'https://100noticias.com.ni': ['https://www.facebook.com', 'https://twitter.com', 'http://www.youtube.com', 'https://www.instagram.com', 'https://t.me', 'https://www.paypal.me', 'https://www.linkedin.com', 'https://chat.whatsapp.com', 'https://open.spotify.com', 'https://www.tiktok.com', 'https://news.google.com', 'https://apps.apple.com', 'https://play.google.com'], 'https://18birdies.com': ['https://18birdies.onelink.me', 'https://apps.apple.com'], 'https://22o6.net': [], 'https://123movieson.to': [], 'https://2012portal.blogspot.com': ['https://www.blogger.com', 'https://www.welovemassmeditation.com', 'https://goddess-temple.earth', 'https://www.change.org', 'https://www.tachyonhungary.com', 'https://portal-report.com', 'http://prepareforchange.net', 'https://www.sisterhoodoftherose.network', 'https://medwyngoodall.com', 'http://ethericliberation.com', 'https://www.light-mandalas.com', 'http://tachyonis.org', 'http://www.cintamani.space', 'https://cintamanigalactic.blogspot.com', 'https://tachyonis.org'], 'https://indeed.com': [], 'https://redalyc.org': ['https://globaldiamantoa.org', 'https://xmljatsredalyc.org', 'http://semantic.redalyc.org'], 'https://10ff.net': [], 'https://18mag.net': [], 'https://1xbet359348.top': [], 'https://1hotelrez.com': [], 'https://0x0800.github.io': [], 'https://123test.com': [], 'https://ebay.co.uk': [], 'https://25maj.edu.mk': [], 'https://1001patterns.com': ['https://pinterest.com', 'https://www.facebook.com'], 'https://1vs1.lol': [], 'https://12go.asia': [], 'https://234ag.net': [], 'https://100megabit.ru': [], 'https://1paypg.in': [], 'https://tripadvisor.fr': [], 'https://pharmeasy.in': [], 'https://10proga.ru': [], 'https://16c8nh2801z2.top': ['https://sedo.com'], 'https://1soft-new.ucoz.ru': [], 'https://100percentreefsafe.com.au': [], 'https://123-movies.gdn': [], 'https://0xcb.dev': [], 'https://1800askdave.com': [], 'https://112.be': ['https://apps.apple.com', 'https://play.google.com', 'https://www.1722.be'], 'https://11aeinbox.com': [], 'https://18cute.net': [], 'https://1557.kyiv.ua': ['https://t.me'], 'https://189.net.cn': [], 'https://nina.az': [], 'https://usgs.gov': ['https://earthquake.usgs.gov', 'https://volcanoes.usgs.gov', 'https://www.doi.gov', 'https://www.facebook.com', 'https://twitter.com', 'https://www.youtube.com', 'https://www.instagram.com'], 'https://136.la': [], 'https://top-rated.online': [], 'https://012mail.net': [], 'https://123moviesgo.ac': [], 'https://24-7hunt.myshopify.com': [], 'https://livemint.com': [], 'https://123tv.live': [], 'https://soundcloud.com': ['https://artists.soundcloud.com', 'https://itunes.apple.com', 'https://play.google.com'], 'https://hubpages.com': [], 'https://10xgenomics.com': [], 'https://101travel.ru': [], 'https://123proxy.app': [], 'https://1x1.la': [], 'https://0zz0.com': ['https://besteaterys.com', 'https://cafesriyadh.com', 'https://saudiarestaurants.com', 'https://hospitals-sa.com', 'https://www.mexatk.com'], 'https://10plustoysau.myshopify.com': ['https://www.shopify.com', 'https://shop.app', 'https://shopify.com'], 'https://1onebet.com': [], 'https://2022factoryoutlet.ru': [], 'https://17ten.at': [], 'https://business.site': ['https://business.google.com', 'https://support.google.com', 'https://smallbusiness.googleblog.com', 'https://twitter.com', 'https://www.youtube.com', 'https://www.facebook.com', 'https://learndigital.withgoogle.com', 'https://www.yourprimer.com', 'https://userresearch.google.com', 'https://skillshop.exceedlms.com', 'https://developers.google.com', 'https://cloud.google.com', 'https://ads.google.com', 'https://workspace.google.com', 'https://businessmessages.google', 'https://adsense.google.com', 'https://www.google.com', 'https://www.thinkwithgoogle.com', 'https://rework.withgoogle.com', 'https://testmysite.thinkwithgoogle.com', 'https://policies.google.com', 'https://about.google'], 'https://18indian.com': [], 'https://12magicclick.com': [], 'https://zara.com': [], 'https://143loveme.com': [], 'https://19lucas66.wixsite.com': [], 'https://13b06e.myshopify.com': ['https://www.shopify.com', 'https://shop.app', 'https://shopify.com'], 'https://1888pressrelease.com': [], 'https://justia.com': ['https://connect.justia.com', 'https://news.justia.com', 'https://accounts.justia.com', 'https://www.facebook.com', 'https://twitter.com', 'https://www.linkedin.com', 'https://www.youtube.com', 'https://lawyers.justia.com'], 'https://021-nekretnine.rs': [], 'https://1manstudio.net': [], 'https://tripadvisor.it': [], 'https://00ff00.de': [], 'https://prokerala.com': [], 'https://123face.net': ['https://hitools.pro', 'https://line.me', 'https://i.pinimg.com'], 'https://1clancer.ru': [], 'https://10xmarketingprogram.com': [], 'https://1rre.ru': [], 'https://153news.net': [], 'https://16175.com': [], 'https://0mmo.net': [], 'https://20biquge.com': [], 'https://123.ru': [], 'https://1c.ru': [], 'https://merriam-webster.com': ['https://shop.merriam-webster.com', 'https://merriamwebster.threadless.com', 'https://unabridged.merriam-webster.com', 'https://www.britannica.com', 'https://itunes.apple.com', 'https://play.google.com'], 'https://123movies5.com': [], 'https://samsclub.com': [], 'https://29chat.com': [], 'https://050.hk': [], 'https://1100ad.com': ['http://www.youtube.com', 'http://ambergames.com'], 'https://178yqcr.com': [], 'https://09djankezova70.wixsite.com': [], 'https://1redpaperclip.com': [], 'https://007.hr': ['https://www.shop.007.hr'], 'https://123desenhosparacolorir.com': [], 'https://18yoga.com': [], 'https://ew.com': ['https://www.facebook.com', 'https://www.instagram.com', 'https://twitter.com', 'https://www.pinterest.com', 'https://www.youtube.com', 'https://www.tiktok.com', 'https://flipboard.com', 'https://www.dotdashmeredith.com', 'https://www.magazines.com'], 'https://1psustt.myshopify.com': ['https://yournapbed.com'], 'https://people.com': ['https://www.magazines.com', 'https://w1.buysub.com', 'https://www.facebook.com', 'https://www.instagram.com', 'https://twitter.com', 'https://www.pinterest.com', 'https://www.youtube.com', 'https://www.tiktok.com', 'https://flipboard.com', 'https://www.dotdashmeredith.com'], 'https://byjus.com': ['https://www.byjusevents.com', 'https://shop.byjus.com', 'https://www.youtube.com', 'https://www.facebook.com', 'https://in.linkedin.com'], 'https://steemit.com': [], 'https://20fzw.com': ['https://www.duaiwang.cc'], 'https://gamerant.com': ['https://www.valnetinc.com'], 'https://045o0-my.sharepoint.com': [], 'https://123gofmovies.com': [], 'https://18pornvideos.net': [], 'https://189.cn': [], 'https://007swz.com': [], 'https://10bestdesign.com': ['https://twitter.com', 'https://www.facebook.com'], 'https://kiddle.co': ['https://es.kiddle.co'], 'https://17sex.vip': [], 'https://123sdfsdfsdfsd.ru': [], 'https://24hourlocksmithouston.com': [], 'https://1dwnld.xyz': [], 'https://1-al--maktaba-org.translate.goog': [], 'https://17yly.com': [], 'https://ohio.gov': [], 'https://metafilter.com': ['https://login.metafilter.com'], 'https://steampowered.com': ['https://store.steampowered.com', 'https://steamcommunity.com', 'https://help.steampowered.com'], 'https://100percent.co.nz': [], 'https://09dental.com': [], 'https://100meshkov.ru': [], 'https://20minutes.fr': [], 'https://188info.carrd.co': [], 'https://15.ai': [], 'https://17ebook.com': [], 'https://1api.net': [], 'https://12-18.com': ['https://de.linkedin.com', 'https://instagram.com', 'https://facebook.com'], 'https://2-lt.com': [], 'https://123movies.tw': ['https://sedo.com'], 'https://20bet.com': [], 'https://10xhostings.com': [], 'https://009adventure.blog': ['https://009adventure.wordpress.com', 'https://wordpress.com'], 'https://13dl.net': [], 'https://1ts19.top': [], 'https://101modeling.com': [], 'https://1lib.education': [], 'https://007superslot.com': [], 'https://lifewire.com': ['https://www.amazon.com', 'https://www.facebook.com', 'https://twitter.com'], 'https://16software.com': [], 'https://175dr.com': [], 'https://1lib.tw': ['https://sedo.com'], 'https://1senegal.net': [], 'https://120studio.github.io': [], 'https://1q.org': [], 'https://101convert.com': [], 'https://123movie.mn': [], 'https://123reclaim.co.uk': [], 'https://1xbet841840.top': [], 'https://0cili.net': [], 'https://113kp.com': [], 'https://2022-a3-2022-a3-group-6-git-dev-group6-confused.vercel.app': [], 'https://1800d2c.com': [], 'https://france24.com': ['https://emailing.france24.com', 'https://observers.france24.com', 'https://www.oecd.org', 'https://stu2024.genderscan.org', 'https://vivatechnology.com', 'https://parisjetaime.com', 'https://www.emmaus-indignaction.org', 'https://www.francemediasmonde.com', 'https://f24.my'], 'https://00b.io': [], 'https://linguee.fr': [], 'https://1kevinson.com': [], 'https://thespruce.com': ['https://www.instagram.com', 'https://www.tiktok.com', 'https://www.pinterest.com', 'https://www.facebook.com', 'https://abcnews.go.com', 'https://www.dotdashmeredith.com'], 'https://oup.com': [], 'https://ebay.com': [], 'https://independent.co.uk': [], 'https://1st-mail.jp': [], 'https://123laundryshop.com': [], 'https://1001games.com': [], 'https://13dl.me': [], 'https://141jav.com': ['https://www.141ppv.com', 'https://www.theporndude.com', 'https://www.facebook.com', 'https://twitter.com'], 'https://12xlwin1m.net': [], 'https://1847884116.rsc.cdn77.org': [], 'https://123show.ru': ['https://metrika.yandex.ru'], 'https://1000mest.ru': [], 'https://screenrant.com': ['https://www.valnetinc.com'], 'https://hse.ie': ['https://www2.hse.ie', 'https://healthservice.hse.ie', 'https://about.hse.ie', 'https://www.healthpromotion.ie', 'http://healthservice.hse.ie'], 'https://wordreference.com': [], 'https://1fromyouflowers.com': ['https://dan.com'], 'https://101tubeporn.com': [], 'https://14four.com': [], 'https://tripadvisor.com.au': [], 'https://2020yz.com': [], 'https://247inktoner.com': ['https://www.facebook.com', 'https://twitter.com'], 'https://1cum.com': [], 'https://1publicagent.com': ['https://publicbang.net', 'https://bunnybrownies.com', 'https://creamgangs.com', 'https://sexempires.com'], 'https://gymglish.com': ['https://help.gymglish.com', 'https://fr-fr.facebook.com', 'https://twitter.com', 'https://www.linkedin.com', 'https://instagram.com', 'https://play.google.com', 'https://apps.apple.com'], 'https://2000charge.com': [], 'https://11pets.com': ['https://play.google.com', 'https://apps.apple.com', 'https://www.facebook.com', 'https://www.instagram.com'], 'https://11novosti.ru': [], 'https://1040paytax.com': [], 'https://12bt.cc': [], 'https://pbs.org': ['https://shop.pbs.org'], 'https://1000hz.github.io': [], 'https://1mark.work': [], 'https://canva.com': [], 'https://1asmr.xyz': [], 'https://1japansex.com': [], 'https://148-251-180-144.xyz': [], 'https://1st-art-gallery.com': ['https://wa.me', 'https://help.1st-art-gallery.com', 'https://www.facebook.com', 'https://www.instagram.com', 'https://www.tiktok.com', 'https://www.youtube.com', 'https://www.twitter.com', 'https://www.pinterest.com', 'https://www.linkedin.com'], 'https://bab.la': ['https://www.babla.co.id', 'https://www.babla.cn', 'https://cs.bab.la', 'https://da.bab.la', 'https://de.bab.la', 'https://www.babla.gr', 'https://en.bab.la', 'https://es.bab.la', 'https://fr.bab.la', 'https://it.bab.la', 'https://ja.bab.la', 'https://ko.bab.la', 'https://hu.bab.la', 'https://nl.bab.la', 'https://www.babla.no', 'https://pl.bab.la', 'https://pt.bab.la', 'https://ro.bab.la', 'https://www.babla.ru', 'https://fi.bab.la', 'https://sv.bab.la', 'https://www.babla.co.th', 'https://tr.bab.la', 'https://www.babla.vn'], 'https://022.co.il': [], 'https://www.gob.mx': [], 'https://1answer.guru': [], 'https://24dorama.com': [], 'https://004movie.blogspot.com': [], 'https://1337xx.to': [], 'https://0dxxx.com': [], 'https://1ty.me': [], 'https://2048cupcakes.org': [], 'https://24broker.ro': [], 'https://12men.weebly.com': ['https://www.weebly.com'], 'https://usda.gov': ['https://ask.usda.gov', 'https://www.fs.usda.gov', 'https://www.farmers.gov', 'https://www.myplate.gov', 'https://www.agcensus.usda.gov'], 'https://sagepub.com': [], 'https://000space.com': ['http://www.free-webhosts.com', 'http://www.absolutely-free-hosting.com', 'http://www.free-webspace.org'], 'https://1000toy.ru': ['http://vk.com', 'http://www.facebook.com'], 'https://mapcarta.com': [], 'https://247phim.com': [], 'https://wordhippo.com': [], 'https://1004easy.com': [], 'https://123moviesto.to': [], 'https://2090000.ru': [], 'https://1960tips.com': [], 'https://123moviesgo.club': [], 'https://24directory.com.ar': [], 'https://1f05.net': [], 'https://travelandleisure.com': ['https://www.magazines.com', 'https://w1.buysub.com', 'https://go.travelandleisure.com', 'https://www.clubtravelandleisure.com', 'https://www.facebook.com', 'https://flipboard.com', 'https://www.instagram.com', 'https://www.pinterest.com', 'https://www.tiktok.com', 'https://twitter.com', 'https://www.youtube.com', 'https://apple.news', 'https://open.spotify.com', 'https://podcasts.apple.com', 'https://www.dotdashmeredith.com', 'https://www.travelandleisurewine.com'], 'https://17zwd.com': ['https://gz.17zwd.com', 'https://stu.17zwd.com', 'https://wpa1.qq.com', 'https://17shop.kf5.com', 'https://www.wjx.cn', 'https://m.17zwd.com', 'https://promote.17zwd.com', 'http://si.trustutn.org', 'https://xinyong.yunaq.com'], 'https://17173.la': [], 'https://2008php.com': ['https://web.2008php.com'], 'https://yourdictionary.com': ['https://thesaurus.yourdictionary.com', 'https://sentence.yourdictionary.com', 'https://wordfinder.yourdictionary.com', 'https://wordscapes.yourdictionary.com', 'https://www.instagram.com'], 'https://pngegg.com': [], 'https://123moviesfree.net': ['https://ww4.123moviesfree.net'], 'https://158300.com': [], 'https://10669881arubait001-my.sharepoint.com': [], 'https://18clubasia.com': [], 'https://1cliquesystems.com': [], 'https://122movies.blogspot.com': ['https://www.blogger.com'], 'https://17-minute-world-languages.com': ['https://www.weltreisewortschatz.de'], 'https://reserving.com': [], 'https://texas.gov': [], 'https://1290funds.com': [], 'https://github.com': ['https://githubuniverse.com', 'https://docs.github.com', 'https://skills.github.com', 'https://github.blog', 'https://education.github.com', 'https://resources.github.com', 'https://partner.github.com', 'https://x.com', 'https://www.facebook.com', 'https://www.linkedin.com', 'https://www.youtube.com', 'https://www.twitch.tv', 'https://www.tiktok.com'], 'https://12storeez.com': [], 'https://256h.com': [], 'https://bmj.com': ['https://bmjmedicine.bmj.com'], 'https://0v0.games': [], 'https://0curtain0.github.io': [], 'https://12knots.com': ['https://12knots.ru', 'https://client.12knots.com', 'https://www.facebook.com', 'https://www.instagram.com', 'https://www.linkedin.com', 'https://www.youtube.com', 'https://apps.apple.com', 'https://play.google.com', 'https://www.iytworld.com', 'http://www.euminia.com'], 'https://12580ic.com': [], 'https://1402.com': [], 'https://1qatarjobs.com': [], 'https://18183.cn': [], 'https://studocu.com': [], 'https://1crp.by': [], 'https://1x-xredbet478860.top': ['https://sedo.com'], 'https://23qb.com': [], 'https://10web.io': ['https://my.10web.io', 'https://www.techradar.com', 'https://www.forbes.com', 'https://techcrunch.com', 'https://join.slack.com', 'https://twitter.com', 'https://www.youtube.com', 'https://www.facebook.com', 'https://www.linkedin.com'], 'https://2022gadgets.com': [], 'https://159i.com': [], 'https://0daydown.com': [], 'https://100883.com': [], 'https://123movies.com': [], 'https://23hq.com': [], 'https://1zp.cn': [], 'https://songfacts.com': [], 'https://medium.com': [], 'https://123moviesday.com': [], 'https://1abc.org': [], 'https://untappd.com': ['https://play.google.com', 'https://apps.apple.com', 'https://utfb.untappd.com', 'https://store.untappd.com', 'https://help.untappd.com', 'https://www.nextglass.co', 'https://www.facebook.com', 'https://www.instagram.com'], 'https://1lnk.one': [], 'https://1advertising.xyz': [], 'https://lastminute.com': [], 'https://123-kaminofen.de': [], 'https://1000xresist.com': [], 'https://roku.com': [], 'https://europa.eu': ['https://european-union.europa.eu'], 'https://1yuridicheskaya-konsultaciya.ru': ['https://formula03.ru', 'http://www.liveinternet.ru', 'http://yandex.ru'], 'https://1-2-3movies.com': [], 'https://009.xn--p1ai': [], 'https://118pan.com': [], 'https://1wiwil.top': ['https://sedo.com'], 'https://1midwayusa.com': ['https://dan.com'], 'https://seamless.com': [], 'https://123blog.tw': [], 'https://1word.ws': [], 'https://1c-umi.ru': [], 'https://1024vi.com': [], 'https://19bestme.com': [], 'https://101movies.fun': [], 'https://1granary.com': [], 'https://0x.com': [], 'https://bestbuy.com': [], 'https://archiveofourown.org': [], 'https://019sms.co.il': [], 'https://169tp.com': [], 'https://10bestcasinos.co.uk': [], 'https://121consign.com': ['https://maps.google.com', 'https://facebook.com'], 'https://141jj.com': [], 'https://111com.net': [], 'https://1337xto.to': [], 'https://022022.net': [], 'https://1ps.ru': [], 'https://1377x.to': [], 'https://1techno.org': [], 'https://100oaks.blog': ['https://100oaks.wordpress.com', 'https://wordpress.com'], 'https://0daylabs.com': [], 'https://illinois.edu': ['https://giving.illinois.edu', 'https://twitter.com', 'http://facebook.com', 'https://www.tiktok.com', 'http://linkedin.com', 'http://instagram.com', 'http://youtube.com', 'http://weibo.com'], 'https://1stunited.com': [], 'https://24dev.co': [], 'https://112tychy.pl': [], 'https://123gamez.com': [], 'https://1-ig--klettern--niedersachsen-de.translate.goog': [], 'https://14phoenix.blogspot.com': ['https://www.blogger.com'], 'https://03ed9035a0801f.com': [], 'https://masterclass.com': [], 'https://15lovingclub.com': [], 'https://123moviesonline.one': [], 'https://etymonline.com': [], 'https://restaurantguru.com': ['https://admin.restaurantguru.com', 'https://t.restaurantguru.com'], 'https://123moviesg.com': ['https://sedo.com'], 'https://1dispatch.com': ['https://www.facebook.com', 'https://twitter.com', 'https://www.youtube.com'], 'https://0to255.com': ['https://buy.stripe.com'], 'https://wikihow.com': ['https://de.wikihow.com', 'https://www.wikihow.life'], 'https://utexas.edu': ['https://giving.utexas.edu', 'https://news.utexas.edu', 'https://admissions.utexas.edu', 'https://onestop.utexas.edu', 'https://gradschool.utexas.edu', 'https://community.utexas.edu', 'https://facultyjobs.utexas.edu', 'https://extendedcampus.utexas.edu'], 'https://fandom.com': ['https://community.fandom.com', 'https://auth.fandom.com', 'https://harrypotter.fandom.com', 'https://matrix.fandom.com', 'https://dcextendeduniverse.fandom.com', 'https://gijoe.fandom.com', 'https://disney.fandom.com', 'https://monster-verse.fandom.com', 'https://thelastofus.fandom.com', 'https://tombraider.fandom.com', 'https://uncharted.fandom.com', 'https://zelda.fandom.com', 'https://pokemon.fandom.com', 'https://monsterhunter.fandom.com', 'https://mortalkombat.fandom.com', 'https://marvels-spider-man.fandom.com', 'https://starwars.fandom.com', 'https://witcher.fandom.com', 'https://the-boys.fandom.com', 'https://avatar.fandom.com', 'https://titans.fandom.com', 'https://sexeducation.fandom.com', 'https://spongebob.fandom.com', 'https://www.muthead.com', 'https://www.fanatical.com', 'https://www.facebook.com', 'https://twitter.com', 'https://www.youtube.com', 'https://www.instagram.com', 'https://www.linkedin.com', 'https://fandom.zendesk.com', 'https://about.fandom.com', 'https://apps.apple.com', 'https://play.google.com'], 'https://1stvision.com': [], 'https://1stheadlines.com': [], 'https://wiktionary.org': [], 'https://00youtube.com': [], 'https://cbr.com': ['https://community.cbr.com', 'https://www.valnetinc.com'], 'https://24liveblog.com': ['https://portal.24liveblog.com', 'https://www.facebook.com', 'https://twitter.com'], 'https://18p.fun': [], 'https://123moviefree.sc': ['https://123movieszhub.co'], 'https://1001annonces.net': [], 'https://06ot6.com': [], 'https://0-60specs.com': [], 'https://112.kz': [], 'https://1bwxs.com': [], 'https://1ml.com': [], 'https://1800nynylaw.com': [], 'https://100x.vc': [], 'https://1-of--leaked-co.translate.goog': [], 'https://100gecs.com': [], 'https://pixabay.com': [], 'https://1080zyk3.com': ['https://t.me', 'http://qm.qq.com', 'http://23.225.52.71', 'https://www.cmschajian.com', 'https://www.omaxcn.com'], 'https://1viewtech.com': [], 'https://1024.cool': [], 'https://10001downloads.net': [], 'https://1doc.com.br': ['https://api.whatsapp.com', 'https://www.linkedin.com', 'https://www.instagram.com', 'https://www.youtube.com', 'https://app.1doc.com.br', 'https://blog.1doc.com.br'], 'https://100kshoutouts.com': [], 'https://forbes.com': ['https://account.forbes.com'], 'https://144-217-180-113.xyz': [], 'https://13x.app': [], 'https://101desires.com': [], 'https://allevents.in': ['https://youtu.be'], 'https://1stwave.co.nz': [], 'https://100500travel.blogspot.com': [], 'https://1arthouse.wordpress.com': ['https://wordpress.com'], 'https://2048btbt.xyz': [], 'https://1affiliateclub.com': [], 'https://1tamilmv.fans': ['https://sedo.com'], 'https://147.com.tw': [], 'https://17ce-my.sharepoint.com': [], 'https://justanswer.com': [], 'https://100nn.site': [], 'https://089u.com': [], 'https://1080zyk1.com': ['https://t.me', 'http://qm.qq.com', 'http://23.225.52.71', 'https://www.cmschajian.com', 'https://www.omaxcn.com'], 'https://100ksub.com': ['https://api.whatsapp.com'], 'https://waze.com': [], 'https://2b2t.com.de': [], 'https://13800138002.com': [], 'https://0044789.com': [], 'https://0gomovies.ac': ['https://0gomovies.app'], 'https://1-fs--stadium-com.translate.goog': [], 'https://1stplayer.com': ['https://www.1stplayer.com.cn'], 'https://11bit.co.in': ['https://t.me'], 'https://1upnote.me': ['https://itunes.apple.com', 'https://play.google.com', 'https://store.line.me'], 'https://123movies.co': ['https://www1.123movies.co'], 'https://1kino.to': [], 'https://20pen.live': [], 'https://1-2-print.co.uk': ['https://www.ekomi.co.uk'], 'https://1818.hu': [], 'https://24bit96.com': [], 'https://0xx0.nl': [], 'https://13hublane.com': ['https://www.instagram.com', 'https://www.facebook.com', 'https://www.tiktok.com'], 'https://123moviesgo.ga': [], 'https://scribd.com': [], 'https://1234wu.com': ['https://www.opensubtitles.org', 'http://ai.52358.com', 'http://www.kuaidi100.com', 'http://live.finance.sina.com.cn', 'http://www.beian.gov.cn'], 'https://1clickblogpost.com': ['https://warriorplus.com'], 'https://findmeglutenfree.com': [], 'https://tripadvisor.es': [], 'https://slideshare.net': [], 'https://1seoindia.com': [], 'https://2048game.com': ['https://twitter.com'], 'https://line.me': ['https://play.google.com', 'https://itunes.apple.com', 'https://desktop.line-scdn.net', 'https://news.line.me', 'https://doctor.line.me', 'https://pay.line.me', 'https://apps.apple.com', 'https://music.line.me', 'https://www.linebiz.com', 'https://linecorp.com', 'https://openchat.line.me', 'https://manga.line.me', 'https://fortune.line.me', 'https://linerecords.me', 'https://pointclub.line.me', 'https://baito.line.me', 'https://ec.line.me', 'https://www.linefriends.jp', 'https://chirashi.line.me', 'https://gift.line.me', 'https://line-sec.co.jp', 'https://linefinancialcorp.com', 'https://linecreditcorp.com', 'https://line-fx.com', 'https://pages.linebiz.com', 'https://reward.line.me', 'https://line.worksmobile.com', 'https://magiccoin.game.line.me', 'https://pokopangtown.game.line.me', 'https://pop2.game.line.me', 'https://lin.ee', 'https://apps.microsoft.com', 'https://www.youtube.com', 'https://www.facebook.com'], 'https://0kal38g35ctc.top': [], 'https://123patiens.se': [], 'https://1da.ir': [], 'https://1technophile.blogspot.com': ['https://www.blogger.com'], 'https://1800flyeurope.com': [], 'https://scientificamerican.com': [], 'https://01thy.top': [], 'https://educalingo.com': ['https://www.facebook.com', 'https://twitter.com', 'https://pinterest.com'], 'https://0goembed.com': [], 'https://1099express.com': ['https://secure.1099express.com'], 'https://1ts18.top': [], 'https://worldbank.org': ['https://blogs.worldbank.org', 'https://data.worldbank.org', 'https://www.facebook.com', 'https://www.twitter.com', 'https://www.linkedin.com', 'https://instagram.com', 'https://www.youtube.com', 'https://www.flickr.com', 'https://ida.worldbank.org'], 'https://1todaypk.live': ['https://sedo.com'], 'https://1bet168.com': [], 'https://realsimple.com': ['https://www.magazines.com', 'https://w1.buysub.com', 'https://www.instagram.com', 'https://www.tiktok.com', 'https://www.pinterest.com', 'https://www.youtube.com', 'https://www.facebook.com', 'https://twitter.com', 'https://www.dotdashmeredith.com', 'https://promo.realsimple.com'], 'https://100tamam.ir': [], 'https://16seats.net': [], 'https://15thfar.org': [], 'https://123telugu.com': ['https://gallery.123telugu.com'], 'https://1classtube.com': ['http://www.kavamediagroup.com'], 'https://1609ab.myshopify.com': ['https://www.shopify.com', 'https://shop.app', 'https://shopify.com'], 'https://1001ebooks.club': [], 'https://tvtropes.org': ['https://www.facebook.com', 'https://www.twitter.com'], 'https://123series.bz': [], 'https://1v1-lol.translate.goog': [], 'https://24seveneatsonline.com': [], 'https://123movies-official.net': [], 'https://100hs.org': [], 'https://uptodate.com': [], 'https://1jubt.top': [], 'https://zazzle.com': [], 'https://1-al--mounir-com.translate.goog': [], 'https://20glob.com': [], 'https://10015.io': [], 'https://autoblog.com': ['https://www.facebook.com', 'https://twitter.com', 'https://therealautoblog.tumblr.com', 'https://www.twitch.tv', 'https://flipboard.com', 'https://www.instagram.com', 'https://www.youtube.com'], 'https://1bb.ru': [], 'https://10drives.com': ['https://telegram.dog'], 'https://pinterest.ca': [], 'https://1v1.design': ['https://1.envato.market'], 'https://123ds.org': [], 'https://1d-heardle.glitch.me': [], 'https://agoda.com': [], 'https://05sun.com': [], 'https://byrdie.com': ['https://www.instagram.com', 'https://www.pinterest.com', 'https://www.facebook.com', 'https://www.tiktok.com', 'https://www.twitter.com'], 'https://1stopwebsitesolution.com': [], 'https://1library.net': ['https://play.google.com'], 'https://churchofjesuschrist.org': [], 'https://23055.ir': [], 'https://1wmdsr.top': ['https://sedo.com'], 'https://24fa8.com': [], 'https://pinterest.com': [], 'https://meteoblue.com': ['https://api.whatsapp.com', 'https://www.facebook.com', 'https://www.twitter.com', 'https://telegram.me', 'https://twitter.com', 'https://www.linkedin.com', 'https://www.instagram.com', 'https://www.youtube.com'], 'https://123weddingcards.com': ['https://m.me', 'https://mail.google.com'], 'https://24bursa.com': [], 'https://1movies.la': [], 'https://1400joycasino.com': [], 'https://123movies-org.site': [], 'https://1clickvpn.net': ['https://chrome.google.com'], 'https://1001pochta.ru': [], 'https://10degres.net': ['https://twitter.com', 'https://www.linkedin.com', 'https://github.com'], 'https://2048bt.cc': [], 'https://1lib.domains': [], 'https://arxiv.org': ['https://www.cornell.edu'], 'https://17track.net': [], 'https://035portal.hr': [], 'https://cancer.gov': ['https://nationalcancerplan.cancer.gov', 'https://www.facebook.com', 'https://twitter.com', 'https://www.instagram.com', 'https://www.youtube.com', 'https://www.linkedin.com', 'https://www.hhs.gov', 'https://www.nih.gov'], 'https://famousbirthdays.com': ['https://instagram.com', 'https://www.tiktok.com', 'https://twitter.com', 'https://www.youtube.com', 'https://itunes.apple.com', 'https://play.google.com', 'https://es.famousbirthdays.com', 'https://pt.famousbirthdays.com', 'https://fr.famousbirthdays.com'], 'https://18jinmanhua2.com': [], 'https://1eco.com': [], 'https://13x4.com': [], 'https://123movies2022.com': [], 'https://25fps.hr': ['https://www.facebook.com', 'https://twitter.com', 'https://vimeo.com', 'https://www.instagram.com'], 'https://1nightrent.com.au': ['https://instagram.com', 'https://calendly.com', 'https://1nightrent.myshopify.com', 'https://www.facebook.com', 'https://www.instagram.com', 'https://www.tiktok.com'], 'https://eatingwell.com': ['https://www.facebook.com', 'https://flipboard.com', 'https://www.instagram.com', 'https://www.pinterest.com', 'https://twitter.com', 'https://www.youtube.com', 'https://www.dotdashmeredith.com'], 'https://1929modelaford.blogspot.com': ['https://www.blogger.com'], 'https://0eb.com': [], 'https://01streaming.me': ['https://sedo.com'], 'https://15hprepairmanuals.blogspot.com': ['https://www.blogger.com'], 'https://12ft.io': [], 'https://libguides.com': [], 'https://1lib.limited': [], 'https://psychologytoday.com': ['https://www.facebook.com', 'https://twitter.com', 'https://www.instagram.com'], 'https://steamcommunity.com': ['https://store.steampowered.com', 'https://help.steampowered.com'], 'https://0x.org': [], 'https://29daoaa.com': [], 'https://1377x.is': [], 'https://1-piece-manga.com': [], 'https://1secret.myshopify.com': ['https://www.shopify.com', 'https://shop.app', 'https://shopify.com'], 'https://menards.com': [], 'https://1902software.com': ['https://supple.live'], 'https://1sourcecodr.blogspot.com': ['https://www.netvibes.com', 'https://add.my.yahoo.com'], 'https://15pp.info': [], 'https://191e.com': [], 'https://0x2c.org': [], 'https://study.com': [], 'https://1402.xyz': ['https://dan.com'], 'https://1v.to': [], 'https://11klassniki.ru': [], 'https://123edu.ro': [], 'https://spotify.com': [], 'https://1shortlink.com': [], 'https://umich.edu': ['https://record.umich.edu', 'https://news.umich.edu', 'https://www.forbes.com', 'https://theconversation.com', 'https://www.usatoday.com', 'https://www.newsweek.com', 'https://time.com', 'https://www.ft.com', 'https://www.youtube.com', 'http://events.umich.edu'], 'https://123-tarot.com': [], 'https://1bestlink.net': [], 'https://instyle.com': ['https://www.instagram.com', 'https://www.facebook.com', 'https://www.youtube.com', 'https://www.tiktok.com', 'https://twitter.com', 'https://www.pinterest.com', 'https://flipboard.com', 'https://us.pandora.net', 'https://www.dotdashmeredith.com'], 'https://15dice.com': [], 'https://10googol.org': [], 'https://wiley.com': ['https://customer.wiley.com', 'https://www.zybooks.com', 'https://www.dummies.com', 'https://www.jklasser.com', 'https://www.leadershipchallenge.com', 'https://onlinelibrary.wiley.com', 'https://oable.org', 'https://www.cochranelibrary.com', 'https://www.wileydigitalarchives.com', 'https://www.authorea.com', 'https://authorservices.wiley.com', 'https://currentprotocols.onlinelibrary.wiley.com', 'https://www.wiley-vch.de', 'https://www.ernst-und-sohn.de', 'https://www.hindawi.com', 'https://sciencesolutions.wiley.com', 'https://analyticalscience.wiley.com', 'https://wileyeditingservices.com', 'https://www.mthree.com', 'https://upskill.researcher.life', 'https://www.diversityinresearch.careers', 'https://newsroom.wiley.com', 'https://investors.wiley.com', 'https://careers.wiley.com', 'https://support.wiley.com'], 'https://123sonography.com': ['https://www.facebook.com', 'https://www.instagram.com', 'https://www.linkedin.com'], 'https://gotquestions.org': [], 'https://123servers.com': [], 'https://1stdomains.nz': ['http://www.hitwise.com'], 'https://123nhadatviet.net': [], 'https://234next.com': ['https://www.inno.be', 'https://victoriaplum.com', 'https://marmerbehandelen.nl', 'https://www.victorianplumbing.co.uk', 'https://www.nhs.uk', 'https://beastinocasino.com', 'https://www.onlinecamerashop.nl', 'https://u-town.nl', 'https://www.nrv.nl', 'https://socialspread.nl', 'https://www.thuisvoorteams.nl', 'https://www.autotrader.co.uk', 'https://www.theresident.co.uk', 'https://silentdisco.nl', 'https://www.datarecoverynederland.nl', 'https://www.constructionnews.co.uk', 'http://www.platinumcrete.com', 'https://nieuwe-casinos.net', 'https://coinmarketcap.com', 'https://forexadvies.com', 'https://smartcryptobot.com', 'https://www.neostart.nl', 'https://www.contrado.co.uk', 'https://www.doctors.net.uk', 'https://www.adorabledoodlepuppies.com', 'https://driivn.nl', 'https://www.gov.uk', 'https://www.moneyadviceservice.org.uk', 'https://www.investopedia.com', 'https://spaarbuidel.nl', 'https://www.fbu.org.uk', 'https://www.puregym.com', 'https://www.bbc.co.uk', 'https://www.goacasinoonline.com', 'https://www.casinosinmarrakech.com', 'http://buitenlandseonlinecasinos.org', 'https://www.cairocasinos.com', 'https://www.canadacasinohub.com', 'https://www.bestcasinoingoa.com', 'https://idealecasinos.nl', 'https://www.casino.info', 'https://www.casinoonlinecrypto.com', 'https://www.weddenopek.nl', 'https://www.onlinecasinolebanon.com', 'https://www.begambleaware.org', 'https://echtgeldspeler.com', 'https://www.voetbalgokken.nl', 'https://www.morocco-casino.com', 'https://www.nongamstopbetsites.com', 'https://www.onelineslots.com', 'https://www.sportgokken.eu', 'https://www.21.co.uk', 'https://www.onlinecasinocryptocurrency.com', 'https://www.cypruscasinoonline.com', 'https://www.kuwaitcasinoonline.com', 'https://www.onlinecasinosaudiarabia.com', 'https://www.onlinecasinospain.com', 'https://onlinecasinopoint.nl', 'https://casinozonderregistratie.net', 'https://casinodetective.nl', 'https://onlinecasinosspelen.com', 'https://www.no-account-casino.com', 'http://xn--mgbaaa7cwa0fraieubcxb2ah.com', 'https://www.xn--mgbad9ad7b1dlquu.com', 'https://www.casinoinkuwait.com', 'https://www.xn--mgbaaap8b7gfgcrbcxbhwhf.com', 'https://www.xn--mgbaama5bd0dxenbufcvsm.com', 'https://www.xn--mgbaaan0c7gnodcfmexk.com', 'https://www.xn--n1btn8ebb0e8b9bya0gub.com', 'https://www.casinoworlddirectory.com', 'https://casinopiloot.com', 'https://www.argos.co.uk', 'https://www.spiruella.nl', 'https://www.erectiepilwinkel.nl', 'https://hypnotherapie-startpagina.nl', 'https://hypnotherapeut-amsterdam.nl', 'https://farmalingua.nl', 'https://www.praktijkdeliefde.com', 'https://supererectie.nl', 'https://libertylifeessentials.com', 'https://www.allcam.nl', 'http://www.uclh.nhs.uk', 'https://www.bettertires.com', 'https://www.which.co.uk', 'https://jabedakservice.nl', 'https://slotenmakersnel.nl', 'https://www.back-links.eu', 'https://www.amazon.co.uk', 'https://www.w3schools.com', 'https://uitvaartpolis-online.com', 'https://www.wellheat.nl', 'https://www.liverpoolecho.co.uk', 'https://www.nedapidentification.com', 'https://www.erectiepillen-winkel.nl', 'https://www.pro-satisfyer.nl', 'https://webcammeiden-prive.nl', 'https://blauwborstmedia.nl', 'https://www.rottentomatoes.com', 'https://pinch.nl', 'https://www.currys.co.uk', 'https://linksmarket.com', 'https://iapples.nl', 'https://apps.apple.com', 'https://tfl.gov.uk', 'https://slotenmakersaanhuis.nl', 'https://www.foxtons.co.uk', 'https://www.beequip.com', 'https://www.healthline.com', 'https://www.bettingsitescyprus.com', 'https://metro.co.uk', 'https://goalden.nl', 'https://www.iraqsportsbetting.com', 'https://legalbukmacher.com', 'https://www.saudiarabiabetting.com', 'https://www.triathlon365.nl', 'https://voetbal-wedden.nl', 'https://www.wettenperlastschrift.com', 'https://www.adidas.co.uk', 'https://www.jdsports.co.uk', 'https://www.pbgrentacar.gr', 'https://www.tripadvisor.co.uk', 'https://www.visitbritain.com', 'https://www.freeview.co.uk', 'https://www.costcotravel.com', 'https://hopibonaire.com', 'https://www.hotwire.com', 'https://livedealerwerk.nl', 'https://www.italmania.nl', 'https://www.roompot.nl', 'https://www.wired.co.uk'], 'https://1stplaceupworktests.blogspot.com': ['https://www.blogger.com'], 'https://257.cz': [], 'https://277sy.com': [], 'https://1cares.com': [], 'https://npr.org': ['https://chrt.fm', 'https://www.kut.org', 'https://ondemand.npr.org', 'https://www.youtube.com', 'https://www.wgbh.org', 'https://www.ctpublic.org', 'https://www.kqed.org', 'https://www.wbur.org', 'https://www.kcur.org'], 'https://ox.ac.uk': ['http://www.humanities.ox.ac.uk', 'http://www.rai.ox.ac.uk', 'http://www.classics.ox.ac.uk', 'http://www.hoa.ox.ac.uk', 'http://www.music.ox.ac.uk', 'http://www.theology.ox.ac.uk', 'http://www.rsa.ox.ac.uk', 'http://www.english.ox.ac.uk', 'http://www.ling-phil.ox.ac.uk', 'http://www.philosophy.ox.ac.uk', 'http://www.voltaire.ox.ac.uk', 'http://www.orinst.ox.ac.uk', 'http://www.history.ox.ac.uk', 'http://www.mod-langs.ox.ac.uk', 'http://torch.ox.ac.uk', 'http://www.mpls.ox.ac.uk', 'http://www.begbroke.ox.ac.uk', 'http://www.cs.ox.ac.uk', 'https://www.dtc.ox.ac.uk', 'http://www.physics.ox.ac.uk', 'https://www.biology.ox.ac.uk', 'http://www.earth.ox.ac.uk', 'http://www.materials.ox.ac.uk', 'http://www.stats.ox.ac.uk', 'http://www.chem.ox.ac.uk', 'http://www.eng.ox.ac.uk', 'http://www.maths.ox.ac.uk', 'http://www.medsci.ox.ac.uk', 'http://www.bioch.ox.ac.uk', 'http://www.psy.ox.ac.uk', 'http://www.ndorms.ox.ac.uk', 'http://www.pharm.ox.ac.uk', 'http://www.phc.ox.ac.uk', 'http://www.wrh.ox.ac.uk', 'http://www.ndm.ox.ac.uk', 'http://www.rdm.ox.ac.uk', 'http://www.paediatrics.ox.ac.uk', 'http://www.dpag.ox.ac.uk', 'https://www.psych.ox.ac.uk', 'http://www.ndcn.ox.ac.uk', 'http://www.oncology.ox.ac.uk', 'http://www.path.ox.ac.uk', 'http://www.ndph.ox.ac.uk', 'http://www.nds.ox.ac.uk', 'http://www.socsci.ox.ac.uk', 'http://www.anthro.ox.ac.uk', 'http://www.economics.ox.ac.uk', 'http://www.area-studies.ox.ac.uk', 'https://www.oii.ox.ac.uk', 'http://www.politics.ox.ac.uk', 'http://www.arch.ox.ac.uk', 'http://www.education.ox.ac.uk', 'http://www.bsg.ox.ac.uk', 'http://www.law.ox.ac.uk', 'http://www.spi.ox.ac.uk', 'https://www.sbs.ox.ac.uk', 'http://www.geog.ox.ac.uk', 'https://www.qeh.ox.ac.uk', 'https://www.oxfordmartin.ox.ac.uk', 'http://www.sociology.ox.ac.uk', 'http://www.conted.ox.ac.uk', 'http://www.glam.ox.ac.uk', 'http://www.ashmolean.org', 'https://www.hsm.ox.ac.uk', 'http://www.bodleian.ox.ac.uk', 'http://www.oum.ox.ac.uk', 'http://www.botanic-garden.ox.ac.uk', 'http://www.prm.ox.ac.uk', 'https://bit.ly'], 'https://18plus-online.com': [], 'https://1over1.net': [], 'https://10bet.com': [], 'https://booked.net': [], 'https://10endrathukulla.com': [], 'https://heb.com': [], 'https://1chart.nz': [], 'https://1fbusa.com': ['https://www.1fbusascholarship.com', 'https://students.1fbusa.com', 'https://www.facebook.com', 'https://www.instagram.com', 'https://twitter.com'], 'https://111supjav.xyz': [], 'https://21.tv': [], 'https://investopedia.com': ['https://academy.investopedia.com', 'https://www.facebook.com', 'https://www.instagram.com', 'https://www.linkedin.com', 'https://www.tiktok.com', 'https://twitter.com', 'https://www.youtube.com', 'https://sponsored.investopedia.com'], 'https://1stnationaladvisors.com': ['https://myaccountviewonline.com'], 'https://crunchbase.com': [], 'https://10xbnb.com': [], 'https://1001tur.ru': ['https://wa.me', 'https://vk.com', 'https://www.youtube.com', 'https://t.me', 'https://tourism.gov.ru'], 'https://cambridge.org': ['https://www.linkedin.com', 'https://www.facebook.com', 'https://twitter.com', 'https://www.instagram.com', 'https://www.youtube.com'], 'https://1800accountant.com': [], 'https://1qe.info': [], 'https://allegro.pl': [], 'https://123apotek.no': [], 'https://123passportphoto.com': [], 'https://123faz.cc': [], 'https://mayoclinic.org': [], 'https://123movies.to': [], 'https://17lands.com': [], 'https://1bh4v4e.cn': [], 'https://1dubaijobs.com': [], 'https://1trannytube.com': [], 'https://1wiiru.top': ['https://sedo.com'], 'https://0day.today': ['http://en.0day.today', 'http://ru.0day.today', 'http://de.0day.today', 'http://tr.0day.today', 'http://fr.0day.today', 'http://it.0day.today', 'http://es.0day.today', 'http://ro.0day.today', 'http://pl.0day.today', 'http://ar.0day.today', 'http://jp.0day.today', 'http://cn.0day.today'], 'https://1000meetings.com': ['https://www.wyndhamhotels.com'], 'https://collinsdictionary.com': ['https://signup.collins.co.uk', 'https://scrabble.collinsdictionary.com', 'https://grammar.collinsdictionary.com', 'https://schools.collinsdictionary.com', 'https://blog.collinsdictionary.com', 'https://www.amazon.co.uk'], 'https://24cash.shop': [], 'https://verywellhealth.com': ['https://www.dotdashmeredith.com', 'https://www.instagram.com', 'https://www.facebook.com', 'https://www.pinterest.com', 'https://flipboard.com'], 'https://1ware.net': [], 'https://198game.com': [], 'https://1lyoptions.com': [], 'https://121spanish.com': [], 'https://biomedcentral.com': ['https://bmcglobalpublichealth.biomedcentral.com', 'https://bmcdigitalhealth.biomedcentral.com', 'https://www.springernature.com', 'https://twitter.com', 'https://www.facebook.com', 'http://www.weibo.com'], 'https://123-runes.com': [], 'https://20dollarspass.xyz': [], 'https://1malaysiawomen.com': [], 'https://1o.se': [], 'https://14k.ru': [], 'https://123-movies.club': [], 'https://1vag.com': [], 'https://tradingview.com': ['https://twitter.com', 'https://www.facebook.com', 'https://www.youtube.com', 'https://www.instagram.com', 'https://t.me', 'https://www.tiktok.com', 'https://www.reddit.com', 'https://discord.com', 'https://www.linkedin.com', 'https://status.tradingview.com', 'https://itunes.apple.com', 'https://play.google.com'], 'https://1-euro-versicherung.de': [], 'https://11x11.ru': [], 'https://12zay.com': [], 'https://1pe.link': [], 'https://123xe.vn': [], 'https://24days.in': [], 'https://1qd6d-dot-kinozal-guru.appspot.com': [], 'https://10directory.com': [], 'https://204504byse.info': ['https://twigaten.204504byse.info', 'https://homoo.social', 'https://twitter.com', 'https://github.com'], 'https://247salesmanager.com': [], 'https://123-movies.vc': [], 'https://1337xvpn.com': [], 'https://11ty.dev': ['https://cloudcannon.com', 'https://eslint.org', 'https://nordhealth.design', 'https://www.a11yproject.com', 'https://developer.chrome.com', 'https://chromeos.dev', 'https://gsap.com', 'https://ffconf.org', 'https://lit.dev', 'https://mochajs.org', 'https://moderncss.dev', 'https://covid19.ca.gov', 'https://tc39.es', 'https://v8.dev', 'https://digitalhumanities.mit.edu', 'https://www.npmjs.com'], 'https://1001albumsgenerator.com': [], 'https://247staffingsolutions.com.au': [], 'https://24hcourses.online': [], 'https://1cam.org': [], 'https://21blanche.com': [], 'https://makeuseof.com': ['https://www.valnetinc.com'], 'https://0123movies.ltd': ['https://w0.movies123.la'], 'https://encyclopedia.com': [], 'https://13dl.to': [], 'https://statista.com': ['https://ecommercedb.com', 'https://q.statista.com', 'https://ask.statista.com', 'https://r.statista.com', 'https://statista.design', 'https://www.nxt.statista.com', 'https://www.statista-research.com', 'https://de.statista.com', 'https://es.statista.com', 'https://fr.statista.com'], 'https://25431010.tw': [], 'https://247livesupport.biz': [], 'https://1337x.is': [], 'https://19980921.weebly.com': ['https://www.weebly.com'], 'https://1fichier.com': [], 'https://kidshealth.org': ['https://www.nemours.org'], 'https://shazam.com': [], 'https://yale.edu': ['https://berkeley.yalecollege.yale.edu', 'https://wisay.sites.yale.edu', 'https://nacc.yalecollege.yale.edu', 'https://library.medicine.yale.edu', 'https://yalecollege.yale.edu', 'https://trumbull.yalecollege.yale.edu', 'https://afam.yalecollege.yale.edu', 'https://paulimurray.yalecollege.yale.edu', 'https://oiea.yale.edu'], 'https://0-100k.com': [], 'https://nih.gov': [], 'https://10times.com': [], 'https://12333.gov.cn': ['http://bszs.conac.cn', 'http://www.mohrss.gov.cn', 'https://login.gjzwfw.gov.cn', 'https://wpa1.qq.com'], 'https://1stream.top': [], 'https://01streaming.net': [], 'https://123dj.com': ['https://www.youtube.com'], 'https://lemon8-app.com': [], 'https://14ers.com': ['https://www.facebook.com'], 'https://wikiwand.com': [], 'https://18porn.link': [], 'https://20icecasino.com': [], 'https://01beton.ru': [], 'https://1casting.ru': [], 'https://140.tel': [], 'https://18eighteen.com': [], 'https://1001eroset.ru': [], 'https://indiamart.com': ['https://dir.indiamart.com', 'https://youtu.be'], 'https://1ticket.com': [], 'https://1nhonline.com': ['http://www.manchesterdart.com', 'http://www.nh-gsdl.com', 'http://www.allegropianoworks.com'], 'https://weebly.com': ['https://www.facebook.com', 'https://twitter.com', 'https://www.youtube.com', 'https://instagram.com', 'https://plus.google.com'], 'https://10adventures.com': [], 'https://1billionlinks.com': ['https://www.facebook.com', 'https://twitter.com'], 'https://01webdirectory.com': ['https://twitter.com', 'https://www.facebook.com', 'https://feeds.feedburner.com', 'https://www.pinterest.com'], 'https://10e12.net': [], 'https://10fastfingers.com': [], 'https://18av.tv': [], 'https://10citi.com': [], 'https://pngtree.com': [], 'https://17track.myshopify.com': ['https://apps.shopify.com', 'https://trackcenter.crisp.help', 'https://www.17track.net'], 'https://123moviesto.la': [], 'https://123movies.net': [], 'https://18dy.me': [], 'https://01xz.net': [], 'https://18girlssex.com': [], 'https://123anime.to': [], 'https://12xlwin6e.net': [], 'https://1malayalamsexvideo.com': [], 'https://1goldmine.com': [], 'https://1six8-biz.vercel.app': [], 'https://168sogo.com.tw': ['https://line.me'], 'https://1080hdfilmizle.com': ['https://mercurecasino.co'], 'https://123movies-official.site': [], 'https://genius.com': [], 'https://12stepvideos.com': [], 'https://1000kitap.com': [], 'https://101society.com': ['http://shorturl.at', 'https://apps.apple.com'], 'https://0lx.be': ['https://sedo.com'], 'https://1234movies.me': [], 'https://0tocommissionhero.com': [], 'https://1337x.to': [], 'https://13377x.tw': [], 'https://17gameworld.com': [], 'https://112-login.de': [], 'https://voanews.com': ['https://www.facebook.com', 'https://twitter.com', 'https://www.youtube.com', 'https://www.instagram.com', 'https://projects.voanews.com'], 'https://247phim.net': [], 'https://123moviesflix.xyz': [], 'https://000directory.com.ar': [], 'https://nature.com': ['https://www.facebook.com', 'https://twitter.com', 'https://authorservices.springernature.com', 'https://mts-nature.nature.com', 'https://idp.nature.com', 'http://dx.doi.org', 'https://partnerships.nature.com', 'https://conferences.nature.com', 'https://www.springernature.com'], 'https://123peppy.com': [], 'https://jstor.org': [], 'https://city-data.com': [], 'https://0cili.org': [], 'https://0a8d87mlbcac.top': ['https://sedo.com'], 'https://1nasledstvo.ru': [], 'https://1001fontsfree.com': [], 'https://1yzn.com': [], 'https://1pharmrx.com': [], 'https://1000minds.com': ['https://www.facebook.com', 'https://www.youtube.com', 'https://twitter.com', 'https://www.linkedin.com', 'https://www.instagram.com'], 'https://123moviesgo.icu': [], 'https://137pillarshotels.com': ['https://www.tripadvisor.com', 'https://www.google.com', 'http://www.slh.com', 'https://thailandsha.tourismthailand.org'], 'https://thespruceeats.com': ['https://www.facebook.com', 'https://www.instagram.com', 'https://www.pinterest.com', 'https://www.youtube.com', 'https://www.tiktok.com'], 'https://1234movies.club': [], 'https://0x3.com': [], 'https://215sozvezdie.ru': [], 'https://123movies-ca.com': [], 'https://247games.com': ['https://www.247backgammon.org', 'https://www.247blackjack.com', 'https://www.247bridge.com', 'https://www.247checkers.com', 'https://www.247chess.com', 'https://www.247hearts.com', 'https://www.247mahjong.com', 'https://www.247freepoker.com', 'https://www.247roulette.org', 'https://www.247slots.org', 'http://www.springsolitaire.com', 'https://www.247spades.com', 'https://www.247sudoku.com', 'https://www.247videopoker.org', 'https://www.247wordsearch.com', 'https://www.247crossword.com', 'https://www.247minesweeper.com', 'https://www.247pool.com', 'https://www.247solitaire.com', 'https://www.cardgamesolitaire.com', 'https://www.yukonsolitaire.net', 'https://www.scorpionsolitaire.net'], 'https://123presets.store': ['https://123presets.reamaze.com', 'https://www.facebook.com', 'https://twitter.com', 'https://pinterest.com', 'https://instagram.com'], 'https://118kbet.com': [], 'https://0123456789.tw': [], 'https://hm.com': [], 'https://0-majestic.myshopify.com': ['https://www.instagram.com', 'https://www.facebook.com', 'https://www.pinterest.com.au'], 'https://1112122111121221.tumblr.com': [], 'https://24-7reporters.com': [], 'https://10tl.net': [], 'https://180parkapartments.com': [], 'https://123movies-to.org': [], 'https://17plus.ir': ['https://www.directadmin.com'], 'https://britannica.com': ['https://premium.britannica.com', 'https://www.pinterest.com'], 'https://19east.com': ['https://twitter.com'], 'https://mojim.com': [], 'https://1musiciansfriend.com': ['https://dan.com'], 'https://1337xhd.shop': [], 'https://gaana.com': [], 'https://12.kz': ['https://www.youtube.com', 'https://www.instagram.com'], 'https://ucla.edu': ['https://community.ucla.edu', 'https://newsroom.ucla.edu', 'https://alumni.ucla.edu', 'https://goarts.ucla.edu', 'https://giveto.ucla.edu', 'https://philanthropy.ucla.edu', 'https://blocktribute.ucla.edu', 'https://uclabruins.com', 'https://admin.uclabruins.com', 'https://www.tiktok.com', 'https://www.instagram.com'], 'https://181.fm': [], 'https://123usdt.cc': [], 'https://24-7consultancy.info': [], 'https://22doll.com': [], 'https://kwai.com': [], 'https://researchgate.net': [], 'https://123mkvnet.blogspot.com': [], 'https://14cb0e.myshopify.com': ['https://www.shopify.com', 'https://shop.app', 'https://shopify.com'], 'https://10starsfashion.myshopify.com': ['https://www.shopify.com', 'https://shop.app', 'https://shopify.com'], 'https://2022dyw.com': [], 'https://123movie.tel': [], 'https://123watch.to': [], 'https://123faz.com': [], 'https://24segons.es': [], 'https://1urok.ru': [], 'https://01.org': ['https://www.intel.co.id', 'https://www.intel.de', 'https://www.intel.com', 'https://www.intel.la', 'https://www.intel.fr', 'https://www.intel.com.br', 'https://www.intel.vn', 'https://www.thailand.intel.com', 'https://www.intel.co.kr', 'https://www.intel.co.jp', 'https://www.intel.cn', 'https://www.intel.com.tw', 'https://downloadcenter.intel.com', 'https://github.com', 'https://www.zephyrproject.org', 'https://medium.com', 'https://community.intel.com', 'https://www.youtube.com', 'https://mobile.twitter.com', 'https://www.facebook.com', 'https://twitter.com', 'https://www.linkedin.com', 'https://www.instagram.com'], 'https://docomo.ne.jp': [], 'https://1news.io': [], 'https://1dg.me': [], 'https://1995blog.com': ['https://the1995blog.wordpress.com', 'https://wordpress.com'], 'https://1qvid.com': [], 'https://234winderstinn.com': [], 'https://1581786557.rsc.cdn77.org': [], 'https://grubhub.com': [], 'https://mo.gov': [], 'https://1508.dk': [], 'https://18read.net': [], 'https://1kook.tumblr.com': [], 'https://139y.com': [], 'https://100daychallenge.com': [], 'https://1x2nwhc.com': [], 'https://0internet0.top': [], 'https://0xcheats.net': [], 'https://1stservicebank.com': ['https://itunes.apple.com', 'https://play.google.com'], 'https://123.ie': ['https://travel.123.ie', 'https://twitter.com', 'https://linkedin.com', 'https://www.facebook.com'], 'https://1337.ma': [], 'https://ultimate-guitar.com': [], 'https://1st-social.com': [], 'https://28klotlucas2.github.io': [], 'https://123movies00.xyz': [], 'https://illinois.gov': ['https://www.facebook.com', 'https://twitter.com', 'https://www.instagram.com'], 'https://1tamilmv.run': [], 'https://2000sheardle.glitch.me': [], 'https://2020squake.blogspot.com': [], 'https://100sub53.blogspot.com': ['http://pf.kakao.com', 'https://www.blogger.com'], 'https://0xdev.co': [], 'https://10bestantivirusproviders.com': [], 'https://istockphoto.com': [], 'https://18yos.co': [], 'https://2-spyware.com': [], 'https://1000dosok.info': ['https://top.mail.ru'], 'https://101dentist.com': [], 'https://10ktf.com': [], 'https://123series.com': [], 'https://100searchengines.com': [], 'https://11thadmission.org.in': [], 'https://ikea.com': [], 'https://123movieshub.uno': ['https://www.namesilo.com'], 'https://1f03.net': [], 'https://101novel.com': [], 'https://1001beach.com': ['https://hotelhunter.com', 'https://avia-scanner.com', 'https://cars-scanner.com', 'https://europefly.com', 'https://1001beach.ru', 'https://www.hotelhunter.com', 'https://www.facebook.com', 'https://www.youtube.com', 'https://www.tumblr.com', 'https://www.pinterest.ru', 'https://twitter.com', 'https://play.google.com', 'https://apps.apple.com'], 'https://123boyvideos.com': ['http://18twink.com'], 'https://2aportal.com': [], 'https://1nn.site': [], 'https://peakpx.com': [], 'https://1outlets.tw': [], 'https://19tv.org': [], 'https://123moviesfree.fun': [], 'https://allrecipes.com': ['https://websupport.meredith.com', 'https://www.magazines.com', 'https://w1.buysub.com', 'https://www.facebook.com', 'https://www.instagram.com', 'https://www.pinterest.com', 'https://www.tiktok.com', 'https://www.youtube.com', 'https://twitter.com', 'https://flipboard.com', 'https://www.dotdashmeredith.com'], 'https://lingvanex.com': [], 'https://063k.com': [], 'https://123movies4k.net': [], 'https://alamy.com': [], 'https://18tube.xxx': ['http://www.justteenporn.net', 'https://www.18pussy.porn', 'http://18schoolgirlz.me', 'https://www.teenpornvideo.me', 'http://teen-xxx.name', 'http://www.okyoungporn.com', 'https://www.fuckteen.xxx', 'https://www.hdteen.porn', 'https://www.hdsex.xxx', 'http://videos-xxx.mobi', 'http://young-teen-fuck.com', 'http://www.mteenporn.com', 'https://www.sexhd.xxx', 'http://www.hdtube18.com', 'https://www.japvid.xxx', 'https://www.teenfreshporn.com', 'http://xxnxtv.mobi', 'https://www.teenporntube.xxx', 'https://lapdanceteens.com', 'https://www.freepornvideo.sex', 'http://hdzog.info', 'https://www.mybeegporn.com', 'http://www.xvideosteen.pro', 'http://www.trueyoungsex.com', 'http://bestpornvideos.org', 'http://wwwxnxx.org', 'https://porno-300.com', 'https://www.teenfuckstube.com', 'https://sexy-naked-teen.com', 'http://www.freehqsex.com', 'https://www.japaneseporn.xxx', 'https://www.nakedteenxxx.com', 'https://japvid.xxx', 'https://www.gayvideos.xxx'], 'https://24c013.myshopify.com': ['https://www.shopify.com', 'https://shop.app', 'https://shopify.com'], 'https://0dan.org': [], 'https://socratic.org': ['https://www.google.com'], 'https://12-kanal.ru': [], 'https://10to8.com': ['https://app.10to8.com', 'https://my.demio.com', 'https://resources.10to8.com', 'https://www.facebook.com', 'https://www.linkedin.com', 'https://twitter.com', 'https://www.instagram.com', 'https://www.youtube.com'], 'https://reverso.net': [], 'https://msdmanuals.com': [], 'https://141ppv.com': ['https://www.141jav.com', 'https://theporndude.com', 'https://www.facebook.com', 'https://twitter.com'], 'https://1337x.tw': [], 'https://1cbit.ru': [], 'https://021yin.com': [], 'https://10directory.info': [], 'https://signalhire.com': ['https://www.facebook.com', 'https://twitter.com'], 'https://1nbcarlyle.com': [], 'https://1pondo.com': [], 'https://1seramik.com': [], 'https://1track.ru': ['https://play.google.com', 'https://apps.apple.com'], 'https://0039yidali.com': [], 'https://123moviefree4u.com': ['https://bingx.com'], 'https://1ce.org': [], 'https://28chan.org': [], 'https://23sk.net': [], 'https://1todaypk.net': [], 'https://1jour1film.top': ['https://www.namesilo.com'], 'https://123movieshub.tc': [], 'https://0refer.com': [], 'https://123cashfunds.com': [], 'https://bbb.org': [], 'https://parade.com': [], 'https://18c4d0.myshopify.com': [], 'https://1dc810.myshopify.com': ['https://www.shopify.com', 'https://shop.app', 'https://shopify.com'], 'https://127mall.xyz': [], 'https://dailymotion.com': [], 'https://27stars.co.uk': [], 'https://1758658189.rsc.cdn77.org': ['https://play.google.com'], 'https://1-23movies.cc': [], 'https://tripsavvy.com': ['https://www.facebook.com', 'https://www.instagram.com', 'https://www.pinterest.com', 'https://www.twitter.com'], 'https://goodreads.com': ['https://images.gr-assets.com', 'https://www.facebook.com', 'https://twitter.com', 'https://www.instagram.com', 'https://www.linkedin.com', 'https://itunes.apple.com', 'https://play.google.com'], 'https://19011.tel': [], 'https://0xzn.com': [], 'https://123moviehd.net': [], 'https://langeek.co': [], 'https://everand.com': [], 'https://1105newsletters.com': [], 'https://2-2wear.com': ['https://t.me', 'https://wa.me', 'https://join.skype.com'], 'https://1001freefonts.com': ['https://www.facebook.com', 'https://twitter.com', 'https://www.instagram.com', 'https://www.fontriver.com'], 'https://rome2rio.com': ['https://itunes.apple.com', 'https://play.google.com'], 'https://1821manmade.com': ['https://www.facebook.com', 'https://www.instagram.com', 'https://www.youtube.com'], 'https://dreamstime.com': ['https://www.facebook.com', 'https://www.twitter.com', 'https://www.pinterest.com', 'https://www.instagram.com', 'https://www.linkedin.com', 'https://www.youtube.com', 'https://de.dreamstime.com', 'https://es.dreamstime.com', 'https://fr.dreamstime.com', 'https://it.dreamstime.com', 'https://pt.dreamstime.com', 'https://nl.dreamstime.com', 'https://ru.dreamstime.com', 'https://gr.dreamstime.com', 'https://cn.dreamstime.com', 'https://pl.dreamstime.com', 'https://se.dreamstime.com', 'https://ro.dreamstime.com'], 'https://www.nhs.uk': ['http://www.blood.co.uk', 'https://www.organdonation.nhs.uk', 'https://volunteer.bepartofresearch.nihr.ac.uk'], 'https://19miracles.blogspot.com': ['https://www.blogger.com'], 'https://10best-vpn.com': [], 'https://instructables.com': [], 'https://youtube.com': [], 'https://www.gov.uk': [], 'https://0-orb.net': [], 'https://ludwig.guru': [], 'https://19j08.xyz': [], 'https://100kcommissions.com': [], 'https://1fit.app': [], 'https://cvs.com': [], 'https://quora.com': [], 'https://verywellmind.com': ['https://www.dotdashmeredith.com', 'https://www.instagram.com', 'https://www.tiktok.com', 'https://www.facebook.com', 'https://flipboard.com'], 'https://collider.com': ['https://www.valnetinc.com'], 'https://1001makale.com': [], 'https://1keydata.com': [], 'https://1150-auto.com': [], 'https://1stairporttaxis.co.uk': ['https://www.facebook.com', 'https://www.instagram.com', 'https://twitter.com', 'https://www.linkedin.com', 'https://www.youtube.com', 'https://wizdigital.co.uk'], 'https://1lib.us': [], 'https://1spbgmu.ru': ['http://en.1spbgmu.ru'], 'https://wikidata.org': [], 'https://wikimedia.org': [], 'https://themoviedb.org': [], 'https://10xsas.com': [], 'https://17travel.net': [], 'https://111036.com': [], 'https://pinkvilla.com': ['https://17looms.com'], 'https://123moviestop.com': [], 'https://1803nyc.com': ['https://rhgoldhospitalitygroup.orderingclub.com', 'https://resy.com', 'https://tmt.spotapps.co', 'https://mylightspeed.app'], 'https://1maps.ru': [], 'https://foodandwine.com': ['https://www.magazines.com', 'https://w1.buysub.com', 'https://www.facebook.com', 'https://flipboard.com', 'https://www.instagram.com', 'https://www.pinterest.com', 'https://twitter.com', 'https://www.youtube.com', 'https://www.dotdashmeredith.com'], 'https://0day.work': ['https://twitter.com', 'https://it-solutions-neef.de'], 'https://testbook.com': [], 'https://123moviesla.blog': [], 'https://101bookmark.com': [], 'https://123unblock.surf': ['https://sedo.com'], 'https://thefreedictionary.com': [], 'https://1b.app': ['https://m.me', 'https://www.facebook.com', 'https://www.instagram.com', 'https://twitter.com', 'https://www.youtube.com', 'https://t.me', 'https://www.linkedin.com'], 'https://lyricstranslate.com': [], 'https://1boyz.com': [], 'https://hamiltonplace.com': ['https://www.google.com', 'http://www.cblproperties.com', 'https://www.facebook.com', 'https://www.instagram.com', 'https://www.tripadvisor.com'], 'https://1970fowlerdrive.com': ['https://greenwin.my-community.ca', 'https://greenwinsl.leadmanaging.com'], 'https://1stphorm.com': ['https://help.1stphorm.com', 'https://www.instagram.com', 'https://www.facebook.com', 'https://www.youtube.com', 'https://twitter.com', 'https://www.tiktok.com'], 'https://1881.com': ['https://www.landresellers.com'], 'https://123streaming.cc': ['http://www.above.com'], 'https://1000fonts.com': [], 'https://1fuli.buzz': [], 'https://thoughtco.com': ['http://www.facebook.com', 'https://flipboard.com'], 'https://1kuwaitjobs.com': [], 'https://seriouseats.com': ['https://www.facebook.com', 'https://www.instagram.com', 'https://www.pinterest.com', 'https://www.reddit.com', 'https://twitter.com', 'https://www.youtube.com'], 'https://101-multimedia.com': [], 'https://1y.com': [], 'https://1853721.xyz': []}\n"
     ]
    }
   ],
   "source": [
    "pageNodes = {}\n",
    "\n",
    "dataFiles = os.listdir(config[\"SCRAPED_DATA\"])\n",
    "for file in (dataFiles):\n",
    "    with open(os.path.join(config[\"SCRAPED_DATA\"], file)) as f:\n",
    "        edgeData = json.load(f)\n",
    "        pageNodes[edgeData['url']]=edgeData['forwardLinks']\n",
    "        \n",
    "print(pageNodes)\n"
   ]
  },
  {
   "cell_type": "code",
   "execution_count": 8,
   "metadata": {},
   "outputs": [
    {
     "name": "stderr",
     "output_type": "stream",
     "text": [
      "                                                                                \r"
     ]
    },
    {
     "name": "stdout",
     "output_type": "stream",
     "text": [
      "+--------------------+\n",
      "|            vertices|\n",
      "+--------------------+\n",
      "|https://wordpress...|\n",
      "|https://123movies...|\n",
      "|https://10wontips...|\n",
      "|    https://18jp.fun|\n",
      "| https://hinkhoj.com|\n",
      "|https://dribbble.com|\n",
      "|  https://1917.co.nz|\n",
      "|https://123movies...|\n",
      "|    https://1push.io|\n",
      "|   https://1miba.com|\n",
      "|https://012mobile...|\n",
      "|https://123movies...|\n",
      "|   https://issuu.com|\n",
      "| https://1campus.net|\n",
      "|https://0xprocess...|\n",
      "|     https://1337.no|\n",
      "|https://123clickz...|\n",
      "|https://144tehran...|\n",
      "|  https://113366.com|\n",
      "|     https://1024.no|\n",
      "+--------------------+\n",
      "only showing top 20 rows\n",
      "\n"
     ]
    }
   ],
   "source": [
    "vertexGraph = spark.createDataFrame(\n",
    "    [(value,) for value in pageNodes.keys()]\n",
    ",[\"vertices\"])\n",
    "vertexGraph.show()\n",
    "\n",
    "# vertexGraph = spark.createDataFrame(\n",
    "#     pd.DataFrame({\n",
    "#         \"vertices\":['a','b','c','d']\n",
    "#     })\n",
    "# )\n",
    "# vertexGraph.show()"
   ]
  },
  {
   "cell_type": "code",
   "execution_count": 9,
   "metadata": {},
   "outputs": [
    {
     "name": "stdout",
     "output_type": "stream",
     "text": [
      "+--------------------+--------------------+\n",
      "|              source|                dest|\n",
      "+--------------------+--------------------+\n",
      "|https://wordpress...|   https://wpvip.com|\n",
      "|https://wordpress...|https://apps.word...|\n",
      "|https://wordpress...|https://www.blueh...|\n",
      "|https://10wontips...|https://www.blogg...|\n",
      "|https://dribbble.com|  http://twitter.com|\n",
      "|https://dribbble.com| http://facebook.com|\n",
      "|https://dribbble.com|http://instagram.com|\n",
      "|https://dribbble.com|http://www.pinter...|\n",
      "|  https://1917.co.nz|https://www.faceb...|\n",
      "|  https://1917.co.nz|https://www.insta...|\n",
      "|https://123movies...|https://123movies...|\n",
      "|   https://1miba.com|https://guanliqi....|\n",
      "|   https://1miba.com|https://vr.zhiouw...|\n",
      "|   https://1miba.com|https://zhichan.z...|\n",
      "|   https://1miba.com| https://wpa1.qq.com|\n",
      "|https://theguardi...|https://www.wordi...|\n",
      "|https://linkedin.com|https://about.lin...|\n",
      "|https://linkedin.com|https://press.lin...|\n",
      "|https://linkedin.com|https://blog.link...|\n",
      "|https://linkedin.com|https://developer...|\n",
      "+--------------------+--------------------+\n",
      "only showing top 20 rows\n",
      "\n"
     ]
    }
   ],
   "source": [
    "edgeData = []\n",
    "for key, item in pageNodes.items():\n",
    "    for it in item:\n",
    "        edgeData.append(Row(source=key, dest=it))\n",
    "\n",
    "edgesSchema = StructType([StructField(\"source\", StringType(), True),\n",
    "                     StructField(\"dest\", StringType(), True),]\n",
    "                     )\n",
    "\n",
    "edgeGraph = spark.createDataFrame(edgeData, schema=edgesSchema)\n",
    "edgeGraph.show()\n",
    "\n",
    "# edgeGraph = spark.createDataFrame(\n",
    "#     pd.DataFrame({\n",
    "#     \"source\":['a','b','b','c','d'],\n",
    "#     \"dest\":['b','c','d','a','b']\n",
    "#     })\n",
    "# )\n",
    "# edgeGraph.show()"
   ]
  },
  {
   "cell_type": "code",
   "execution_count": 10,
   "metadata": {},
   "outputs": [
    {
     "name": "stdout",
     "output_type": "stream",
     "text": [
      "Vertices: 1085, Initial Rank: 0.0009216589861751152\n"
     ]
    },
    {
     "name": "stderr",
     "output_type": "stream",
     "text": [
      "  0%|          | 0/3 [00:00<?, ?it/s]"
     ]
    },
    {
     "name": "stdout",
     "output_type": "stream",
     "text": [
      "+--------------------+--------------------+--------------------+\n",
      "|              source|                dest|                rank|\n",
      "+--------------------+--------------------+--------------------+\n",
      "| https://state.mn.us|https://www.sos.s...|9.216589861751152E-4|\n",
      "| https://state.mn.us|https://www.reven...|9.216589861751152E-4|\n",
      "| https://state.mn.us|https://drive.mn.gov|9.216589861751152E-4|\n",
      "| https://state.mn.us|      https://mn.gov|9.216589861751152E-4|\n",
      "|    https://1728.org|https://www.nist.gov|9.216589861751152E-4|\n",
      "|    https://1728.org| http://www.nist.gov|9.216589861751152E-4|\n",
      "|    https://1728.org|http://www.timean...|9.216589861751152E-4|\n",
      "|    https://1728.org|https://www.faceb...|9.216589861751152E-4|\n",
      "|    https://1728.org|https://www.twitt...|9.216589861751152E-4|\n",
      "|    https://1728.org|https://www.freef...|9.216589861751152E-4|\n",
      "|    https://1728.org|http://www.standu...|9.216589861751152E-4|\n",
      "| https://10short.com|https://api.whats...|9.216589861751152E-4|\n",
      "|https://10wontips...|https://www.blogg...|9.216589861751152E-4|\n",
      "|https://1985games...|https://www.youtu...|9.216589861751152E-4|\n",
      "|https://1985games...|https://www.tikto...|9.216589861751152E-4|\n",
      "|https://1985games...|https://www.insta...|9.216589861751152E-4|\n",
      "|https://1985games...|       https://x.com|9.216589861751152E-4|\n",
      "|https://123movies...|https://123movies...|9.216589861751152E-4|\n",
      "|https://theguardi...|https://www.wordi...|9.216589861751152E-4|\n",
      "|https://wordpress...|https://www.blueh...|9.216589861751152E-4|\n",
      "+--------------------+--------------------+--------------------+\n",
      "only showing top 20 rows\n",
      "\n"
     ]
    },
    {
     "name": "stderr",
     "output_type": "stream",
     "text": [
      " 33%|███▎      | 1/3 [00:02<00:05,  2.96s/it]"
     ]
    },
    {
     "name": "stdout",
     "output_type": "stream",
     "text": [
      "+--------------------+--------------------+\n",
      "|                page|                rank|\n",
      "+--------------------+--------------------+\n",
      "|https://fandom.ze...|2.060178910273786...|\n",
      "|https://www.lineb...|2.060178910273786...|\n",
      "|https://www.pinte...|2.410492733073377...|\n",
      "|https://xmljatsre...|4.301075268817204E-4|\n",
      "|https://www.netvi...|5.529953917050691E-4|\n",
      "| https://mochajs.org|2.304147465437787...|\n",
      "|https://scienceso...|2.138248847926267E-4|\n",
      "| http://facebook.com|4.608294930875575...|\n",
      "|https://bigzip.11...|2.764976958525345E-4|\n",
      "|https://api.stack...|2.073732718894008...|\n",
      "|     https://qiwa.sa|2.053982883475970...|\n",
      "|https://unabridge...|3.072196620583717E-4|\n",
      "|https://stu.17zwd...|2.662570404505888E-4|\n",
      "|http://www.kavame...|9.216589861751152E-4|\n",
      "|https://www.nxt.s...|2.580645161290322E-4|\n",
      "|http://www.histor...|1.950176985240098...|\n",
      "|https://saudiares...|3.317972350230414...|\n",
      "|https://help.gymg...|2.896642527978933E-4|\n",
      "|https://desktop.l...|2.060178910273786...|\n",
      "|http://www.uclh.n...|1.900035448422544...|\n",
      "+--------------------+--------------------+\n",
      "only showing top 20 rows\n",
      "\n"
     ]
    },
    {
     "name": "stderr",
     "output_type": "stream",
     "text": [
      "                                                                                \r"
     ]
    },
    {
     "name": "stdout",
     "output_type": "stream",
     "text": [
      "+--------------------+--------------------+--------------------+\n",
      "|              source|                dest|                rank|\n",
      "+--------------------+--------------------+--------------------+\n",
      "|  https://www.nhs.uk|https://volunteer...|1.900035448422544...|\n",
      "|  https://www.nhs.uk|https://www.organ...|1.900035448422544...|\n",
      "|  https://www.nhs.uk|http://www.blood....|1.900035448422544...|\n",
      "|https://wordpress...|https://www.blueh...|0.002887864823348...|\n",
      "|https://wordpress...|https://apps.word...|0.002887864823348...|\n",
      "|https://wordpress...|   https://wpvip.com|0.002887864823348...|\n",
      "|https://steamcomm...|https://help.stea...|4.301075268817204E-4|\n",
      "|https://steamcomm...|https://store.ste...|4.301075268817204E-4|\n",
      "|     https://line.me|https://www.faceb...|0.001167434715821...|\n",
      "|     https://line.me|https://www.youtu...|0.001167434715821...|\n",
      "|     https://line.me|https://apps.micr...|0.001167434715821...|\n",
      "|     https://line.me|      https://lin.ee|0.001167434715821...|\n",
      "|     https://line.me|https://pop2.game...|0.001167434715821...|\n",
      "|     https://line.me|https://pokopangt...|0.001167434715821...|\n",
      "|     https://line.me|https://magiccoin...|0.001167434715821...|\n",
      "|     https://line.me|https://line.work...|0.001167434715821...|\n",
      "|     https://line.me|https://reward.li...|0.001167434715821...|\n",
      "|     https://line.me|https://pages.lin...|0.001167434715821...|\n",
      "|     https://line.me| https://line-fx.com|0.001167434715821...|\n",
      "|     https://line.me|https://linecredi...|0.001167434715821...|\n",
      "+--------------------+--------------------+--------------------+\n",
      "only showing top 20 rows\n",
      "\n"
     ]
    },
    {
     "name": "stderr",
     "output_type": "stream",
     "text": [
      "24/05/19 12:58:03 WARN GarbageCollectionMetrics: To enable non-built-in garbage collector(s) List(G1 Concurrent GC), users should configure it(them) to spark.eventLog.gcMetrics.youngGenerationGarbageCollectors or spark.eventLog.gcMetrics.oldGenerationGarbageCollectors\n",
      " 67%|██████▋   | 2/3 [00:06<00:03,  3.46s/it]                                   "
     ]
    },
    {
     "name": "stdout",
     "output_type": "stream",
     "text": [
      "+--------------------+--------------------+\n",
      "|                page|                rank|\n",
      "+--------------------+--------------------+\n",
      "|https://www.lineb...|2.118008493720068E-4|\n",
      "|https://desktop.l...|2.118008493720068E-4|\n",
      "| https://github.blog|2.241162297263278...|\n",
      "|https://resources...|2.241162297263278...|\n",
      "|https://store.ste...|3.563748079877111...|\n",
      "|https://linefinan...|2.118008493720068E-4|\n",
      "|https://chirashi....|2.118008493720068E-4|\n",
      "|https://www.linef...|2.118008493720068E-4|\n",
      "|https://developer...|2.211981566820276E-4|\n",
      "|https://line.work...|2.118008493720068E-4|\n",
      "|https://blog.link...|2.211981566820276E-4|\n",
      "|https://docs.gith...|2.241162297263278...|\n",
      "|https://apps.micr...|2.118008493720068E-4|\n",
      "|https://pop2.game...|2.118008493720068E-4|\n",
      "|  https://ec.line.me|2.118008493720068E-4|\n",
      "|https://about.lin...|2.211981566820276E-4|\n",
      "|https://manga.lin...|2.118008493720068E-4|\n",
      "|https://reward.li...|2.118008493720068E-4|\n",
      "| https://pay.line.me|2.118008493720068E-4|\n",
      "|https://www.faceb...|2.515852818633117E-4|\n",
      "+--------------------+--------------------+\n",
      "only showing top 20 rows\n",
      "\n"
     ]
    },
    {
     "name": "stderr",
     "output_type": "stream",
     "text": [
      "                                                                                \r"
     ]
    },
    {
     "name": "stdout",
     "output_type": "stream",
     "text": [
      "+------+----+----+\n",
      "|source|dest|rank|\n",
      "+------+----+----+\n",
      "+------+----+----+\n",
      "\n"
     ]
    },
    {
     "name": "stderr",
     "output_type": "stream",
     "text": [
      " 67%|██████▋   | 2/3 [00:09<00:04,  4.70s/it]                                   \n"
     ]
    },
    {
     "ename": "PySparkValueError",
     "evalue": "[CANNOT_INFER_EMPTY_SCHEMA] Can not infer schema from empty dataset.",
     "output_type": "error",
     "traceback": [
      "\u001b[0;31m---------------------------------------------------------------------------\u001b[0m",
      "\u001b[0;31mPySparkValueError\u001b[0m                         Traceback (most recent call last)",
      "Cell \u001b[0;32mIn[10], line 37\u001b[0m\n\u001b[1;32m     33\u001b[0m     ranks \u001b[38;5;241m=\u001b[39m vertexGraph\u001b[38;5;241m.\u001b[39mjoin(ranks, vertexGraph\u001b[38;5;241m.\u001b[39mvertices \u001b[38;5;241m==\u001b[39m ranks\u001b[38;5;241m.\u001b[39mpage, how\u001b[38;5;241m=\u001b[39m\u001b[38;5;124m\"\u001b[39m\u001b[38;5;124mleft\u001b[39m\u001b[38;5;124m\"\u001b[39m)\u001b[38;5;241m.\u001b[39mselect(vertexGraph\u001b[38;5;241m.\u001b[39mvertices, ranks\u001b[38;5;241m.\u001b[39mrank)\u001b[38;5;241m.\u001b[39mna\u001b[38;5;241m.\u001b[39mfill((\u001b[38;5;241m1\u001b[39m \u001b[38;5;241m-\u001b[39m damping) \u001b[38;5;241m/\u001b[39m num_vertices, [\u001b[38;5;124m\"\u001b[39m\u001b[38;5;124mrank\u001b[39m\u001b[38;5;124m\"\u001b[39m])\n\u001b[1;32m     35\u001b[0m     \u001b[38;5;28;01mreturn\u001b[39;00m ranks\n\u001b[0;32m---> 37\u001b[0m \u001b[43mpagerank\u001b[49m\u001b[43m(\u001b[49m\u001b[43mvertexInfo\u001b[49m\u001b[38;5;241;43m=\u001b[39;49m\u001b[43mvertexGraph\u001b[49m\u001b[43m,\u001b[49m\u001b[43m \u001b[49m\u001b[43medgeInfo\u001b[49m\u001b[38;5;241;43m=\u001b[39;49m\u001b[43medgeGraph\u001b[49m\u001b[43m)\u001b[49m\u001b[38;5;241m.\u001b[39mshow()\n",
      "Cell \u001b[0;32mIn[10], line 17\u001b[0m, in \u001b[0;36mpagerank\u001b[0;34m(vertexInfo, edgeInfo, iterations, tolerance, damping)\u001b[0m\n\u001b[1;32m     14\u001b[0m contribs\u001b[38;5;241m.\u001b[39mshow()\n\u001b[1;32m     15\u001b[0m \u001b[38;5;66;03m# \u001b[39;00m\n\u001b[1;32m     16\u001b[0m \u001b[38;5;66;03m# Get the (total outgoing links)    \u001b[39;00m\n\u001b[0;32m---> 17\u001b[0m counts \u001b[38;5;241m=\u001b[39m \u001b[43mspark\u001b[49m\u001b[38;5;241;43m.\u001b[39;49m\u001b[43mcreateDataFrame\u001b[49m\u001b[43m(\u001b[49m\u001b[43mcontribs\u001b[49m\u001b[38;5;241;43m.\u001b[39;49m\u001b[43mgroupBy\u001b[49m\u001b[43m(\u001b[49m\u001b[38;5;124;43m\"\u001b[39;49m\u001b[38;5;124;43msource\u001b[39;49m\u001b[38;5;124;43m\"\u001b[39;49m\u001b[43m)\u001b[49m\u001b[38;5;241;43m.\u001b[39;49m\u001b[43mcount\u001b[49m\u001b[43m(\u001b[49m\u001b[43m)\u001b[49m\u001b[38;5;241;43m.\u001b[39;49m\u001b[43mcollect\u001b[49m\u001b[43m(\u001b[49m\u001b[43m)\u001b[49m\u001b[43m)\u001b[49m\n\u001b[1;32m     18\u001b[0m contribs \u001b[38;5;241m=\u001b[39m contribs\u001b[38;5;241m.\u001b[39mjoin(counts, [\u001b[38;5;124m'\u001b[39m\u001b[38;5;124msource\u001b[39m\u001b[38;5;124m'\u001b[39m])\n\u001b[1;32m     19\u001b[0m \u001b[38;5;66;03m# contribs.show()\u001b[39;00m\n\u001b[1;32m     20\u001b[0m \n\u001b[1;32m     21\u001b[0m \u001b[38;5;66;03m# Get link value (1 outgoing link)/(total outgoing links)\u001b[39;00m\n",
      "File \u001b[0;32m~/miniconda3/envs/spark/lib/python3.12/site-packages/pyspark/sql/session.py:1443\u001b[0m, in \u001b[0;36mSparkSession.createDataFrame\u001b[0;34m(self, data, schema, samplingRatio, verifySchema)\u001b[0m\n\u001b[1;32m   1438\u001b[0m \u001b[38;5;28;01mif\u001b[39;00m has_pandas \u001b[38;5;129;01mand\u001b[39;00m \u001b[38;5;28misinstance\u001b[39m(data, pd\u001b[38;5;241m.\u001b[39mDataFrame):\n\u001b[1;32m   1439\u001b[0m     \u001b[38;5;66;03m# Create a DataFrame from pandas DataFrame.\u001b[39;00m\n\u001b[1;32m   1440\u001b[0m     \u001b[38;5;28;01mreturn\u001b[39;00m \u001b[38;5;28msuper\u001b[39m(SparkSession, \u001b[38;5;28mself\u001b[39m)\u001b[38;5;241m.\u001b[39mcreateDataFrame(  \u001b[38;5;66;03m# type: ignore[call-overload]\u001b[39;00m\n\u001b[1;32m   1441\u001b[0m         data, schema, samplingRatio, verifySchema\n\u001b[1;32m   1442\u001b[0m     )\n\u001b[0;32m-> 1443\u001b[0m \u001b[38;5;28;01mreturn\u001b[39;00m \u001b[38;5;28;43mself\u001b[39;49m\u001b[38;5;241;43m.\u001b[39;49m\u001b[43m_create_dataframe\u001b[49m\u001b[43m(\u001b[49m\n\u001b[1;32m   1444\u001b[0m \u001b[43m    \u001b[49m\u001b[43mdata\u001b[49m\u001b[43m,\u001b[49m\u001b[43m \u001b[49m\u001b[43mschema\u001b[49m\u001b[43m,\u001b[49m\u001b[43m \u001b[49m\u001b[43msamplingRatio\u001b[49m\u001b[43m,\u001b[49m\u001b[43m \u001b[49m\u001b[43mverifySchema\u001b[49m\u001b[43m  \u001b[49m\u001b[38;5;66;43;03m# type: ignore[arg-type]\u001b[39;49;00m\n\u001b[1;32m   1445\u001b[0m \u001b[43m\u001b[49m\u001b[43m)\u001b[49m\n",
      "File \u001b[0;32m~/miniconda3/envs/spark/lib/python3.12/site-packages/pyspark/sql/session.py:1485\u001b[0m, in \u001b[0;36mSparkSession._create_dataframe\u001b[0;34m(self, data, schema, samplingRatio, verifySchema)\u001b[0m\n\u001b[1;32m   1483\u001b[0m     rdd, struct \u001b[38;5;241m=\u001b[39m \u001b[38;5;28mself\u001b[39m\u001b[38;5;241m.\u001b[39m_createFromRDD(data\u001b[38;5;241m.\u001b[39mmap(prepare), schema, samplingRatio)\n\u001b[1;32m   1484\u001b[0m \u001b[38;5;28;01melse\u001b[39;00m:\n\u001b[0;32m-> 1485\u001b[0m     rdd, struct \u001b[38;5;241m=\u001b[39m \u001b[38;5;28;43mself\u001b[39;49m\u001b[38;5;241;43m.\u001b[39;49m\u001b[43m_createFromLocal\u001b[49m\u001b[43m(\u001b[49m\u001b[38;5;28;43mmap\u001b[39;49m\u001b[43m(\u001b[49m\u001b[43mprepare\u001b[49m\u001b[43m,\u001b[49m\u001b[43m \u001b[49m\u001b[43mdata\u001b[49m\u001b[43m)\u001b[49m\u001b[43m,\u001b[49m\u001b[43m \u001b[49m\u001b[43mschema\u001b[49m\u001b[43m)\u001b[49m\n\u001b[1;32m   1486\u001b[0m \u001b[38;5;28;01massert\u001b[39;00m \u001b[38;5;28mself\u001b[39m\u001b[38;5;241m.\u001b[39m_jvm \u001b[38;5;129;01mis\u001b[39;00m \u001b[38;5;129;01mnot\u001b[39;00m \u001b[38;5;28;01mNone\u001b[39;00m\n\u001b[1;32m   1487\u001b[0m jrdd \u001b[38;5;241m=\u001b[39m \u001b[38;5;28mself\u001b[39m\u001b[38;5;241m.\u001b[39m_jvm\u001b[38;5;241m.\u001b[39mSerDeUtil\u001b[38;5;241m.\u001b[39mtoJavaArray(rdd\u001b[38;5;241m.\u001b[39m_to_java_object_rdd())\n",
      "File \u001b[0;32m~/miniconda3/envs/spark/lib/python3.12/site-packages/pyspark/sql/session.py:1093\u001b[0m, in \u001b[0;36mSparkSession._createFromLocal\u001b[0;34m(self, data, schema)\u001b[0m\n\u001b[1;32m   1090\u001b[0m     data \u001b[38;5;241m=\u001b[39m \u001b[38;5;28mlist\u001b[39m(data)\n\u001b[1;32m   1092\u001b[0m \u001b[38;5;28;01mif\u001b[39;00m schema \u001b[38;5;129;01mis\u001b[39;00m \u001b[38;5;28;01mNone\u001b[39;00m \u001b[38;5;129;01mor\u001b[39;00m \u001b[38;5;28misinstance\u001b[39m(schema, (\u001b[38;5;28mlist\u001b[39m, \u001b[38;5;28mtuple\u001b[39m)):\n\u001b[0;32m-> 1093\u001b[0m     struct \u001b[38;5;241m=\u001b[39m \u001b[38;5;28;43mself\u001b[39;49m\u001b[38;5;241;43m.\u001b[39;49m\u001b[43m_inferSchemaFromList\u001b[49m\u001b[43m(\u001b[49m\u001b[43mdata\u001b[49m\u001b[43m,\u001b[49m\u001b[43m \u001b[49m\u001b[43mnames\u001b[49m\u001b[38;5;241;43m=\u001b[39;49m\u001b[43mschema\u001b[49m\u001b[43m)\u001b[49m\n\u001b[1;32m   1094\u001b[0m     converter \u001b[38;5;241m=\u001b[39m _create_converter(struct)\n\u001b[1;32m   1095\u001b[0m     tupled_data: Iterable[Tuple] \u001b[38;5;241m=\u001b[39m \u001b[38;5;28mmap\u001b[39m(converter, data)\n",
      "File \u001b[0;32m~/miniconda3/envs/spark/lib/python3.12/site-packages/pyspark/sql/session.py:948\u001b[0m, in \u001b[0;36mSparkSession._inferSchemaFromList\u001b[0;34m(self, data, names)\u001b[0m\n\u001b[1;32m    933\u001b[0m \u001b[38;5;250m\u001b[39m\u001b[38;5;124;03m\"\"\"\u001b[39;00m\n\u001b[1;32m    934\u001b[0m \u001b[38;5;124;03mInfer schema from list of Row, dict, or tuple.\u001b[39;00m\n\u001b[1;32m    935\u001b[0m \n\u001b[0;32m   (...)\u001b[0m\n\u001b[1;32m    945\u001b[0m \u001b[38;5;124;03m:class:`pyspark.sql.types.StructType`\u001b[39;00m\n\u001b[1;32m    946\u001b[0m \u001b[38;5;124;03m\"\"\"\u001b[39;00m\n\u001b[1;32m    947\u001b[0m \u001b[38;5;28;01mif\u001b[39;00m \u001b[38;5;129;01mnot\u001b[39;00m data:\n\u001b[0;32m--> 948\u001b[0m     \u001b[38;5;28;01mraise\u001b[39;00m PySparkValueError(\n\u001b[1;32m    949\u001b[0m         error_class\u001b[38;5;241m=\u001b[39m\u001b[38;5;124m\"\u001b[39m\u001b[38;5;124mCANNOT_INFER_EMPTY_SCHEMA\u001b[39m\u001b[38;5;124m\"\u001b[39m,\n\u001b[1;32m    950\u001b[0m         message_parameters\u001b[38;5;241m=\u001b[39m{},\n\u001b[1;32m    951\u001b[0m     )\n\u001b[1;32m    952\u001b[0m infer_dict_as_struct \u001b[38;5;241m=\u001b[39m \u001b[38;5;28mself\u001b[39m\u001b[38;5;241m.\u001b[39m_jconf\u001b[38;5;241m.\u001b[39minferDictAsStruct()\n\u001b[1;32m    953\u001b[0m infer_array_from_first_element \u001b[38;5;241m=\u001b[39m \u001b[38;5;28mself\u001b[39m\u001b[38;5;241m.\u001b[39m_jconf\u001b[38;5;241m.\u001b[39mlegacyInferArrayTypeFromFirstElement()\n",
      "\u001b[0;31mPySparkValueError\u001b[0m: [CANNOT_INFER_EMPTY_SCHEMA] Can not infer schema from empty dataset."
     ]
    }
   ],
   "source": [
    "def pagerank(vertexInfo, edgeInfo, iterations=3, tolerance=1e-06, damping=0.8):\n",
    "    # Total vertices\n",
    "    num_vertices = vertexInfo.count()\n",
    "    initial_rank = 1.0 / num_vertices\n",
    "    # Initialize with 1/N ranking\n",
    "    ranks = vertexGraph.withColumn(\"rank\", lit(initial_rank)).withColumnRenamed(\"vertices\", \"page\")\n",
    "    # rankGraph.show()\n",
    "\n",
    "    print(f\"Vertices: {num_vertices}, Initial Rank: {initial_rank}\")\n",
    "        \n",
    "    for _ in tqdm(range(iterations)):\n",
    "        # Get the Rankings\n",
    "        contribs = edgeInfo.join(ranks, edgeInfo.source == ranks.page).drop(\"page\")\n",
    "        contribs.show()\n",
    "        # \n",
    "        # Get the (total outgoing links)    \n",
    "        counts = spark.createDataFrame(contribs.groupBy(\"source\").count().collect())\n",
    "        contribs = contribs.join(counts, ['source'])\n",
    "        # contribs.show()\n",
    "        \n",
    "        # Get link value (1 outgoing link)/(total outgoing links)\n",
    "        contribs = contribs.withColumn(\"Contributions\", col(\"rank\")/col(\"count\"))\n",
    "        # contribs.show()\n",
    "        \n",
    "        # Get sum of link values of incoming links for a dest node\n",
    "        aggregated_contribs = contribs.groupBy(\"dest\").agg(spark_sum(\"Contributions\").alias(\"sum_contrib\"))\n",
    "        # aggregated_contribs.show()\n",
    "        \n",
    "        ranks = aggregated_contribs.withColumn(\"rank\", lit((1 - damping) / num_vertices) +\n",
    "                                                damping * col(\"sum_contrib\")).select(col(\"dest\").alias(\"page\"), \"rank\")\n",
    "        ranks.show()\n",
    "        \n",
    "    ranks = vertexGraph.join(ranks, vertexGraph.vertices == ranks.page, how=\"left\").select(vertexGraph.vertices, ranks.rank).na.fill((1 - damping) / num_vertices, [\"rank\"])\n",
    "\n",
    "    return ranks\n",
    "\n",
    "pagerank(vertexInfo=vertexGraph, edgeInfo=edgeGraph).show()"
   ]
  },
  {
   "cell_type": "code",
   "execution_count": null,
   "metadata": {},
   "outputs": [],
   "source": []
  }
 ],
 "metadata": {
  "kernelspec": {
   "display_name": "Python 3",
   "language": "python",
   "name": "python3"
  },
  "language_info": {
   "codemirror_mode": {
    "name": "ipython",
    "version": 3
   },
   "file_extension": ".py",
   "mimetype": "text/x-python",
   "name": "python",
   "nbconvert_exporter": "python",
   "pygments_lexer": "ipython3",
   "version": "3.12.3"
  }
 },
 "nbformat": 4,
 "nbformat_minor": 2
}
